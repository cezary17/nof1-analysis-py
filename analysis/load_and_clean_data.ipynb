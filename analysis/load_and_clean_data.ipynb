{
 "cells": [
  {
   "cell_type": "code",
   "id": "initial_id",
   "metadata": {
    "collapsed": true,
    "ExecuteTime": {
     "end_time": "2025-08-29T13:00:02.095150Z",
     "start_time": "2025-08-29T13:00:02.093069Z"
    }
   },
   "source": [
    "import polars as pl\n",
    "import datetime as dt"
   ],
   "outputs": [],
   "execution_count": 115
  },
  {
   "metadata": {
    "ExecuteTime": {
     "end_time": "2025-08-29T13:00:02.110177Z",
     "start_time": "2025-08-29T13:00:02.107472Z"
    }
   },
   "cell_type": "code",
   "source": [
    "apple_watch_tag = \"Cezary’s Apple Watch\"\n",
    "\n",
    "# experiment_start_date = \"2025-05-12\"\n",
    "# experiment_end_date = \"2025-06-06\" # maybe add monday 7th\n",
    "\n",
    "# additional_week_start_date = \"2025-06-30\"\n",
    "# additional_week_end_date = \"2025-07-06\" # maybe add monday 7th\n",
    "\n",
    "experiment_start_date = pl.datetime(2025, 5, 11, 16, time_zone=\"UTC\")\n",
    "experiment_end_date = pl.datetime(2025, 6, 8, 16, time_zone=\"UTC\")\n",
    "additional_week_start_date = pl.datetime(2025, 6, 29, 16, time_zone=\"UTC\")\n",
    "additional_week_end_date = pl.datetime(2025, 7, 6, 16, time_zone=\"UTC\")\n",
    "\n",
    "AWAKE_TAG = \"HKCategoryValueSleepAnalysisAwake\"\n",
    "ASLEEP_TAG = \"HKCategoryValueSleepAnalysisAsleepUnspecified\"\n",
    "ASLEEP_CORE_TAG = \"HKCategoryValueSleepAnalysisAsleepCore\"\n",
    "ASLEEP_REM_TAG = \"HKCategoryValueSleepAnalysisAsleepREM\"\n",
    "ASLEEP_DEEP_TAG = \"HKCategoryValueSleepAnalysisAsleepDeep\"\n",
    "IN_BED_TAG = \"HKCategoryValueSleepAnalysisInBed\"\n",
    "\n",
    "TREATMENT_WEEKS = [20, 22]\n",
    "CONTROL_WEEKS = [21, 23, 27]"
   ],
   "id": "23e143b9f7285cda",
   "outputs": [],
   "execution_count": 116
  },
  {
   "metadata": {
    "ExecuteTime": {
     "end_time": "2025-08-29T13:00:02.142242Z",
     "start_time": "2025-08-29T13:00:02.118135Z"
    }
   },
   "cell_type": "code",
   "source": [
    "df = pl.read_csv(\"../data/raw/raw_export.csv\")\n",
    "df = df.filter(pl.col(\"source_name\") == apple_watch_tag)\n",
    "df = df.with_columns(\n",
    "    pl.col(\"start_date\").str.to_datetime().alias(\"start_date_parsed_utc\"),\n",
    "    pl.col(\"end_date\").str.to_datetime().alias(\"end_date_parsed_utc\"),\n",
    "    pl.col(\"range\").str.extract(r\"(\\d+) days (\\d+):(\\d+):(\\d+)\", 1).cast(pl.Int32).alias(\"days\"),\n",
    "    pl.col(\"range\").str.extract(r\"(\\d+) days (\\d+):(\\d+):(\\d+)\", 2).cast(pl.Int32).alias(\"hours\"),\n",
    "    pl.col(\"range\").str.extract(r\"(\\d+) days (\\d+):(\\d+):(\\d+)\", 3).cast(pl.Int32).alias(\"minutes\"),\n",
    "    pl.col(\"range\").str.extract(r\"(\\d+) days (\\d+):(\\d+):(\\d+)\", 4).cast(pl.Int32).alias(\"seconds\")\n",
    ").with_columns([\n",
    "    # Convert to total minutes\n",
    "    (pl.col(\"days\") * 24 * 60 +\n",
    "     pl.col(\"hours\") * 60 +\n",
    "     pl.col(\"minutes\") +\n",
    "     pl.col(\"seconds\") / 60.0).alias(\"duration_minutes\")\n",
    "])\n",
    "df"
   ],
   "id": "b3befce502417575",
   "outputs": [
    {
     "data": {
      "text/plain": [
       "shape: (28_718, 17)\n",
       "┌──────────────┬──────────────┬──────────────┬──────┬───┬───────┬─────────┬─────────┬──────────────┐\n",
       "│ type         ┆ source_name  ┆ source_versi ┆ unit ┆ … ┆ hours ┆ minutes ┆ seconds ┆ duration_min │\n",
       "│ ---          ┆ ---          ┆ on           ┆ ---  ┆   ┆ ---   ┆ ---     ┆ ---     ┆ utes         │\n",
       "│ str          ┆ str          ┆ ---          ┆ str  ┆   ┆ i32   ┆ i32     ┆ i32     ┆ ---          │\n",
       "│              ┆              ┆ str          ┆      ┆   ┆       ┆         ┆         ┆ f64          │\n",
       "╞══════════════╪══════════════╪══════════════╪══════╪═══╪═══════╪═════════╪═════════╪══════════════╡\n",
       "│ HKCategoryTy ┆ Cezary’s     ┆ 8.3          ┆ null ┆ … ┆ 0     ┆ 20      ┆ 30      ┆ 20.5         │\n",
       "│ peIdentifier ┆ Apple Watch  ┆              ┆      ┆   ┆       ┆         ┆         ┆              │\n",
       "│ SleepA…      ┆              ┆              ┆      ┆   ┆       ┆         ┆         ┆              │\n",
       "│ HKCategoryTy ┆ Cezary’s     ┆ 8.3          ┆ null ┆ … ┆ 2     ┆ 25      ┆ 0       ┆ 145.0        │\n",
       "│ peIdentifier ┆ Apple Watch  ┆              ┆      ┆   ┆       ┆         ┆         ┆              │\n",
       "│ SleepA…      ┆              ┆              ┆      ┆   ┆       ┆         ┆         ┆              │\n",
       "│ HKCategoryTy ┆ Cezary’s     ┆ 8.3          ┆ null ┆ … ┆ 5     ┆ 14      ┆ 30      ┆ 314.5        │\n",
       "│ peIdentifier ┆ Apple Watch  ┆              ┆      ┆   ┆       ┆         ┆         ┆              │\n",
       "│ SleepA…      ┆              ┆              ┆      ┆   ┆       ┆         ┆         ┆              │\n",
       "│ HKCategoryTy ┆ Cezary’s     ┆ 8.3          ┆ null ┆ … ┆ 0     ┆ 59      ┆ 30      ┆ 59.5         │\n",
       "│ peIdentifier ┆ Apple Watch  ┆              ┆      ┆   ┆       ┆         ┆         ┆              │\n",
       "│ SleepA…      ┆              ┆              ┆      ┆   ┆       ┆         ┆         ┆              │\n",
       "│ HKCategoryTy ┆ Cezary’s     ┆ 8.3          ┆ null ┆ … ┆ 0     ┆ 43      ┆ 30      ┆ 43.5         │\n",
       "│ peIdentifier ┆ Apple Watch  ┆              ┆      ┆   ┆       ┆         ┆         ┆              │\n",
       "│ SleepA…      ┆              ┆              ┆      ┆   ┆       ┆         ┆         ┆              │\n",
       "│ …            ┆ …            ┆ …            ┆ …    ┆ … ┆ …     ┆ …       ┆ …       ┆ …            │\n",
       "│ HKCategoryTy ┆ Cezary’s     ┆ 11.5         ┆ null ┆ … ┆ 0     ┆ 4       ┆ 30      ┆ 4.5          │\n",
       "│ peIdentifier ┆ Apple Watch  ┆              ┆      ┆   ┆       ┆         ┆         ┆              │\n",
       "│ SleepA…      ┆              ┆              ┆      ┆   ┆       ┆         ┆         ┆              │\n",
       "│ HKCategoryTy ┆ Cezary’s     ┆ 11.5         ┆ null ┆ … ┆ 0     ┆ 1       ┆ 30      ┆ 1.5          │\n",
       "│ peIdentifier ┆ Apple Watch  ┆              ┆      ┆   ┆       ┆         ┆         ┆              │\n",
       "│ SleepA…      ┆              ┆              ┆      ┆   ┆       ┆         ┆         ┆              │\n",
       "│ HKCategoryTy ┆ Cezary’s     ┆ 11.5         ┆ null ┆ … ┆ 0     ┆ 3       ┆ 30      ┆ 3.5          │\n",
       "│ peIdentifier ┆ Apple Watch  ┆              ┆      ┆   ┆       ┆         ┆         ┆              │\n",
       "│ SleepA…      ┆              ┆              ┆      ┆   ┆       ┆         ┆         ┆              │\n",
       "│ HKCategoryTy ┆ Cezary’s     ┆ 11.5         ┆ null ┆ … ┆ 0     ┆ 0       ┆ 30      ┆ 0.5          │\n",
       "│ peIdentifier ┆ Apple Watch  ┆              ┆      ┆   ┆       ┆         ┆         ┆              │\n",
       "│ SleepA…      ┆              ┆              ┆      ┆   ┆       ┆         ┆         ┆              │\n",
       "│ HKCategoryTy ┆ Cezary’s     ┆ 11.5         ┆ null ┆ … ┆ 0     ┆ 24      ┆ 0       ┆ 24.0         │\n",
       "│ peIdentifier ┆ Apple Watch  ┆              ┆      ┆   ┆       ┆         ┆         ┆              │\n",
       "│ SleepA…      ┆              ┆              ┆      ┆   ┆       ┆         ┆         ┆              │\n",
       "└──────────────┴──────────────┴──────────────┴──────┴───┴───────┴─────────┴─────────┴──────────────┘"
      ],
      "text/html": [
       "<div><style>\n",
       ".dataframe > thead > tr,\n",
       ".dataframe > tbody > tr {\n",
       "  text-align: right;\n",
       "  white-space: pre-wrap;\n",
       "}\n",
       "</style>\n",
       "<small>shape: (28_718, 17)</small><table border=\"1\" class=\"dataframe\"><thead><tr><th>type</th><th>source_name</th><th>source_version</th><th>unit</th><th>creation_date</th><th>start_date</th><th>end_date</th><th>value</th><th>timezone</th><th>range</th><th>start_date_parsed_utc</th><th>end_date_parsed_utc</th><th>days</th><th>hours</th><th>minutes</th><th>seconds</th><th>duration_minutes</th></tr><tr><td>str</td><td>str</td><td>str</td><td>str</td><td>str</td><td>str</td><td>str</td><td>str</td><td>str</td><td>str</td><td>datetime[μs, UTC]</td><td>datetime[μs, UTC]</td><td>i32</td><td>i32</td><td>i32</td><td>i32</td><td>f64</td></tr></thead><tbody><tr><td>&quot;HKCategoryTypeIdentifierSleepA…</td><td>&quot;Cezary’s Apple Watch&quot;</td><td>&quot;8.3&quot;</td><td>null</td><td>&quot;2022-02-22 10:54:08+02:00&quot;</td><td>&quot;2022-02-22 02:10:51+02:00&quot;</td><td>&quot;2022-02-22 02:31:21+02:00&quot;</td><td>&quot;HKCategoryValueSleepAnalysisAs…</td><td>&quot;Europe/Berlin&quot;</td><td>&quot;0 days 00:20:30&quot;</td><td>2022-02-22 00:10:51 UTC</td><td>2022-02-22 00:31:21 UTC</td><td>0</td><td>0</td><td>20</td><td>30</td><td>20.5</td></tr><tr><td>&quot;HKCategoryTypeIdentifierSleepA…</td><td>&quot;Cezary’s Apple Watch&quot;</td><td>&quot;8.3&quot;</td><td>null</td><td>&quot;2022-02-22 10:54:08+02:00&quot;</td><td>&quot;2022-02-22 03:13:51+02:00&quot;</td><td>&quot;2022-02-22 05:38:51+02:00&quot;</td><td>&quot;HKCategoryValueSleepAnalysisAs…</td><td>&quot;Europe/Berlin&quot;</td><td>&quot;0 days 02:25:00&quot;</td><td>2022-02-22 01:13:51 UTC</td><td>2022-02-22 03:38:51 UTC</td><td>0</td><td>2</td><td>25</td><td>0</td><td>145.0</td></tr><tr><td>&quot;HKCategoryTypeIdentifierSleepA…</td><td>&quot;Cezary’s Apple Watch&quot;</td><td>&quot;8.3&quot;</td><td>null</td><td>&quot;2022-02-22 10:54:08+02:00&quot;</td><td>&quot;2022-02-22 05:40:21+02:00&quot;</td><td>&quot;2022-02-22 10:54:51+02:00&quot;</td><td>&quot;HKCategoryValueSleepAnalysisAs…</td><td>&quot;Europe/Berlin&quot;</td><td>&quot;0 days 05:14:30&quot;</td><td>2022-02-22 03:40:21 UTC</td><td>2022-02-22 08:54:51 UTC</td><td>0</td><td>5</td><td>14</td><td>30</td><td>314.5</td></tr><tr><td>&quot;HKCategoryTypeIdentifierSleepA…</td><td>&quot;Cezary’s Apple Watch&quot;</td><td>&quot;8.3&quot;</td><td>null</td><td>&quot;2022-02-23 10:00:24+02:00&quot;</td><td>&quot;2022-02-23 04:41:21+02:00&quot;</td><td>&quot;2022-02-23 05:40:51+02:00&quot;</td><td>&quot;HKCategoryValueSleepAnalysisAs…</td><td>&quot;Europe/Berlin&quot;</td><td>&quot;0 days 00:59:30&quot;</td><td>2022-02-23 02:41:21 UTC</td><td>2022-02-23 03:40:51 UTC</td><td>0</td><td>0</td><td>59</td><td>30</td><td>59.5</td></tr><tr><td>&quot;HKCategoryTypeIdentifierSleepA…</td><td>&quot;Cezary’s Apple Watch&quot;</td><td>&quot;8.3&quot;</td><td>null</td><td>&quot;2022-02-23 10:00:24+02:00&quot;</td><td>&quot;2022-02-23 05:45:21+02:00&quot;</td><td>&quot;2022-02-23 06:28:51+02:00&quot;</td><td>&quot;HKCategoryValueSleepAnalysisAs…</td><td>&quot;Europe/Berlin&quot;</td><td>&quot;0 days 00:43:30&quot;</td><td>2022-02-23 03:45:21 UTC</td><td>2022-02-23 04:28:51 UTC</td><td>0</td><td>0</td><td>43</td><td>30</td><td>43.5</td></tr><tr><td>&hellip;</td><td>&hellip;</td><td>&hellip;</td><td>&hellip;</td><td>&hellip;</td><td>&hellip;</td><td>&hellip;</td><td>&hellip;</td><td>&hellip;</td><td>&hellip;</td><td>&hellip;</td><td>&hellip;</td><td>&hellip;</td><td>&hellip;</td><td>&hellip;</td><td>&hellip;</td><td>&hellip;</td></tr><tr><td>&quot;HKCategoryTypeIdentifierSleepA…</td><td>&quot;Cezary’s Apple Watch&quot;</td><td>&quot;11.5&quot;</td><td>null</td><td>&quot;2025-08-27 09:56:59+02:00&quot;</td><td>&quot;2025-08-27 09:22:22+02:00&quot;</td><td>&quot;2025-08-27 09:26:52+02:00&quot;</td><td>&quot;HKCategoryValueSleepAnalysisAs…</td><td>&quot;Europe/Berlin&quot;</td><td>&quot;0 days 00:04:30&quot;</td><td>2025-08-27 07:22:22 UTC</td><td>2025-08-27 07:26:52 UTC</td><td>0</td><td>0</td><td>4</td><td>30</td><td>4.5</td></tr><tr><td>&quot;HKCategoryTypeIdentifierSleepA…</td><td>&quot;Cezary’s Apple Watch&quot;</td><td>&quot;11.5&quot;</td><td>null</td><td>&quot;2025-08-27 09:56:59+02:00&quot;</td><td>&quot;2025-08-27 09:26:52+02:00&quot;</td><td>&quot;2025-08-27 09:28:22+02:00&quot;</td><td>&quot;HKCategoryValueSleepAnalysisAw…</td><td>&quot;Europe/Berlin&quot;</td><td>&quot;0 days 00:01:30&quot;</td><td>2025-08-27 07:26:52 UTC</td><td>2025-08-27 07:28:22 UTC</td><td>0</td><td>0</td><td>1</td><td>30</td><td>1.5</td></tr><tr><td>&quot;HKCategoryTypeIdentifierSleepA…</td><td>&quot;Cezary’s Apple Watch&quot;</td><td>&quot;11.5&quot;</td><td>null</td><td>&quot;2025-08-27 09:56:59+02:00&quot;</td><td>&quot;2025-08-27 09:28:22+02:00&quot;</td><td>&quot;2025-08-27 09:31:52+02:00&quot;</td><td>&quot;HKCategoryValueSleepAnalysisAs…</td><td>&quot;Europe/Berlin&quot;</td><td>&quot;0 days 00:03:30&quot;</td><td>2025-08-27 07:28:22 UTC</td><td>2025-08-27 07:31:52 UTC</td><td>0</td><td>0</td><td>3</td><td>30</td><td>3.5</td></tr><tr><td>&quot;HKCategoryTypeIdentifierSleepA…</td><td>&quot;Cezary’s Apple Watch&quot;</td><td>&quot;11.5&quot;</td><td>null</td><td>&quot;2025-08-27 09:56:59+02:00&quot;</td><td>&quot;2025-08-27 09:31:52+02:00&quot;</td><td>&quot;2025-08-27 09:32:22+02:00&quot;</td><td>&quot;HKCategoryValueSleepAnalysisAw…</td><td>&quot;Europe/Berlin&quot;</td><td>&quot;0 days 00:00:30&quot;</td><td>2025-08-27 07:31:52 UTC</td><td>2025-08-27 07:32:22 UTC</td><td>0</td><td>0</td><td>0</td><td>30</td><td>0.5</td></tr><tr><td>&quot;HKCategoryTypeIdentifierSleepA…</td><td>&quot;Cezary’s Apple Watch&quot;</td><td>&quot;11.5&quot;</td><td>null</td><td>&quot;2025-08-27 09:56:59+02:00&quot;</td><td>&quot;2025-08-27 09:32:22+02:00&quot;</td><td>&quot;2025-08-27 09:56:22+02:00&quot;</td><td>&quot;HKCategoryValueSleepAnalysisAs…</td><td>&quot;Europe/Berlin&quot;</td><td>&quot;0 days 00:24:00&quot;</td><td>2025-08-27 07:32:22 UTC</td><td>2025-08-27 07:56:22 UTC</td><td>0</td><td>0</td><td>24</td><td>0</td><td>24.0</td></tr></tbody></table></div>"
      ]
     },
     "execution_count": 117,
     "metadata": {},
     "output_type": "execute_result"
    }
   ],
   "execution_count": 117
  },
  {
   "metadata": {
    "ExecuteTime": {
     "end_time": "2025-08-29T13:00:02.164601Z",
     "start_time": "2025-08-29T13:00:02.157253Z"
    }
   },
   "cell_type": "code",
   "source": [
    "main_experiment_df = df.filter(\n",
    "    ((pl.col(\"start_date_parsed_utc\") >= experiment_start_date) & (pl.col(\"end_date_parsed_utc\") <= experiment_end_date))\n",
    "    | ((pl.col(\"start_date_parsed_utc\") >= additional_week_start_date) & (pl.col(\"end_date_parsed_utc\") <= additional_week_end_date))\n",
    ")\n",
    "main_experiment_df = main_experiment_df.with_columns(\n",
    "    pl.when(pl.col(\"start_date_parsed_utc\").dt.hour() < 20)\n",
    "    .then(pl.col(\"start_date_parsed_utc\").dt.date())\n",
    "    .otherwise(pl.col(\"start_date_parsed_utc\").dt.date() + pl.duration(days=1))\n",
    "    .alias(\"sleep_day\")\n",
    ").with_columns(\n",
    "    pl.col(\"sleep_day\").dt.week().alias(\"calendar_week\")\n",
    ").with_columns(\n",
    "    pl.when(pl.col(\"calendar_week\").is_in(TREATMENT_WEEKS))\n",
    "    .then(pl.lit(\"treatment\"))\n",
    "    .when(pl.col(\"calendar_week\").is_in(CONTROL_WEEKS))\n",
    "    .then(pl.lit(\"control\"))\n",
    "    .otherwise(pl.lit(\"outside_experiment\"))\n",
    "    .alias(\"experiment_group\")\n",
    ")"
   ],
   "id": "eed96414c51429db",
   "outputs": [],
   "execution_count": 118
  },
  {
   "metadata": {
    "ExecuteTime": {
     "end_time": "2025-08-29T13:00:02.178668Z",
     "start_time": "2025-08-29T13:00:02.176807Z"
    }
   },
   "cell_type": "code",
   "source": [
    "additional_week_data = main_experiment_df.filter(\n",
    "    (pl.col(\"sleep_day\") >= pl.date(2025, 6, 3)) &\n",
    "    (pl.col(\"sleep_day\") <= pl.date(2025, 6, 7))\n",
    ")"
   ],
   "id": "a55e2f2a2e5292b1",
   "outputs": [],
   "execution_count": 119
  },
  {
   "metadata": {
    "ExecuteTime": {
     "end_time": "2025-08-29T13:00:02.200597Z",
     "start_time": "2025-08-29T13:00:02.196801Z"
    }
   },
   "cell_type": "code",
   "source": [
    "sleep_summary = main_experiment_df.group_by(\"sleep_day\").agg([\n",
    "    # Duration by each sleep tag (in minutes)\n",
    "    pl.col(\"duration_minutes\").filter(pl.col(\"value\") == AWAKE_TAG).sum().alias(\"awake_duration_mins\"),\n",
    "    pl.col(\"duration_minutes\").filter(pl.col(\"value\") == ASLEEP_TAG).sum().alias(\"asleep_unspecified_duration_mins\"),\n",
    "    pl.col(\"duration_minutes\").filter(pl.col(\"value\") == ASLEEP_CORE_TAG).sum().alias(\"asleep_core_duration_mins\"),\n",
    "    pl.col(\"duration_minutes\").filter(pl.col(\"value\") == ASLEEP_REM_TAG).sum().alias(\"asleep_rem_duration_mins\"),\n",
    "    pl.col(\"duration_minutes\").filter(pl.col(\"value\") == ASLEEP_DEEP_TAG).sum().alias(\"asleep_deep_duration_mins\"),\n",
    "\n",
    "    # Total sleep duration (all asleep tags combined)\n",
    "    pl.col(\"duration_minutes\").filter(\n",
    "        pl.col(\"value\").is_in([ASLEEP_TAG, ASLEEP_CORE_TAG, ASLEEP_REM_TAG, ASLEEP_DEEP_TAG])\n",
    "    ).sum().alias(\"total_sleep_duration_mins\"),\n",
    "\n",
    "    # Total time in bed (including awake time)\n",
    "    pl.col(\"duration_minutes\").sum().alias(\"total_time_in_bed_mins\"),\n",
    "\n",
    "    # Sleep period times\n",
    "    pl.col(\"start_date_parsed_utc\").min().alias(\"sleep_period_start\"),\n",
    "    pl.col(\"start_date_parsed_utc\").max().alias(\"sleep_period_end\"),\n",
    "    pl.col(\"calendar_week\").first(),\n",
    "    pl.col(\"experiment_group\").first(),\n",
    "]).sort(\"sleep_day\")\n",
    "sleep_summary"
   ],
   "id": "e86d32a1ee3f8c7c",
   "outputs": [
    {
     "data": {
      "text/plain": [
       "shape: (34, 12)\n",
       "┌───────────┬───────────┬───────────┬───────────┬───┬───────────┬───────────┬───────────┬──────────┐\n",
       "│ sleep_day ┆ awake_dur ┆ asleep_un ┆ asleep_co ┆ … ┆ sleep_per ┆ sleep_per ┆ calendar_ ┆ experime │\n",
       "│ ---       ┆ ation_min ┆ specified ┆ re_durati ┆   ┆ iod_start ┆ iod_end   ┆ week      ┆ nt_group │\n",
       "│ date      ┆ s         ┆ _duration ┆ on_mins   ┆   ┆ ---       ┆ ---       ┆ ---       ┆ ---      │\n",
       "│           ┆ ---       ┆ _mi…      ┆ ---       ┆   ┆ datetime[ ┆ datetime[ ┆ i8        ┆ str      │\n",
       "│           ┆ f64       ┆ ---       ┆ f64       ┆   ┆ μs, UTC]  ┆ μs, UTC]  ┆           ┆          │\n",
       "│           ┆           ┆ f64       ┆           ┆   ┆           ┆           ┆           ┆          │\n",
       "╞═══════════╪═══════════╪═══════════╪═══════════╪═══╪═══════════╪═══════════╪═══════════╪══════════╡\n",
       "│ 2025-05-1 ┆ 46.0      ┆ 0.0       ┆ 240.5     ┆ … ┆ 2025-05-1 ┆ 2025-05-1 ┆ 20        ┆ treatmen │\n",
       "│ 2         ┆           ┆           ┆           ┆   ┆ 1         ┆ 2         ┆           ┆ t        │\n",
       "│           ┆           ┆           ┆           ┆   ┆ 22:52:07  ┆ 05:44:37  ┆           ┆          │\n",
       "│           ┆           ┆           ┆           ┆   ┆ UTC       ┆ UTC       ┆           ┆          │\n",
       "│ 2025-05-1 ┆ 17.5      ┆ 0.0       ┆ 351.0     ┆ … ┆ 2025-05-1 ┆ 2025-05-1 ┆ 20        ┆ treatmen │\n",
       "│ 3         ┆           ┆           ┆           ┆   ┆ 2         ┆ 3         ┆           ┆ t        │\n",
       "│           ┆           ┆           ┆           ┆   ┆ 20:48:43  ┆ 05:12:13  ┆           ┆          │\n",
       "│           ┆           ┆           ┆           ┆   ┆ UTC       ┆ UTC       ┆           ┆          │\n",
       "│ 2025-05-1 ┆ 11.0      ┆ 0.0       ┆ 265.5     ┆ … ┆ 2025-05-1 ┆ 2025-05-1 ┆ 20        ┆ treatmen │\n",
       "│ 4         ┆           ┆           ┆           ┆   ┆ 3         ┆ 4         ┆           ┆ t        │\n",
       "│           ┆           ┆           ┆           ┆   ┆ 22:51:58  ┆ 05:17:28  ┆           ┆          │\n",
       "│           ┆           ┆           ┆           ┆   ┆ UTC       ┆ UTC       ┆           ┆          │\n",
       "│ 2025-05-1 ┆ 24.0      ┆ 0.0       ┆ 287.0     ┆ … ┆ 2025-05-1 ┆ 2025-05-1 ┆ 20        ┆ treatmen │\n",
       "│ 5         ┆           ┆           ┆           ┆   ┆ 4         ┆ 5         ┆           ┆ t        │\n",
       "│           ┆           ┆           ┆           ┆   ┆ 21:37:25  ┆ 05:38:55  ┆           ┆          │\n",
       "│           ┆           ┆           ┆           ┆   ┆ UTC       ┆ UTC       ┆           ┆          │\n",
       "│ 2025-05-1 ┆ 54.0      ┆ 84.0      ┆ 301.5     ┆ … ┆ 2025-05-1 ┆ 2025-05-1 ┆ 20        ┆ treatmen │\n",
       "│ 6         ┆           ┆           ┆           ┆   ┆ 5         ┆ 6         ┆           ┆ t        │\n",
       "│           ┆           ┆           ┆           ┆   ┆ 21:29:17  ┆ 07:21:02  ┆           ┆          │\n",
       "│           ┆           ┆           ┆           ┆   ┆ UTC       ┆ UTC       ┆           ┆          │\n",
       "│ …         ┆ …         ┆ …         ┆ …         ┆ … ┆ …         ┆ …         ┆ …         ┆ …        │\n",
       "│ 2025-07-0 ┆ 4.0       ┆ 0.0       ┆ 265.0     ┆ … ┆ 2025-07-0 ┆ 2025-07-0 ┆ 27        ┆ control  │\n",
       "│ 2         ┆           ┆           ┆           ┆   ┆ 1         ┆ 2         ┆           ┆          │\n",
       "│           ┆           ┆           ┆           ┆   ┆ 23:45:37  ┆ 06:06:07  ┆           ┆          │\n",
       "│           ┆           ┆           ┆           ┆   ┆ UTC       ┆ UTC       ┆           ┆          │\n",
       "│ 2025-07-0 ┆ 6.0       ┆ 0.0       ┆ 245.5     ┆ … ┆ 2025-07-0 ┆ 2025-07-0 ┆ 27        ┆ control  │\n",
       "│ 3         ┆           ┆           ┆           ┆   ┆ 2         ┆ 3         ┆           ┆          │\n",
       "│           ┆           ┆           ┆           ┆   ┆ 23:56:42  ┆ 06:07:12  ┆           ┆          │\n",
       "│           ┆           ┆           ┆           ┆   ┆ UTC       ┆ UTC       ┆           ┆          │\n",
       "│ 2025-07-0 ┆ 24.5      ┆ 113.5     ┆ 221.0     ┆ … ┆ 2025-07-0 ┆ 2025-07-0 ┆ 27        ┆ control  │\n",
       "│ 4         ┆           ┆           ┆           ┆   ┆ 3         ┆ 4         ┆           ┆          │\n",
       "│           ┆           ┆           ┆           ┆   ┆ 23:45:32  ┆ 08:43:59  ┆           ┆          │\n",
       "│           ┆           ┆           ┆           ┆   ┆ UTC       ┆ UTC       ┆           ┆          │\n",
       "│ 2025-07-0 ┆ 5.5       ┆ 0.0       ┆ 214.0     ┆ … ┆ 2025-07-0 ┆ 2025-07-0 ┆ 27        ┆ control  │\n",
       "│ 5         ┆           ┆           ┆           ┆   ┆ 4         ┆ 5         ┆           ┆          │\n",
       "│           ┆           ┆           ┆           ┆   ┆ 23:30:14  ┆ 05:57:14  ┆           ┆          │\n",
       "│           ┆           ┆           ┆           ┆   ┆ UTC       ┆ UTC       ┆           ┆          │\n",
       "│ 2025-07-0 ┆ 2.5       ┆ 0.0       ┆ 277.5     ┆ … ┆ 2025-07-0 ┆ 2025-07-0 ┆ 27        ┆ control  │\n",
       "│ 6         ┆           ┆           ┆           ┆   ┆ 5         ┆ 6         ┆           ┆          │\n",
       "│           ┆           ┆           ┆           ┆   ┆ 23:50:08  ┆ 07:18:38  ┆           ┆          │\n",
       "│           ┆           ┆           ┆           ┆   ┆ UTC       ┆ UTC       ┆           ┆          │\n",
       "└───────────┴───────────┴───────────┴───────────┴───┴───────────┴───────────┴───────────┴──────────┘"
      ],
      "text/html": [
       "<div><style>\n",
       ".dataframe > thead > tr,\n",
       ".dataframe > tbody > tr {\n",
       "  text-align: right;\n",
       "  white-space: pre-wrap;\n",
       "}\n",
       "</style>\n",
       "<small>shape: (34, 12)</small><table border=\"1\" class=\"dataframe\"><thead><tr><th>sleep_day</th><th>awake_duration_mins</th><th>asleep_unspecified_duration_mins</th><th>asleep_core_duration_mins</th><th>asleep_rem_duration_mins</th><th>asleep_deep_duration_mins</th><th>total_sleep_duration_mins</th><th>total_time_in_bed_mins</th><th>sleep_period_start</th><th>sleep_period_end</th><th>calendar_week</th><th>experiment_group</th></tr><tr><td>date</td><td>f64</td><td>f64</td><td>f64</td><td>f64</td><td>f64</td><td>f64</td><td>f64</td><td>datetime[μs, UTC]</td><td>datetime[μs, UTC]</td><td>i8</td><td>str</td></tr></thead><tbody><tr><td>2025-05-12</td><td>46.0</td><td>0.0</td><td>240.5</td><td>84.0</td><td>45.0</td><td>369.5</td><td>415.5</td><td>2025-05-11 22:52:07 UTC</td><td>2025-05-12 05:44:37 UTC</td><td>20</td><td>&quot;treatment&quot;</td></tr><tr><td>2025-05-13</td><td>17.5</td><td>0.0</td><td>351.0</td><td>97.0</td><td>66.0</td><td>514.0</td><td>531.5</td><td>2025-05-12 20:48:43 UTC</td><td>2025-05-13 05:12:13 UTC</td><td>20</td><td>&quot;treatment&quot;</td></tr><tr><td>2025-05-14</td><td>11.0</td><td>0.0</td><td>265.5</td><td>93.5</td><td>48.0</td><td>407.0</td><td>418.0</td><td>2025-05-13 22:51:58 UTC</td><td>2025-05-14 05:17:28 UTC</td><td>20</td><td>&quot;treatment&quot;</td></tr><tr><td>2025-05-15</td><td>24.0</td><td>0.0</td><td>287.0</td><td>108.0</td><td>66.0</td><td>461.0</td><td>485.0</td><td>2025-05-14 21:37:25 UTC</td><td>2025-05-15 05:38:55 UTC</td><td>20</td><td>&quot;treatment&quot;</td></tr><tr><td>2025-05-16</td><td>54.0</td><td>84.0</td><td>301.5</td><td>76.0</td><td>76.5</td><td>538.0</td><td>592.0</td><td>2025-05-15 21:29:17 UTC</td><td>2025-05-16 07:21:02 UTC</td><td>20</td><td>&quot;treatment&quot;</td></tr><tr><td>&hellip;</td><td>&hellip;</td><td>&hellip;</td><td>&hellip;</td><td>&hellip;</td><td>&hellip;</td><td>&hellip;</td><td>&hellip;</td><td>&hellip;</td><td>&hellip;</td><td>&hellip;</td><td>&hellip;</td></tr><tr><td>2025-07-02</td><td>4.0</td><td>0.0</td><td>265.0</td><td>104.5</td><td>30.0</td><td>399.5</td><td>403.5</td><td>2025-07-01 23:45:37 UTC</td><td>2025-07-02 06:06:07 UTC</td><td>27</td><td>&quot;control&quot;</td></tr><tr><td>2025-07-03</td><td>6.0</td><td>0.0</td><td>245.5</td><td>95.5</td><td>47.0</td><td>388.0</td><td>394.0</td><td>2025-07-02 23:56:42 UTC</td><td>2025-07-03 06:07:12 UTC</td><td>27</td><td>&quot;control&quot;</td></tr><tr><td>2025-07-04</td><td>24.5</td><td>113.5</td><td>221.0</td><td>91.0</td><td>88.5</td><td>514.0</td><td>538.5</td><td>2025-07-03 23:45:32 UTC</td><td>2025-07-04 08:43:59 UTC</td><td>27</td><td>&quot;control&quot;</td></tr><tr><td>2025-07-05</td><td>5.5</td><td>0.0</td><td>214.0</td><td>94.5</td><td>77.0</td><td>385.5</td><td>391.0</td><td>2025-07-04 23:30:14 UTC</td><td>2025-07-05 05:57:14 UTC</td><td>27</td><td>&quot;control&quot;</td></tr><tr><td>2025-07-06</td><td>2.5</td><td>0.0</td><td>277.5</td><td>143.5</td><td>59.0</td><td>480.0</td><td>482.5</td><td>2025-07-05 23:50:08 UTC</td><td>2025-07-06 07:18:38 UTC</td><td>27</td><td>&quot;control&quot;</td></tr></tbody></table></div>"
      ]
     },
     "execution_count": 120,
     "metadata": {},
     "output_type": "execute_result"
    }
   ],
   "execution_count": 120
  },
  {
   "metadata": {
    "ExecuteTime": {
     "end_time": "2025-08-29T13:00:02.224108Z",
     "start_time": "2025-08-29T13:00:02.222072Z"
    }
   },
   "cell_type": "code",
   "source": "sleep_summary.write_csv(\"../data/processed/cleaned_sleep_data_experiment.csv\")",
   "id": "d70a822e934a525a",
   "outputs": [],
   "execution_count": 121
  },
  {
   "metadata": {
    "ExecuteTime": {
     "end_time": "2025-08-29T13:00:02.240884Z",
     "start_time": "2025-08-29T13:00:02.239805Z"
    }
   },
   "cell_type": "code",
   "source": "",
   "id": "afae9ca0227923f6",
   "outputs": [],
   "execution_count": null
  },
  {
   "metadata": {},
   "cell_type": "markdown",
   "source": "## Filter dataset to check if the values are normally distributed\n",
   "id": "f4b8fc7301803a7f"
  },
  {
   "metadata": {
    "ExecuteTime": {
     "end_time": "2025-08-29T13:00:02.255043Z",
     "start_time": "2025-08-29T13:00:02.253529Z"
    }
   },
   "cell_type": "code",
   "source": [
    "start = pl.datetime(2022, 9, 14, 16, time_zone=\"UTC\")\n",
    "end = pl.datetime(2025, 5, 10, 16, time_zone=\"UTC\")"
   ],
   "id": "57656fed38a5ee11",
   "outputs": [],
   "execution_count": 122
  },
  {
   "metadata": {
    "ExecuteTime": {
     "end_time": "2025-08-29T13:00:02.281254Z",
     "start_time": "2025-08-29T13:00:02.272621Z"
    }
   },
   "cell_type": "code",
   "source": [
    "normal_df = (df.filter(\n",
    "    (pl.col(\"start_date_parsed_utc\") >= start) &\n",
    "    (pl.col(\"end_date_parsed_utc\") <= end)\n",
    ").with_columns(\n",
    "    pl.when(pl.col(\"start_date_parsed_utc\").dt.hour() < 20)\n",
    "    .then(pl.col(\"start_date_parsed_utc\").dt.date())\n",
    "    .otherwise(pl.col(\"start_date_parsed_utc\").dt.date() + pl.duration(days=1))\n",
    "    .alias(\"sleep_day\")\n",
    ").group_by(\"sleep_day\").agg([\n",
    "    pl.col(\"duration_minutes\").filter(pl.col(\"value\") == AWAKE_TAG).sum().alias(\"awake_duration_mins\"),\n",
    "    pl.col(\"duration_minutes\").filter(pl.col(\"value\") == ASLEEP_TAG).sum().alias(\"asleep_unspecified_duration_mins\"),\n",
    "    pl.col(\"duration_minutes\").filter(pl.col(\"value\") == ASLEEP_CORE_TAG).sum().alias(\"asleep_core_duration_mins\"),\n",
    "    pl.col(\"duration_minutes\").filter(pl.col(\"value\") == ASLEEP_REM_TAG).sum().alias(\"asleep_rem_duration_mins\"),\n",
    "    pl.col(\"duration_minutes\").filter(pl.col(\"value\") == ASLEEP_DEEP_TAG).sum().alias(\"asleep_deep_duration_mins\"),\n",
    "    # pl.col(\"duration_minutes\").filter(pl.col(\"value\") == IN_BED_TAG).sum().alias(\"in_bed_duration_mins\"),\n",
    "\n",
    "    # Total sleep duration (all asleep tags combined)\n",
    "    pl.col(\"duration_minutes\").filter(\n",
    "        pl.col(\"value\").is_in([ASLEEP_TAG, ASLEEP_CORE_TAG, ASLEEP_REM_TAG, ASLEEP_DEEP_TAG])\n",
    "    ).sum().alias(\"total_sleep_duration_mins\"),\n",
    "\n",
    "    # Total time in bed (including awake time)\n",
    "    pl.col(\"duration_minutes\").sum().alias(\"total_time_in_bed_mins\"),\n",
    "\n",
    "    # Sleep period times\n",
    "    pl.col(\"start_date_parsed_utc\").min().alias(\"sleep_period_start\"),\n",
    "    pl.col(\"start_date_parsed_utc\").max().alias(\"sleep_period_end\"),\n",
    "]).filter(\n",
    "    # pl.col(\"in_bed_duration_mins\") == 0  # filter out days with no \"in bed\" data since they occur when AW couldn't track properly\n",
    ").sort(\"sleep_day\"))"
   ],
   "id": "92ccf1bb619f9f12",
   "outputs": [],
   "execution_count": 123
  },
  {
   "metadata": {
    "ExecuteTime": {
     "end_time": "2025-08-29T13:00:02.286040Z",
     "start_time": "2025-08-29T13:00:02.284236Z"
    }
   },
   "cell_type": "code",
   "source": "len(normal_df)",
   "id": "ab0fccc9b99c41ff",
   "outputs": [
    {
     "data": {
      "text/plain": [
       "824"
      ]
     },
     "execution_count": 124,
     "metadata": {},
     "output_type": "execute_result"
    }
   ],
   "execution_count": 124
  },
  {
   "metadata": {
    "ExecuteTime": {
     "end_time": "2025-08-29T13:00:02.292734Z",
     "start_time": "2025-08-29T13:00:02.290433Z"
    }
   },
   "cell_type": "code",
   "source": "normal_df.write_csv(\"../data/processed/cleaned_normal_data_experiment.csv\")",
   "id": "ed19d946bf6da4dd",
   "outputs": [],
   "execution_count": 125
  }
 ],
 "metadata": {
  "kernelspec": {
   "display_name": "nof1-analysis-py",
   "language": "python",
   "name": "nof1-analysis-py"
  },
  "language_info": {
   "codemirror_mode": {
    "name": "ipython",
    "version": 2
   },
   "file_extension": ".py",
   "mimetype": "text/x-python",
   "name": "python",
   "nbconvert_exporter": "python",
   "pygments_lexer": "ipython2",
   "version": "2.7.6"
  }
 },
 "nbformat": 4,
 "nbformat_minor": 5
}
