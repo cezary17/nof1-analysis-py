{
 "cells": [
  {
   "cell_type": "code",
   "id": "initial_imports",
   "metadata": {
    "ExecuteTime": {
     "end_time": "2025-08-31T18:42:47.371429Z",
     "start_time": "2025-08-31T18:42:47.367723Z"
    }
   },
   "source": [
    "import polars as pl\n",
    "from scipy import stats\n",
    "from scipy.stats import mannwhitneyu\n",
    "import matplotlib.pyplot as plt\n",
    "import seaborn as sns\n",
    "import numpy as np\n",
    "from pathlib import Path\n",
    "import matplotlib.dates as mdates"
   ],
   "outputs": [],
   "execution_count": 49
  },
  {
   "cell_type": "markdown",
   "id": "title",
   "metadata": {},
   "source": [
    "## Mann-Whitney U Test on Stress/Wellbeing Data\n",
    "\n",
    "This notebook performs statistical analysis on stress/wellbeing measurements comparing treatment and control groups."
   ]
  },
  {
   "metadata": {
    "ExecuteTime": {
     "end_time": "2025-08-31T18:42:47.405166Z",
     "start_time": "2025-08-31T18:42:47.378463Z"
    }
   },
   "cell_type": "code",
   "source": [
    "# Load the stress data\n",
    "df = pl.read_csv(\"../data/processed/cleaned_stress_data.csv\", try_parse_dates=True)\n",
    "df"
   ],
   "id": "load_data",
   "outputs": [
    {
     "data": {
      "text/plain": [
       "shape: (50, 8)\n",
       "┌────────────┬──────────┬────────────┬───────────┬────────────┬────────────┬───────────┬───────────┐\n",
       "│ date       ┆ time     ┆ wellbeing_ ┆ scale_1_5 ┆ datetime   ┆ emotion_sc ┆ experimen ┆ measureme │\n",
       "│ ---        ┆ ---      ┆ level      ┆ ---       ┆ ---        ┆ ore        ┆ t_group   ┆ nt_order  │\n",
       "│ date       ┆ time     ┆ ---        ┆ i64       ┆ datetime[μ ┆ ---        ┆ ---       ┆ ---       │\n",
       "│            ┆          ┆ str        ┆           ┆ s]         ┆ i64        ┆ str       ┆ i64       │\n",
       "╞════════════╪══════════╪════════════╪═══════════╪════════════╪════════════╪═══════════╪═══════════╡\n",
       "│ 2025-06-09 ┆ 03:00:00 ┆ Neutral    ┆ 3         ┆ 2025-06-08 ┆ 4          ┆ control   ┆ 2         │\n",
       "│            ┆          ┆            ┆           ┆ 18:00:00   ┆            ┆           ┆           │\n",
       "│ 2025-06-08 ┆ 23:59:00 ┆ Pleasant   ┆ 4         ┆ 2025-06-08 ┆ 6          ┆ control   ┆ 1         │\n",
       "│            ┆          ┆            ┆           ┆ 14:59:00   ┆            ┆           ┆           │\n",
       "│ 2025-06-08 ┆ 05:50:00 ┆ Pleasant   ┆ 4         ┆ 2025-06-07 ┆ 6          ┆ control   ┆ 2         │\n",
       "│            ┆          ┆            ┆           ┆ 20:50:00   ┆            ┆           ┆           │\n",
       "│ 2025-06-07 ┆ 23:44:00 ┆ Very       ┆ 5         ┆ 2025-06-07 ┆ 7          ┆ control   ┆ 1         │\n",
       "│            ┆          ┆ Pleasant   ┆           ┆ 14:44:00   ┆            ┆           ┆           │\n",
       "│ 2025-06-07 ┆ 03:03:00 ┆ Slightly   ┆ 4         ┆ 2025-06-06 ┆ 5          ┆ control   ┆ 2         │\n",
       "│            ┆          ┆ Pleasant   ┆           ┆ 18:03:00   ┆            ┆           ┆           │\n",
       "│ …          ┆ …        ┆ …          ┆ …         ┆ …          ┆ …          ┆ …         ┆ …         │\n",
       "│ 2025-05-14 ┆ 14:01:00 ┆ Neutral    ┆ 3         ┆ 2025-05-14 ┆ 4          ┆ treatment ┆ 1         │\n",
       "│            ┆          ┆            ┆           ┆ 14:01:00   ┆            ┆           ┆           │\n",
       "│ 2025-05-13 ┆ 18:00:00 ┆ Slightly   ┆ 4         ┆ 2025-05-13 ┆ 5          ┆ treatment ┆ 2         │\n",
       "│            ┆          ┆ Pleasant   ┆           ┆ 18:00:00   ┆            ┆           ┆           │\n",
       "│ 2025-05-13 ┆ 14:00:00 ┆ Unpleasant ┆ 2         ┆ 2025-05-13 ┆ 2          ┆ treatment ┆ 1         │\n",
       "│            ┆          ┆            ┆           ┆ 14:00:00   ┆            ┆           ┆           │\n",
       "│ 2025-05-12 ┆ 18:01:00 ┆ Pleasant   ┆ 4         ┆ 2025-05-12 ┆ 6          ┆ treatment ┆ 2         │\n",
       "│            ┆          ┆            ┆           ┆ 18:01:00   ┆            ┆           ┆           │\n",
       "│ 2025-05-12 ┆ 14:00:00 ┆ Pleasant   ┆ 4         ┆ 2025-05-12 ┆ 6          ┆ treatment ┆ 1         │\n",
       "│            ┆          ┆            ┆           ┆ 14:00:00   ┆            ┆           ┆           │\n",
       "└────────────┴──────────┴────────────┴───────────┴────────────┴────────────┴───────────┴───────────┘"
      ],
      "text/html": [
       "<div><style>\n",
       ".dataframe > thead > tr,\n",
       ".dataframe > tbody > tr {\n",
       "  text-align: right;\n",
       "  white-space: pre-wrap;\n",
       "}\n",
       "</style>\n",
       "<small>shape: (50, 8)</small><table border=\"1\" class=\"dataframe\"><thead><tr><th>date</th><th>time</th><th>wellbeing_level</th><th>scale_1_5</th><th>datetime</th><th>emotion_score</th><th>experiment_group</th><th>measurement_order</th></tr><tr><td>date</td><td>time</td><td>str</td><td>i64</td><td>datetime[μs]</td><td>i64</td><td>str</td><td>i64</td></tr></thead><tbody><tr><td>2025-06-09</td><td>03:00:00</td><td>&quot;Neutral&quot;</td><td>3</td><td>2025-06-08 18:00:00</td><td>4</td><td>&quot;control&quot;</td><td>2</td></tr><tr><td>2025-06-08</td><td>23:59:00</td><td>&quot;Pleasant&quot;</td><td>4</td><td>2025-06-08 14:59:00</td><td>6</td><td>&quot;control&quot;</td><td>1</td></tr><tr><td>2025-06-08</td><td>05:50:00</td><td>&quot;Pleasant&quot;</td><td>4</td><td>2025-06-07 20:50:00</td><td>6</td><td>&quot;control&quot;</td><td>2</td></tr><tr><td>2025-06-07</td><td>23:44:00</td><td>&quot;Very Pleasant&quot;</td><td>5</td><td>2025-06-07 14:44:00</td><td>7</td><td>&quot;control&quot;</td><td>1</td></tr><tr><td>2025-06-07</td><td>03:03:00</td><td>&quot;Slightly Pleasant&quot;</td><td>4</td><td>2025-06-06 18:03:00</td><td>5</td><td>&quot;control&quot;</td><td>2</td></tr><tr><td>&hellip;</td><td>&hellip;</td><td>&hellip;</td><td>&hellip;</td><td>&hellip;</td><td>&hellip;</td><td>&hellip;</td><td>&hellip;</td></tr><tr><td>2025-05-14</td><td>14:01:00</td><td>&quot;Neutral&quot;</td><td>3</td><td>2025-05-14 14:01:00</td><td>4</td><td>&quot;treatment&quot;</td><td>1</td></tr><tr><td>2025-05-13</td><td>18:00:00</td><td>&quot;Slightly Pleasant&quot;</td><td>4</td><td>2025-05-13 18:00:00</td><td>5</td><td>&quot;treatment&quot;</td><td>2</td></tr><tr><td>2025-05-13</td><td>14:00:00</td><td>&quot;Unpleasant&quot;</td><td>2</td><td>2025-05-13 14:00:00</td><td>2</td><td>&quot;treatment&quot;</td><td>1</td></tr><tr><td>2025-05-12</td><td>18:01:00</td><td>&quot;Pleasant&quot;</td><td>4</td><td>2025-05-12 18:01:00</td><td>6</td><td>&quot;treatment&quot;</td><td>2</td></tr><tr><td>2025-05-12</td><td>14:00:00</td><td>&quot;Pleasant&quot;</td><td>4</td><td>2025-05-12 14:00:00</td><td>6</td><td>&quot;treatment&quot;</td><td>1</td></tr></tbody></table></div>"
      ]
     },
     "execution_count": 50,
     "metadata": {},
     "output_type": "execute_result"
    }
   ],
   "execution_count": 50
  },
  {
   "metadata": {
    "ExecuteTime": {
     "end_time": "2025-08-31T18:42:47.444791Z",
     "start_time": "2025-08-31T18:42:47.428163Z"
    }
   },
   "cell_type": "code",
   "source": [
    "# Overview of the data\n",
    "print(\"Data shape:\", df.shape)\n",
    "print(\"\\nColumns:\", df.columns)\n",
    "print(\"\\nExperiment groups:\")\n",
    "print(df.group_by(\"experiment_group\").len())\n",
    "print(\"\\nWellbeing levels:\")\n",
    "print(df.group_by(\"wellbeing_level\").len().sort(\"wellbeing_level\"))\n",
    "print(\"\\nEmotion score range:\")\n",
    "print(df.group_by(\"emotion_score\").len().sort(\"emotion_score\"))"
   ],
   "id": "data_overview",
   "outputs": [
    {
     "name": "stdout",
     "output_type": "stream",
     "text": [
      "Data shape: (50, 8)\n",
      "\n",
      "Columns: ['date', 'time', 'wellbeing_level', 'scale_1_5', 'datetime', 'emotion_score', 'experiment_group', 'measurement_order']\n",
      "\n",
      "Experiment groups:\n",
      "shape: (2, 2)\n",
      "┌──────────────────┬─────┐\n",
      "│ experiment_group ┆ len │\n",
      "│ ---              ┆ --- │\n",
      "│ str              ┆ u32 │\n",
      "╞══════════════════╪═════╡\n",
      "│ treatment        ┆ 25  │\n",
      "│ control          ┆ 25  │\n",
      "└──────────────────┴─────┘\n",
      "\n",
      "Wellbeing levels:\n",
      "shape: (6, 2)\n",
      "┌─────────────────────┬─────┐\n",
      "│ wellbeing_level     ┆ len │\n",
      "│ ---                 ┆ --- │\n",
      "│ str                 ┆ u32 │\n",
      "╞═════════════════════╪═════╡\n",
      "│ Neutral             ┆ 11  │\n",
      "│ Pleasant            ┆ 12  │\n",
      "│ Slightly Pleasant   ┆ 17  │\n",
      "│ Slightly Unpleasant ┆ 5   │\n",
      "│ Unpleasant          ┆ 3   │\n",
      "│ Very Pleasant       ┆ 2   │\n",
      "└─────────────────────┴─────┘\n",
      "\n",
      "Emotion score range:\n",
      "shape: (6, 2)\n",
      "┌───────────────┬─────┐\n",
      "│ emotion_score ┆ len │\n",
      "│ ---           ┆ --- │\n",
      "│ i64           ┆ u32 │\n",
      "╞═══════════════╪═════╡\n",
      "│ 2             ┆ 3   │\n",
      "│ 3             ┆ 5   │\n",
      "│ 4             ┆ 11  │\n",
      "│ 5             ┆ 17  │\n",
      "│ 6             ┆ 12  │\n",
      "│ 7             ┆ 2   │\n",
      "└───────────────┴─────┘\n"
     ]
    }
   ],
   "execution_count": 51
  },
  {
   "metadata": {
    "ExecuteTime": {
     "end_time": "2025-08-31T18:42:47.476294Z",
     "start_time": "2025-08-31T18:42:47.471300Z"
    }
   },
   "cell_type": "code",
   "source": [
    "treatment_data = df.filter(pl.col(\"experiment_group\") == \"treatment\")\n",
    "control_data = df.filter(pl.col(\"experiment_group\") == \"control\")"
   ],
   "id": "split_groups",
   "outputs": [],
   "execution_count": 52
  },
  {
   "cell_type": "code",
   "id": "extract_variables",
   "metadata": {
    "ExecuteTime": {
     "end_time": "2025-08-31T18:42:47.520444Z",
     "start_time": "2025-08-31T18:42:47.517747Z"
    }
   },
   "source": [
    "emotion_treatment = treatment_data[\"emotion_score\"].to_numpy()\n",
    "emotion_control = control_data[\"emotion_score\"].to_numpy()"
   ],
   "outputs": [],
   "execution_count": 53
  },
  {
   "cell_type": "code",
   "id": "mannwhitney_tests",
   "metadata": {
    "ExecuteTime": {
     "end_time": "2025-08-31T18:42:47.551819Z",
     "start_time": "2025-08-31T18:42:47.545145Z"
    }
   },
   "source": "# Perform Mann-Whitney U tests\nprint(\"=== Mann-Whitney U Test Results ===\\n\")\n\n# Emotion score test\nemotion_stat, emotion_p = mannwhitneyu(emotion_treatment, emotion_control, alternative='two-sided')\nprint(\"Emotion Score:\")\nprint(f\"  Treatment median: {np.median(emotion_treatment):.2f}\")\nprint(f\"  Control median: {np.median(emotion_control):.2f}\")\nprint(f\"  U-statistic: {emotion_stat:.2f}\")\nprint(f\"  p-value: {emotion_p:.6f}\")\nprint(f\"  Significant (α=0.05): {'Yes' if emotion_p < 0.05 else 'No'}\")",
   "outputs": [
    {
     "name": "stdout",
     "output_type": "stream",
     "text": [
      "=== Mann-Whitney U Test Results ===\n",
      "\n",
      "Emotion Score:\n",
      "  Treatment median: 5.00\n",
      "  Control median: 5.00\n",
      "  U-statistic: 306.00\n",
      "  p-value: 0.904186\n",
      "  Significant (α=0.05): No\n"
     ]
    }
   ],
   "execution_count": 54
  },
  {
   "cell_type": "code",
   "id": "typst_table_function",
   "metadata": {
    "ExecuteTime": {
     "end_time": "2025-08-31T18:42:47.576587Z",
     "start_time": "2025-08-31T18:42:47.571987Z"
    }
   },
   "source": [
    "def create_stress_mannwhitney_typst_table(results_list):\n",
    "    \"\"\"Create a typst formatted table for Mann-Whitney U test results on stress data with improved formatting\"\"\"\n",
    "\n",
    "    typst_table = f\"\"\"#figure(\n",
    "  table(\n",
    "    columns: (1.3fr, 0.7fr, 0.7fr, 1fr, 1fr, 0.9fr, 0.8fr, 1.1fr),\n",
    "    align: (col, row) => {{\n",
    "      if row == 0 {{ center + horizon }}\n",
    "      else if col == 0 {{ left + horizon }}\n",
    "      else if col == 1 or col == 2 {{ center + horizon }}\n",
    "      else if col == 3 or col == 4 or col == 5 {{ right + horizon }}\n",
    "      else if col == 6 {{ right + horizon }}\n",
    "      else {{ center + horizon }}\n",
    "    }},\n",
    "    inset: (x: 6pt, y: 8pt),\n",
    "    stroke: (x, y) => {{\n",
    "      if y == 0 {{\n",
    "        (bottom: 2pt + black, rest: 0.75pt + gray.lighten(30%))\n",
    "      }}\n",
    "      else {{\n",
    "        (bottom: 0.4pt + gray.lighten(70%), rest: 0.75pt + gray.lighten(30%))\n",
    "      }}\n",
    "    }},\n",
    "    fill: (col, row) => {{\n",
    "      if row == 0 {{ blue.lighten(90%) }}\n",
    "      else if calc.odd(row) {{ gray.lighten(97%) }}\n",
    "      else {{ white }}\n",
    "    }},\n",
    "    table.header(\n",
    "      [*Variable*],\n",
    "      [*Treat. N*],\n",
    "      [*Ctrl. N*],\n",
    "      [*Treatment Median*],\n",
    "      [*Control Median*],\n",
    "      [*U-stat*],\n",
    "      [*p-value*],\n",
    "      [*Significance*]\n",
    "    ),\"\"\"\n",
    "\n",
    "    for result in results_list:\n",
    "        # Format numbers with appropriate precision\n",
    "        treatment_n = f\"{result['treatment_n']}\"\n",
    "        control_n = f\"{result['control_n']}\"\n",
    "\n",
    "        # Format medians with 3 significant digits (handle both string and numeric inputs)\n",
    "        try:\n",
    "            treatment_median = f\"{float(result['treatment_median']):.3g}\"\n",
    "        except (ValueError, TypeError):\n",
    "            treatment_median = str(result['treatment_median'])\n",
    "\n",
    "        try:\n",
    "            control_median = f\"{float(result['control_median']):.3g}\"\n",
    "        except (ValueError, TypeError):\n",
    "            control_median = str(result['control_median'])\n",
    "\n",
    "        # Format U-statistic as integer if it's a whole number (handle string inputs)\n",
    "        try:\n",
    "            u_stat = float(result['u_statistic'])\n",
    "            if u_stat.is_integer():\n",
    "                u_stat_str = f\"{int(u_stat)}\"\n",
    "            else:\n",
    "                u_stat_str = f\"{u_stat:.1f}\"\n",
    "        except (ValueError, TypeError):\n",
    "            u_stat_str = str(result['u_statistic'])\n",
    "\n",
    "        # Format p-value with appropriate precision (handle string inputs)\n",
    "        try:\n",
    "            p_val = float(result['p_value'])\n",
    "            if p_val < 0.001:\n",
    "                p_val_str = \"< 0.001\"\n",
    "            elif p_val < 0.01:\n",
    "                p_val_str = f\"{p_val:.3f}\"\n",
    "            else:\n",
    "                p_val_str = f\"{p_val:.3f}\"\n",
    "        except (ValueError, TypeError):\n",
    "            p_val_str = str(result['p_value'])\n",
    "\n",
    "        # Format result with color coding\n",
    "        result_text = result['result']\n",
    "        if 'significant' in result_text.lower() and 'not' not in result_text.lower():\n",
    "            result_formatted = f\"[#text(fill: red.darken(20%))[*{result_text}*]]\"\n",
    "        elif 'not significant' in result_text.lower():\n",
    "            result_formatted = f\"[#text(fill: gray.darken(30%))[{result_text}]]\"\n",
    "        else:\n",
    "            result_formatted = f\"[{result_text}]\"\n",
    "\n",
    "        typst_table += f\"\"\"\n",
    "    [*{result['variable']}*],\n",
    "    [{treatment_n}],\n",
    "    [{control_n}],\n",
    "    [{treatment_median}],\n",
    "    [{control_median}],\n",
    "    [{u_stat_str}],\n",
    "    [#{p_val_str}],\n",
    "    {result_formatted},\"\"\"\n",
    "\n",
    "    typst_table += \"\"\"\n",
    "  ),\n",
    "  caption: [Mann-Whitney U Test Results for Stress Variables by Treatment Group],\n",
    "  kind: table\n",
    ")\"\"\"\n",
    "\n",
    "    return typst_table\n",
    "\n",
    "    return typst_table\n",
    "\n",
    "def stress_mannwhitney_test_result(treatment_data, control_data, variable_name):\n",
    "    \"\"\"Perform Mann-Whitney U test and format results for stress data typst table\"\"\"\n",
    "\n",
    "    # Remove any NaN values\n",
    "    treatment_clean = treatment_data[~np.isnan(treatment_data)]\n",
    "    control_clean = control_data[~np.isnan(control_data)]\n",
    "\n",
    "    if len(treatment_clean) > 0 and len(control_clean) > 0:\n",
    "        # Perform Mann-Whitney U test\n",
    "        u_stat, p_value = mannwhitneyu(treatment_clean, control_clean, alternative='two-sided')\n",
    "\n",
    "        # Calculate medians\n",
    "        treatment_median = np.median(treatment_clean)\n",
    "        control_median = np.median(control_clean)\n",
    "\n",
    "        # Determine significance\n",
    "        result = 'Significant' if p_value < 0.05 else 'Not significant'\n",
    "\n",
    "        return {\n",
    "            'variable': variable_name.replace('_', ' ').title(),\n",
    "            'treatment_n': len(treatment_clean),\n",
    "            'control_n': len(control_clean),\n",
    "            'treatment_median': f\"{treatment_median:.2f}\",\n",
    "            'control_median': f\"{control_median:.2f}\",\n",
    "            'u_statistic': f\"{u_stat:.2f}\",\n",
    "            'p_value': f\"{p_value:.6f}\" if p_value >= 0.000001 else \"< 0.000001\",\n",
    "            'result': result\n",
    "        }\n",
    "    else:\n",
    "        return {\n",
    "            'variable': variable_name.replace('_', ' ').title(),\n",
    "            'treatment_n': len(treatment_clean),\n",
    "            'control_n': len(control_clean),\n",
    "            'treatment_median': 'N/A',\n",
    "            'control_median': 'N/A',\n",
    "            'u_statistic': 'N/A',\n",
    "            'p_value': 'N/A',\n",
    "            'result': 'Insufficient data'\n",
    "        }"
   ],
   "outputs": [],
   "execution_count": 55
  },
  {
   "cell_type": "code",
   "id": "generate_typst_table",
   "metadata": {
    "ExecuteTime": {
     "end_time": "2025-08-31T18:42:47.587755Z",
     "start_time": "2025-08-31T18:42:47.585617Z"
    }
   },
   "source": [
    "# Generate typst table for stress data analysis\n",
    "stress_results = [\n",
    "    stress_mannwhitney_test_result(emotion_treatment, emotion_control, \"emotion_score\")\n",
    "]\n",
    "\n",
    "stress_typst_table = create_stress_mannwhitney_typst_table(stress_results)\n",
    "print(stress_typst_table)"
   ],
   "outputs": [
    {
     "name": "stdout",
     "output_type": "stream",
     "text": [
      "#figure(\n",
      "  table(\n",
      "    columns: (1.3fr, 0.7fr, 0.7fr, 1fr, 1fr, 0.9fr, 0.8fr, 1.1fr),\n",
      "    align: (col, row) => {\n",
      "      if row == 0 { center + horizon }\n",
      "      else if col == 0 { left + horizon }\n",
      "      else if col == 1 or col == 2 { center + horizon }\n",
      "      else if col == 3 or col == 4 or col == 5 { right + horizon }\n",
      "      else if col == 6 { right + horizon }\n",
      "      else { center + horizon }\n",
      "    },\n",
      "    inset: (x: 6pt, y: 8pt),\n",
      "    stroke: (x, y) => {\n",
      "      if y == 0 {\n",
      "        (bottom: 2pt + black, rest: 0.75pt + gray.lighten(30%))\n",
      "      }\n",
      "      else {\n",
      "        (bottom: 0.4pt + gray.lighten(70%), rest: 0.75pt + gray.lighten(30%))\n",
      "      }\n",
      "    },\n",
      "    fill: (col, row) => {\n",
      "      if row == 0 { blue.lighten(90%) }\n",
      "      else if calc.odd(row) { gray.lighten(97%) }\n",
      "      else { white }\n",
      "    },\n",
      "    table.header(\n",
      "      [*Variable*],\n",
      "      [*Treat. N*],\n",
      "      [*Ctrl. N*],\n",
      "      [*Treatment Median*],\n",
      "      [*Control Median*],\n",
      "      [*U-stat*],\n",
      "      [*p-value*],\n",
      "      [*Significance*]\n",
      "    ),\n",
      "    [*Emotion Score*],\n",
      "    [25],\n",
      "    [25],\n",
      "    [5],\n",
      "    [5],\n",
      "    [306],\n",
      "    [#0.904],\n",
      "    [#text(fill: gray.darken(30%))[Not significant]],\n",
      "  ),\n",
      "  caption: [Mann-Whitney U Test Results for Stress Variables by Treatment Group],\n",
      "  kind: table\n",
      ")\n"
     ]
    }
   ],
   "execution_count": 56
  },
  {
   "metadata": {
    "ExecuteTime": {
     "end_time": "2025-08-31T18:42:47.608089Z",
     "start_time": "2025-08-31T18:42:47.602103Z"
    }
   },
   "cell_type": "code",
   "source": [
    "# Create descriptive statistics typst table\n",
    "def create_descriptive_stats_typst(df):\n",
    "    \"\"\"Create typst table with descriptive statistics for the dataset\"\"\"\n",
    "\n",
    "    # Calculate descriptive stats by group\n",
    "    desc_stats = df.group_by(\"experiment_group\").agg([\n",
    "        pl.col(\"emotion_score\").count().alias(\"n\"),\n",
    "        pl.col(\"emotion_score\").mean().alias(\"mean_emo\"),\n",
    "        pl.col(\"emotion_score\").median().alias(\"med_emo\"),\n",
    "        pl.col(\"emotion_score\").std().alias(\"sd_emo\"),\n",
    "        pl.col(\"scale_1_5\").mean().alias(\"mean_scale\"),\n",
    "        pl.col(\"scale_1_5\").median().alias(\"med_scale\"),\n",
    "        pl.col(\"scale_1_5\").std().alias(\"sd_scale\")\n",
    "    ]).sort(\"experiment_group\")\n",
    "\n",
    "    typst_table = \"\"\"#table(\n",
    "  columns: (auto, auto, auto, auto, auto, auto, auto, auto, auto),\n",
    "  inset: 6pt,\n",
    "  align: center + horizon,\n",
    "  stroke: 0.5pt,\n",
    "  table.header(\n",
    "    [*Group*], [*N*], [*Emo Mean*], [*Emo Med*], [*Emo SD*], [*Scale Mean*], [*Scale Med*], [*Scale SD*], [*Total*]\n",
    "  ),\"\"\"\n",
    "\n",
    "    total_n = df.height\n",
    "\n",
    "    for row in desc_stats.iter_rows(named=True):\n",
    "        group = row['experiment_group'].title()\n",
    "        n = row['n']\n",
    "        mean_emo = f\"{row['mean_emo']:.2f}\"\n",
    "        med_emo = f\"{row['med_emo']:.1f}\"\n",
    "        sd_emo = f\"{row['sd_emo']:.2f}\"\n",
    "        mean_scale = f\"{row['mean_scale']:.2f}\"\n",
    "        med_scale = f\"{row['med_scale']:.1f}\"\n",
    "        sd_scale = f\"{row['sd_scale']:.2f}\"\n",
    "\n",
    "        typst_table += f\"\\n  [{group}], [{n}], [{mean_emo}], [{med_emo}], [{sd_emo}], [{mean_scale}], [{med_scale}], [{sd_scale}], [],\"\"\"\n",
    "\n",
    "    # Add total row\n",
    "    total_mean_emo = df[\"emotion_score\"].mean()\n",
    "    total_med_emo = df[\"emotion_score\"].median()\n",
    "    total_sd_emo = df[\"emotion_score\"].std()\n",
    "    total_mean_scale = df[\"scale_1_5\"].mean()\n",
    "    total_med_scale = df[\"scale_1_5\"].median()\n",
    "    total_sd_scale = df[\"scale_1_5\"].std()\n",
    "\n",
    "    typst_table += f\"\\n  [*Total*], [*{total_n}*], [*{total_mean_emo:.2f}*], [*{total_med_emo:.1f}*], [*{total_sd_emo:.2f}*], [*{total_mean_scale:.2f}*], [*{total_med_scale:.1f}*], [*{total_sd_scale:.2f}*], [*{total_n}*],\"\n",
    "\n",
    "    typst_table += \"\\n)\"\n",
    "    return typst_table\n",
    "\n",
    "# Generate and display the descriptive statistics table\n",
    "desc_table = create_descriptive_stats_typst(df)\n",
    "print(desc_table)"
   ],
   "id": "z1bxzd8o2lc",
   "outputs": [
    {
     "name": "stdout",
     "output_type": "stream",
     "text": [
      "#table(\n",
      "  columns: (auto, auto, auto, auto, auto, auto, auto, auto, auto),\n",
      "  inset: 6pt,\n",
      "  align: center + horizon,\n",
      "  stroke: 0.5pt,\n",
      "  table.header(\n",
      "    [*Group*], [*N*], [*Emo Mean*], [*Emo Med*], [*Emo SD*], [*Scale Mean*], [*Scale Med*], [*Scale SD*], [*Total*]\n",
      "  ),\n",
      "  [Control], [25], [4.80], [5.0], [1.22], [3.48], [4.0], [0.87], [],\n",
      "  [Treatment], [25], [4.64], [5.0], [1.25], [3.52], [4.0], [0.77], [],\n",
      "  [*Total*], [*50*], [*4.72*], [*5.0*], [*1.23*], [*3.50*], [*4.0*], [*0.81*], [*50*],\n",
      ")\n"
     ]
    }
   ],
   "execution_count": 57
  }
 ],
 "metadata": {
  "kernelspec": {
   "display_name": "nof1-analysis-py",
   "language": "python",
   "name": "nof1-analysis-py"
  },
  "language_info": {
   "codemirror_mode": {
    "name": "ipython",
    "version": 3
   },
   "file_extension": ".py",
   "name": "python",
   "nbconvert_exporter": "python",
   "pygments_lexer": "ipython3",
   "version": "3.8.5"
  }
 },
 "nbformat": 4,
 "nbformat_minor": 5
}
