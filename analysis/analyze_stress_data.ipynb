{
 "cells": [
  {
   "cell_type": "code",
   "id": "initial_imports",
   "metadata": {
    "ExecuteTime": {
     "end_time": "2025-08-30T15:35:35.135363Z",
     "start_time": "2025-08-30T15:35:35.132927Z"
    }
   },
   "source": [
    "import polars as pl\n",
    "from scipy import stats\n",
    "from scipy.stats import mannwhitneyu\n",
    "import matplotlib.pyplot as plt\n",
    "import seaborn as sns\n",
    "import numpy as np\n",
    "from pathlib import Path\n",
    "import matplotlib.dates as mdates"
   ],
   "outputs": [],
   "execution_count": 17
  },
  {
   "cell_type": "markdown",
   "id": "title",
   "metadata": {},
   "source": [
    "## Mann-Whitney U Test on Stress/Wellbeing Data\n",
    "\n",
    "This notebook performs statistical analysis on stress/wellbeing measurements comparing treatment and control groups."
   ]
  },
  {
   "metadata": {
    "ExecuteTime": {
     "end_time": "2025-08-30T15:35:35.147719Z",
     "start_time": "2025-08-30T15:35:35.143063Z"
    }
   },
   "cell_type": "code",
   "outputs": [
    {
     "data": {
      "text/plain": [
       "shape: (50, 8)\n",
       "┌────────────┬──────────┬────────────┬───────────┬────────────┬────────────┬───────────┬───────────┐\n",
       "│ date       ┆ time     ┆ wellbeing_ ┆ scale_1_5 ┆ datetime   ┆ emotion_sc ┆ experimen ┆ measureme │\n",
       "│ ---        ┆ ---      ┆ level      ┆ ---       ┆ ---        ┆ ore        ┆ t_group   ┆ nt_order  │\n",
       "│ date       ┆ time     ┆ ---        ┆ i64       ┆ datetime[μ ┆ ---        ┆ ---       ┆ ---       │\n",
       "│            ┆          ┆ str        ┆           ┆ s]         ┆ i64        ┆ str       ┆ i64       │\n",
       "╞════════════╪══════════╪════════════╪═══════════╪════════════╪════════════╪═══════════╪═══════════╡\n",
       "│ 2025-06-09 ┆ 03:00:00 ┆ Neutral    ┆ 3         ┆ 2025-06-08 ┆ 4          ┆ control   ┆ 2         │\n",
       "│            ┆          ┆            ┆           ┆ 18:00:00   ┆            ┆           ┆           │\n",
       "│ 2025-06-08 ┆ 23:59:00 ┆ Pleasant   ┆ 4         ┆ 2025-06-08 ┆ 6          ┆ control   ┆ 1         │\n",
       "│            ┆          ┆            ┆           ┆ 14:59:00   ┆            ┆           ┆           │\n",
       "│ 2025-06-08 ┆ 05:50:00 ┆ Pleasant   ┆ 4         ┆ 2025-06-07 ┆ 6          ┆ control   ┆ 2         │\n",
       "│            ┆          ┆            ┆           ┆ 20:50:00   ┆            ┆           ┆           │\n",
       "│ 2025-06-07 ┆ 23:44:00 ┆ Very       ┆ 5         ┆ 2025-06-07 ┆ 7          ┆ control   ┆ 1         │\n",
       "│            ┆          ┆ Pleasant   ┆           ┆ 14:44:00   ┆            ┆           ┆           │\n",
       "│ 2025-06-07 ┆ 03:03:00 ┆ Slightly   ┆ 4         ┆ 2025-06-06 ┆ 5          ┆ control   ┆ 2         │\n",
       "│            ┆          ┆ Pleasant   ┆           ┆ 18:03:00   ┆            ┆           ┆           │\n",
       "│ …          ┆ …        ┆ …          ┆ …         ┆ …          ┆ …          ┆ …         ┆ …         │\n",
       "│ 2025-05-14 ┆ 14:01:00 ┆ Neutral    ┆ 3         ┆ 2025-05-14 ┆ 4          ┆ treatment ┆ 1         │\n",
       "│            ┆          ┆            ┆           ┆ 14:01:00   ┆            ┆           ┆           │\n",
       "│ 2025-05-13 ┆ 18:00:00 ┆ Slightly   ┆ 4         ┆ 2025-05-13 ┆ 5          ┆ treatment ┆ 2         │\n",
       "│            ┆          ┆ Pleasant   ┆           ┆ 18:00:00   ┆            ┆           ┆           │\n",
       "│ 2025-05-13 ┆ 14:00:00 ┆ Unpleasant ┆ 2         ┆ 2025-05-13 ┆ 2          ┆ treatment ┆ 1         │\n",
       "│            ┆          ┆            ┆           ┆ 14:00:00   ┆            ┆           ┆           │\n",
       "│ 2025-05-12 ┆ 18:01:00 ┆ Pleasant   ┆ 4         ┆ 2025-05-12 ┆ 6          ┆ treatment ┆ 2         │\n",
       "│            ┆          ┆            ┆           ┆ 18:01:00   ┆            ┆           ┆           │\n",
       "│ 2025-05-12 ┆ 14:00:00 ┆ Pleasant   ┆ 4         ┆ 2025-05-12 ┆ 6          ┆ treatment ┆ 1         │\n",
       "│            ┆          ┆            ┆           ┆ 14:00:00   ┆            ┆           ┆           │\n",
       "└────────────┴──────────┴────────────┴───────────┴────────────┴────────────┴───────────┴───────────┘"
      ],
      "text/html": [
       "<div><style>\n",
       ".dataframe > thead > tr,\n",
       ".dataframe > tbody > tr {\n",
       "  text-align: right;\n",
       "  white-space: pre-wrap;\n",
       "}\n",
       "</style>\n",
       "<small>shape: (50, 8)</small><table border=\"1\" class=\"dataframe\"><thead><tr><th>date</th><th>time</th><th>wellbeing_level</th><th>scale_1_5</th><th>datetime</th><th>emotion_score</th><th>experiment_group</th><th>measurement_order</th></tr><tr><td>date</td><td>time</td><td>str</td><td>i64</td><td>datetime[μs]</td><td>i64</td><td>str</td><td>i64</td></tr></thead><tbody><tr><td>2025-06-09</td><td>03:00:00</td><td>&quot;Neutral&quot;</td><td>3</td><td>2025-06-08 18:00:00</td><td>4</td><td>&quot;control&quot;</td><td>2</td></tr><tr><td>2025-06-08</td><td>23:59:00</td><td>&quot;Pleasant&quot;</td><td>4</td><td>2025-06-08 14:59:00</td><td>6</td><td>&quot;control&quot;</td><td>1</td></tr><tr><td>2025-06-08</td><td>05:50:00</td><td>&quot;Pleasant&quot;</td><td>4</td><td>2025-06-07 20:50:00</td><td>6</td><td>&quot;control&quot;</td><td>2</td></tr><tr><td>2025-06-07</td><td>23:44:00</td><td>&quot;Very Pleasant&quot;</td><td>5</td><td>2025-06-07 14:44:00</td><td>7</td><td>&quot;control&quot;</td><td>1</td></tr><tr><td>2025-06-07</td><td>03:03:00</td><td>&quot;Slightly Pleasant&quot;</td><td>4</td><td>2025-06-06 18:03:00</td><td>5</td><td>&quot;control&quot;</td><td>2</td></tr><tr><td>&hellip;</td><td>&hellip;</td><td>&hellip;</td><td>&hellip;</td><td>&hellip;</td><td>&hellip;</td><td>&hellip;</td><td>&hellip;</td></tr><tr><td>2025-05-14</td><td>14:01:00</td><td>&quot;Neutral&quot;</td><td>3</td><td>2025-05-14 14:01:00</td><td>4</td><td>&quot;treatment&quot;</td><td>1</td></tr><tr><td>2025-05-13</td><td>18:00:00</td><td>&quot;Slightly Pleasant&quot;</td><td>4</td><td>2025-05-13 18:00:00</td><td>5</td><td>&quot;treatment&quot;</td><td>2</td></tr><tr><td>2025-05-13</td><td>14:00:00</td><td>&quot;Unpleasant&quot;</td><td>2</td><td>2025-05-13 14:00:00</td><td>2</td><td>&quot;treatment&quot;</td><td>1</td></tr><tr><td>2025-05-12</td><td>18:01:00</td><td>&quot;Pleasant&quot;</td><td>4</td><td>2025-05-12 18:01:00</td><td>6</td><td>&quot;treatment&quot;</td><td>2</td></tr><tr><td>2025-05-12</td><td>14:00:00</td><td>&quot;Pleasant&quot;</td><td>4</td><td>2025-05-12 14:00:00</td><td>6</td><td>&quot;treatment&quot;</td><td>1</td></tr></tbody></table></div>"
      ]
     },
     "execution_count": 18,
     "metadata": {},
     "output_type": "execute_result"
    }
   ],
   "execution_count": 18,
   "source": [
    "# Load the stress data\n",
    "df = pl.read_csv(\"../data/processed/cleaned_stress_data.csv\", try_parse_dates=True)\n",
    "df"
   ],
   "id": "load_data"
  },
  {
   "metadata": {
    "ExecuteTime": {
     "end_time": "2025-08-30T15:36:23.999403Z",
     "start_time": "2025-08-30T15:36:23.993004Z"
    }
   },
   "cell_type": "code",
   "source": [
    "# Overview of the data\n",
    "print(\"Data shape:\", df.shape)\n",
    "print(\"\\nColumns:\", df.columns)\n",
    "print(\"\\nExperiment groups:\")\n",
    "print(df.group_by(\"experiment_group\").len())\n",
    "print(\"\\nWellbeing levels:\")\n",
    "print(df.group_by(\"wellbeing_level\").len().sort(\"wellbeing_level\"))\n",
    "print(\"\\nEmotion score range:\")\n",
    "print(df.group_by(\"emotion_score\").len().sort(\"emotion_score\"))"
   ],
   "id": "data_overview",
   "outputs": [
    {
     "name": "stdout",
     "output_type": "stream",
     "text": [
      "Data shape: (50, 8)\n",
      "\n",
      "Columns: ['date', 'time', 'wellbeing_level', 'scale_1_5', 'datetime', 'emotion_score', 'experiment_group', 'measurement_order']\n",
      "\n",
      "Experiment groups:\n",
      "shape: (2, 2)\n",
      "┌──────────────────┬─────┐\n",
      "│ experiment_group ┆ len │\n",
      "│ ---              ┆ --- │\n",
      "│ str              ┆ u32 │\n",
      "╞══════════════════╪═════╡\n",
      "│ treatment        ┆ 25  │\n",
      "│ control          ┆ 25  │\n",
      "└──────────────────┴─────┘\n",
      "\n",
      "Wellbeing levels:\n",
      "shape: (6, 2)\n",
      "┌─────────────────────┬─────┐\n",
      "│ wellbeing_level     ┆ len │\n",
      "│ ---                 ┆ --- │\n",
      "│ str                 ┆ u32 │\n",
      "╞═════════════════════╪═════╡\n",
      "│ Neutral             ┆ 11  │\n",
      "│ Pleasant            ┆ 12  │\n",
      "│ Slightly Pleasant   ┆ 17  │\n",
      "│ Slightly Unpleasant ┆ 5   │\n",
      "│ Unpleasant          ┆ 3   │\n",
      "│ Very Pleasant       ┆ 2   │\n",
      "└─────────────────────┴─────┘\n",
      "\n",
      "Emotion score range:\n",
      "shape: (6, 2)\n",
      "┌───────────────┬─────┐\n",
      "│ emotion_score ┆ len │\n",
      "│ ---           ┆ --- │\n",
      "│ i64           ┆ u32 │\n",
      "╞═══════════════╪═════╡\n",
      "│ 2             ┆ 3   │\n",
      "│ 3             ┆ 5   │\n",
      "│ 4             ┆ 11  │\n",
      "│ 5             ┆ 17  │\n",
      "│ 6             ┆ 12  │\n",
      "│ 7             ┆ 2   │\n",
      "└───────────────┴─────┘\n"
     ]
    }
   ],
   "execution_count": 25
  },
  {
   "metadata": {
    "ExecuteTime": {
     "end_time": "2025-08-30T15:36:43.011559Z",
     "start_time": "2025-08-30T15:36:43.007593Z"
    }
   },
   "cell_type": "code",
   "source": [
    "treatment_data = df.filter(pl.col(\"experiment_group\") == \"treatment\")\n",
    "control_data = df.filter(pl.col(\"experiment_group\") == \"control\")"
   ],
   "id": "split_groups",
   "outputs": [],
   "execution_count": 27
  },
  {
   "cell_type": "code",
   "id": "extract_variables",
   "metadata": {
    "ExecuteTime": {
     "end_time": "2025-08-30T15:36:45.706786Z",
     "start_time": "2025-08-30T15:36:45.704664Z"
    }
   },
   "source": [
    "emotion_treatment = treatment_data[\"emotion_score\"].to_numpy()\n",
    "emotion_control = control_data[\"emotion_score\"].to_numpy()"
   ],
   "outputs": [],
   "execution_count": 28
  },
  {
   "cell_type": "code",
   "id": "mannwhitney_tests",
   "metadata": {
    "ExecuteTime": {
     "end_time": "2025-08-30T15:36:51.731501Z",
     "start_time": "2025-08-30T15:36:51.725419Z"
    }
   },
   "source": "# Perform Mann-Whitney U tests\nprint(\"=== Mann-Whitney U Test Results ===\\n\")\n\n# Emotion score test\nemotion_stat, emotion_p = mannwhitneyu(emotion_treatment, emotion_control, alternative='two-sided')\nprint(\"Emotion Score:\")\nprint(f\"  Treatment median: {np.median(emotion_treatment):.2f}\")\nprint(f\"  Control median: {np.median(emotion_control):.2f}\")\nprint(f\"  U-statistic: {emotion_stat:.2f}\")\nprint(f\"  p-value: {emotion_p:.6f}\")\nprint(f\"  Significant (α=0.05): {'Yes' if emotion_p < 0.05 else 'No'}\")",
   "outputs": [
    {
     "name": "stdout",
     "output_type": "stream",
     "text": [
      "=== Mann-Whitney U Test Results ===\n",
      "\n",
      "Emotion Score:\n",
      "  Treatment median: 5.00\n",
      "  Control median: 5.00\n",
      "  U-statistic: 306.00\n",
      "  p-value: 0.904186\n",
      "  Significant (α=0.05): No\n"
     ]
    }
   ],
   "execution_count": 29
  },
  {
   "cell_type": "code",
   "id": "typst_table_function",
   "metadata": {
    "ExecuteTime": {
     "end_time": "2025-08-30T15:37:04.820166Z",
     "start_time": "2025-08-30T15:37:04.814845Z"
    }
   },
   "source": [
    "def create_stress_mannwhitney_typst_table(results_list):\n",
    "    \"\"\"Create a typst formatted table for Mann-Whitney U test results on stress data\"\"\"\n",
    "\n",
    "    # Start the table with header\n",
    "    typst_table = f\"\"\"#table(\n",
    "  columns: (auto, auto, auto, auto, auto, auto, auto, auto),\n",
    "  inset: 8pt,\n",
    "  align: center + horizon,\n",
    "  stroke: 0.5pt,\n",
    "  table.header(\n",
    "    [*Variable*], [*Treatment N*], [*Control N*], [*Treatment Median*], [*Control Median*], [*U-statistic*], [*P-value*], [*Result*]\n",
    "  ),\"\"\"\n",
    "\n",
    "    # Add data rows\n",
    "    for result in results_list:\n",
    "        typst_table += f\"\"\"\\n  [{result['variable']}], [{result['treatment_n']}], [{result['control_n']}], [{result['treatment_median']}], [{result['control_median']}], [{result['u_statistic']}], [{result['p_value']}], [{result['result']}],\"\"\"\n",
    "\n",
    "    # Close the table\n",
    "    typst_table += \"\\n)\"\n",
    "\n",
    "    return typst_table\n",
    "\n",
    "def stress_mannwhitney_test_result(treatment_data, control_data, variable_name):\n",
    "    \"\"\"Perform Mann-Whitney U test and format results for stress data typst table\"\"\"\n",
    "\n",
    "    # Remove any NaN values\n",
    "    treatment_clean = treatment_data[~np.isnan(treatment_data)]\n",
    "    control_clean = control_data[~np.isnan(control_data)]\n",
    "\n",
    "    if len(treatment_clean) > 0 and len(control_clean) > 0:\n",
    "        # Perform Mann-Whitney U test\n",
    "        u_stat, p_value = mannwhitneyu(treatment_clean, control_clean, alternative='two-sided')\n",
    "\n",
    "        # Calculate medians\n",
    "        treatment_median = np.median(treatment_clean)\n",
    "        control_median = np.median(control_clean)\n",
    "\n",
    "        # Determine significance\n",
    "        result = 'Significant' if p_value < 0.05 else 'Not significant'\n",
    "\n",
    "        return {\n",
    "            'variable': variable_name.replace('_', ' ').title(),\n",
    "            'treatment_n': len(treatment_clean),\n",
    "            'control_n': len(control_clean),\n",
    "            'treatment_median': f\"{treatment_median:.2f}\",\n",
    "            'control_median': f\"{control_median:.2f}\",\n",
    "            'u_statistic': f\"{u_stat:.2f}\",\n",
    "            'p_value': f\"{p_value:.6f}\" if p_value >= 0.000001 else \"< 0.000001\",\n",
    "            'result': result\n",
    "        }\n",
    "    else:\n",
    "        return {\n",
    "            'variable': variable_name.replace('_', ' ').title(),\n",
    "            'treatment_n': len(treatment_clean),\n",
    "            'control_n': len(control_clean),\n",
    "            'treatment_median': 'N/A',\n",
    "            'control_median': 'N/A',\n",
    "            'u_statistic': 'N/A',\n",
    "            'p_value': 'N/A',\n",
    "            'result': 'Insufficient data'\n",
    "        }"
   ],
   "outputs": [],
   "execution_count": 30
  },
  {
   "cell_type": "code",
   "id": "generate_typst_table",
   "metadata": {
    "ExecuteTime": {
     "end_time": "2025-08-30T15:37:18.399674Z",
     "start_time": "2025-08-30T15:37:18.395375Z"
    }
   },
   "source": [
    "# Generate typst table for stress data analysis\n",
    "stress_results = [\n",
    "    stress_mannwhitney_test_result(emotion_treatment, emotion_control, \"emotion_score\")\n",
    "]\n",
    "\n",
    "stress_typst_table = create_stress_mannwhitney_typst_table(stress_results)\n",
    "print(stress_typst_table)"
   ],
   "outputs": [
    {
     "name": "stdout",
     "output_type": "stream",
     "text": [
      "#table(\n",
      "  columns: (auto, auto, auto, auto, auto, auto, auto, auto),\n",
      "  inset: 8pt,\n",
      "  align: center + horizon,\n",
      "  stroke: 0.5pt,\n",
      "  table.header(\n",
      "    [*Variable*], [*Treatment N*], [*Control N*], [*Treatment Median*], [*Control Median*], [*U-statistic*], [*P-value*], [*Result*]\n",
      "  ),\n",
      "  [Emotion Score], [25], [25], [5.00], [5.00], [306.00], [0.904186], [Not significant],\n",
      ")\n"
     ]
    }
   ],
   "execution_count": 32
  }
 ],
 "metadata": {
  "kernelspec": {
   "display_name": "nof1-analysis-py",
   "language": "python",
   "name": "nof1-analysis-py"
  },
  "language_info": {
   "codemirror_mode": {
    "name": "ipython",
    "version": 3
   },
   "file_extension": ".py",
   "name": "python",
   "nbconvert_exporter": "python",
   "pygments_lexer": "ipython3",
   "version": "3.8.5"
  }
 },
 "nbformat": 4,
 "nbformat_minor": 5
}
