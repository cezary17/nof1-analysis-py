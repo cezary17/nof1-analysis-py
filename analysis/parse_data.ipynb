{
 "cells": [
  {
   "cell_type": "code",
   "id": "initial_id",
   "metadata": {
    "collapsed": true,
    "ExecuteTime": {
     "end_time": "2025-08-28T15:48:28.388280Z",
     "start_time": "2025-08-28T15:48:28.385773Z"
    }
   },
   "source": [
    "import polars as pl\n",
    "import os\n",
    "from apple_health_parser.utils.parser import Parser\n",
    "from dotenv import load_dotenv\n",
    "from pathlib import Path\n",
    "\n",
    "env = load_dotenv(Path(\"..\") / \".env\")"
   ],
   "outputs": [],
   "execution_count": 4
  },
  {
   "metadata": {
    "ExecuteTime": {
     "end_time": "2025-08-28T16:16:03.654832Z",
     "start_time": "2025-08-28T16:15:31.499646Z"
    }
   },
   "cell_type": "code",
   "source": "parser = Parser(export_file=os.environ[\"PATH_TO_EXPORT\"])",
   "id": "af0e517e573f13c0",
   "outputs": [
    {
     "name": "stderr",
     "output_type": "stream",
     "text": [
      "Found previous export at data/apple_health_export...\n"
     ]
    },
    {
     "name": "stdout",
     "output_type": "stream",
     "text": [
      "Do you want to delete it? [y/N]:"
     ]
    },
    {
     "name": "stderr",
     "output_type": "stream",
     "text": [
      "Deleted previous export at data/apple_health_export...\n"
     ]
    }
   ],
   "execution_count": 7
  },
  {
   "metadata": {
    "ExecuteTime": {
     "end_time": "2025-08-28T16:16:06.457414Z",
     "start_time": "2025-08-28T16:16:06.453380Z"
    }
   },
   "cell_type": "code",
   "source": [
    "flags = parser.flags\n",
    "sleep_flags = [flag for flag in flags if \"Sleep\" in flag]\n",
    "flags"
   ],
   "id": "5db77d09ccbe37e7",
   "outputs": [
    {
     "data": {
      "text/plain": [
       "['HKCategoryTypeIdentifierAppleStandHour',\n",
       " 'HKCategoryTypeIdentifierAudioExposureEvent',\n",
       " 'HKCategoryTypeIdentifierHandwashingEvent',\n",
       " 'HKCategoryTypeIdentifierHeadphoneAudioExposureEvent',\n",
       " 'HKCategoryTypeIdentifierHighHeartRateEvent',\n",
       " 'HKCategoryTypeIdentifierMindfulSession',\n",
       " 'HKCategoryTypeIdentifierSleepAnalysis',\n",
       " 'HKDataTypeSleepDurationGoal',\n",
       " 'HKQuantityTypeIdentifierActiveEnergyBurned',\n",
       " 'HKQuantityTypeIdentifierAppleExerciseTime',\n",
       " 'HKQuantityTypeIdentifierAppleStandTime',\n",
       " 'HKQuantityTypeIdentifierAppleWalkingSteadiness',\n",
       " 'HKQuantityTypeIdentifierBasalEnergyBurned',\n",
       " 'HKQuantityTypeIdentifierBodyMass',\n",
       " 'HKQuantityTypeIdentifierBodyMassIndex',\n",
       " 'HKQuantityTypeIdentifierDistanceCycling',\n",
       " 'HKQuantityTypeIdentifierDistanceSwimming',\n",
       " 'HKQuantityTypeIdentifierDistanceWalkingRunning',\n",
       " 'HKQuantityTypeIdentifierEnvironmentalAudioExposure',\n",
       " 'HKQuantityTypeIdentifierEnvironmentalSoundReduction',\n",
       " 'HKQuantityTypeIdentifierFlightsClimbed',\n",
       " 'HKQuantityTypeIdentifierHeadphoneAudioExposure',\n",
       " 'HKQuantityTypeIdentifierHeartRate',\n",
       " 'HKQuantityTypeIdentifierHeartRateRecoveryOneMinute',\n",
       " 'HKQuantityTypeIdentifierHeartRateVariabilitySDNN',\n",
       " 'HKQuantityTypeIdentifierHeight',\n",
       " 'HKQuantityTypeIdentifierOxygenSaturation',\n",
       " 'HKQuantityTypeIdentifierPhysicalEffort',\n",
       " 'HKQuantityTypeIdentifierRespiratoryRate',\n",
       " 'HKQuantityTypeIdentifierRestingHeartRate',\n",
       " 'HKQuantityTypeIdentifierSixMinuteWalkTestDistance',\n",
       " 'HKQuantityTypeIdentifierStairAscentSpeed',\n",
       " 'HKQuantityTypeIdentifierStairDescentSpeed',\n",
       " 'HKQuantityTypeIdentifierStepCount',\n",
       " 'HKQuantityTypeIdentifierSwimmingStrokeCount',\n",
       " 'HKQuantityTypeIdentifierTimeInDaylight',\n",
       " 'HKQuantityTypeIdentifierVO2Max',\n",
       " 'HKQuantityTypeIdentifierWalkingAsymmetryPercentage',\n",
       " 'HKQuantityTypeIdentifierWalkingDoubleSupportPercentage',\n",
       " 'HKQuantityTypeIdentifierWalkingHeartRateAverage',\n",
       " 'HKQuantityTypeIdentifierWalkingSpeed',\n",
       " 'HKQuantityTypeIdentifierWalkingStepLength']"
      ]
     },
     "execution_count": 8,
     "metadata": {},
     "output_type": "execute_result"
    }
   ],
   "execution_count": 8
  },
  {
   "metadata": {
    "ExecuteTime": {
     "end_time": "2025-08-28T16:17:33.653202Z",
     "start_time": "2025-08-28T16:17:33.648396Z"
    }
   },
   "cell_type": "code",
   "source": "data = parser.get_flag_records(\"HKCategoryTypeIdentifierMindfulSession\")",
   "id": "20cbdda55899f3b8",
   "outputs": [
    {
     "name": "stderr",
     "output_type": "stream",
     "text": [
      "\u001B[1mFailed to parse 1 records\u001B[0m\n"
     ]
    }
   ],
   "execution_count": 12
  },
  {
   "metadata": {
    "ExecuteTime": {
     "end_time": "2025-08-28T16:18:07.206678Z",
     "start_time": "2025-08-28T16:18:07.198892Z"
    }
   },
   "cell_type": "code",
   "source": "parser.write_csv(data=data, filename=\"../data/raw/raw_export_mindful_session.csv\")\n",
   "id": "aa9eb5b6f30d58f6",
   "outputs": [],
   "execution_count": 13
  }
 ],
 "metadata": {
  "kernelspec": {
   "display_name": "nof1-analysis-py",
   "language": "python",
   "name": "nof1-analysis-py"
  },
  "language_info": {
   "codemirror_mode": {
    "name": "ipython",
    "version": 2
   },
   "file_extension": ".py",
   "mimetype": "text/x-python",
   "name": "python",
   "nbconvert_exporter": "python",
   "pygments_lexer": "ipython2",
   "version": "2.7.6"
  }
 },
 "nbformat": 4,
 "nbformat_minor": 5
}
