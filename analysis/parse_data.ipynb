{
 "cells": [
  {
   "cell_type": "code",
   "id": "initial_id",
   "metadata": {
    "collapsed": true,
    "ExecuteTime": {
     "end_time": "2025-08-31T14:00:35.057938Z",
     "start_time": "2025-08-31T14:00:34.856109Z"
    }
   },
   "source": [
    "import os\n",
    "from apple_health_parser.utils.parser import Parser\n",
    "from dotenv import load_dotenv\n",
    "from pathlib import Path\n",
    "from apple_health_parser.plot.sleep import SleepPlot\n",
    "\n",
    "env = load_dotenv(Path(\"..\") / \".env\")"
   ],
   "outputs": [],
   "execution_count": 1
  },
  {
   "metadata": {
    "ExecuteTime": {
     "end_time": "2025-08-31T14:01:02.297940Z",
     "start_time": "2025-08-31T14:00:35.062182Z"
    }
   },
   "cell_type": "code",
   "source": "parser = Parser(export_file=os.environ[\"PATH_TO_EXPORT\"], overwrite=False)",
   "id": "af0e517e573f13c0",
   "outputs": [],
   "execution_count": 2
  },
  {
   "metadata": {
    "ExecuteTime": {
     "end_time": "2025-08-31T14:02:26.197818Z",
     "start_time": "2025-08-31T14:02:26.193675Z"
    }
   },
   "cell_type": "code",
   "source": [
    "flags = parser.flags\n",
    "sleep_flags = [flag for flag in flags if \"Sleep\" in flag]\n",
    "sleep_flags"
   ],
   "id": "5db77d09ccbe37e7",
   "outputs": [
    {
     "data": {
      "text/plain": [
       "['HKCategoryTypeIdentifierSleepAnalysis', 'HKDataTypeSleepDurationGoal']"
      ]
     },
     "execution_count": 7,
     "metadata": {},
     "output_type": "execute_result"
    }
   ],
   "execution_count": 7
  },
  {
   "metadata": {
    "ExecuteTime": {
     "end_time": "2025-08-31T14:02:52.238537Z",
     "start_time": "2025-08-31T14:02:51.525196Z"
    }
   },
   "cell_type": "code",
   "source": "data = parser.get_flag_records(\"HKCategoryTypeIdentifierSleepAnalysis\")",
   "id": "20cbdda55899f3b8",
   "outputs": [],
   "execution_count": 8
  },
  {
   "metadata": {
    "ExecuteTime": {
     "end_time": "2025-08-31T14:02:54.377549Z",
     "start_time": "2025-08-31T14:02:53.973637Z"
    }
   },
   "cell_type": "code",
   "source": "parser.write_csv(data=data, filename=\"../data/raw/raw_export_mindful_session.csv\")\n",
   "id": "aa9eb5b6f30d58f6",
   "outputs": [],
   "execution_count": 9
  },
  {
   "metadata": {
    "ExecuteTime": {
     "end_time": "2025-08-31T14:05:38.485606Z",
     "start_time": "2025-08-31T14:05:38.370655Z"
    }
   },
   "cell_type": "code",
   "source": [
    "plt = SleepPlot(data=data, timerange=(\"2025-05-11T20:00:00Z\", \"2025-05-12T10:00:00Z\"), year=2025)\n",
    "plt.title = False\n",
    "plt.plot(save=True)\n"
   ],
   "id": "a95f1e05e5c5460e",
   "outputs": [
    {
     "data": {
      "application/vnd.plotly.v1+json": {
       "data": [
        {
         "hoverinfo": "text",
         "hovertext": "2025-05-12 00:52:07+02:00 - 2025-05-12 00:55:07+02:00<br>Sleep stage: HKCategoryValueSleepAnalysisAsleepCore",
         "line": {
          "color": "#32abe4",
          "shape": "hvh",
          "width": 10
         },
         "mode": "lines",
         "name": "HKCategoryValueSleepAnalysisAsleepCore",
         "showlegend": false,
         "x": [
          "2025-05-12T00:52:07+02:00",
          "2025-05-12T00:55:07+02:00"
         ],
         "y": [
          "HKCategoryValueSleepAnalysisAsleepCore",
          "HKCategoryValueSleepAnalysisAsleepCore"
         ],
         "type": "scatter"
        },
        {
         "hoverinfo": "text",
         "hovertext": "2025-05-12 00:55:07+02:00 - 2025-05-12 01:05:07+02:00<br>Sleep stage: HKCategoryValueSleepAnalysisAwake",
         "line": {
          "color": "#ff816a",
          "shape": "hvh",
          "width": 10
         },
         "mode": "lines",
         "name": "HKCategoryValueSleepAnalysisAwake",
         "showlegend": false,
         "x": [
          "2025-05-12T00:55:07+02:00",
          "2025-05-12T01:05:07+02:00"
         ],
         "y": [
          "HKCategoryValueSleepAnalysisAwake",
          "HKCategoryValueSleepAnalysisAwake"
         ],
         "type": "scatter"
        },
        {
         "hoverinfo": "text",
         "hovertext": "2025-05-12 01:05:07+02:00 - 2025-05-12 01:22:07+02:00<br>Sleep stage: HKCategoryValueSleepAnalysisAsleepCore",
         "line": {
          "color": "#32abe4",
          "shape": "hvh",
          "width": 10
         },
         "mode": "lines",
         "name": "HKCategoryValueSleepAnalysisAsleepCore",
         "showlegend": false,
         "x": [
          "2025-05-12T01:05:07+02:00",
          "2025-05-12T01:22:07+02:00"
         ],
         "y": [
          "HKCategoryValueSleepAnalysisAsleepCore",
          "HKCategoryValueSleepAnalysisAsleepCore"
         ],
         "type": "scatter"
        },
        {
         "hoverinfo": "text",
         "hovertext": "2025-05-12 01:22:07+02:00 - 2025-05-12 02:07:07+02:00<br>Sleep stage: HKCategoryValueSleepAnalysisAsleepDeep",
         "line": {
          "color": "#007aff",
          "shape": "hvh",
          "width": 10
         },
         "mode": "lines",
         "name": "HKCategoryValueSleepAnalysisAsleepDeep",
         "showlegend": false,
         "x": [
          "2025-05-12T01:22:07+02:00",
          "2025-05-12T02:07:07+02:00"
         ],
         "y": [
          "HKCategoryValueSleepAnalysisAsleepDeep",
          "HKCategoryValueSleepAnalysisAsleepDeep"
         ],
         "type": "scatter"
        },
        {
         "hoverinfo": "text",
         "hovertext": "2025-05-12 02:07:07+02:00 - 2025-05-12 02:11:07+02:00<br>Sleep stage: HKCategoryValueSleepAnalysisAsleepCore",
         "line": {
          "color": "#32abe4",
          "shape": "hvh",
          "width": 10
         },
         "mode": "lines",
         "name": "HKCategoryValueSleepAnalysisAsleepCore",
         "showlegend": false,
         "x": [
          "2025-05-12T02:07:07+02:00",
          "2025-05-12T02:11:07+02:00"
         ],
         "y": [
          "HKCategoryValueSleepAnalysisAsleepCore",
          "HKCategoryValueSleepAnalysisAsleepCore"
         ],
         "type": "scatter"
        },
        {
         "hoverinfo": "text",
         "hovertext": "2025-05-12 02:11:07+02:00 - 2025-05-12 02:26:07+02:00<br>Sleep stage: HKCategoryValueSleepAnalysisAsleepREM",
         "line": {
          "color": "#3634a3",
          "shape": "hvh",
          "width": 10
         },
         "mode": "lines",
         "name": "HKCategoryValueSleepAnalysisAsleepREM",
         "showlegend": false,
         "x": [
          "2025-05-12T02:11:07+02:00",
          "2025-05-12T02:26:07+02:00"
         ],
         "y": [
          "HKCategoryValueSleepAnalysisAsleepREM",
          "HKCategoryValueSleepAnalysisAsleepREM"
         ],
         "type": "scatter"
        },
        {
         "hoverinfo": "text",
         "hovertext": "2025-05-12 02:26:07+02:00 - 2025-05-12 03:01:07+02:00<br>Sleep stage: HKCategoryValueSleepAnalysisAsleepCore",
         "line": {
          "color": "#32abe4",
          "shape": "hvh",
          "width": 10
         },
         "mode": "lines",
         "name": "HKCategoryValueSleepAnalysisAsleepCore",
         "showlegend": false,
         "x": [
          "2025-05-12T02:26:07+02:00",
          "2025-05-12T03:01:07+02:00"
         ],
         "y": [
          "HKCategoryValueSleepAnalysisAsleepCore",
          "HKCategoryValueSleepAnalysisAsleepCore"
         ],
         "type": "scatter"
        },
        {
         "hoverinfo": "text",
         "hovertext": "2025-05-12 03:01:07+02:00 - 2025-05-12 03:01:37+02:00<br>Sleep stage: HKCategoryValueSleepAnalysisAwake",
         "line": {
          "color": "#ff816a",
          "shape": "hvh",
          "width": 10
         },
         "mode": "lines",
         "name": "HKCategoryValueSleepAnalysisAwake",
         "showlegend": false,
         "x": [
          "2025-05-12T03:01:07+02:00",
          "2025-05-12T03:01:37+02:00"
         ],
         "y": [
          "HKCategoryValueSleepAnalysisAwake",
          "HKCategoryValueSleepAnalysisAwake"
         ],
         "type": "scatter"
        },
        {
         "hoverinfo": "text",
         "hovertext": "2025-05-12 03:01:37+02:00 - 2025-05-12 03:51:37+02:00<br>Sleep stage: HKCategoryValueSleepAnalysisAsleepCore",
         "line": {
          "color": "#32abe4",
          "shape": "hvh",
          "width": 10
         },
         "mode": "lines",
         "name": "HKCategoryValueSleepAnalysisAsleepCore",
         "showlegend": false,
         "x": [
          "2025-05-12T03:01:37+02:00",
          "2025-05-12T03:51:37+02:00"
         ],
         "y": [
          "HKCategoryValueSleepAnalysisAsleepCore",
          "HKCategoryValueSleepAnalysisAsleepCore"
         ],
         "type": "scatter"
        },
        {
         "hoverinfo": "text",
         "hovertext": "2025-05-12 03:51:37+02:00 - 2025-05-12 03:53:07+02:00<br>Sleep stage: HKCategoryValueSleepAnalysisAwake",
         "line": {
          "color": "#ff816a",
          "shape": "hvh",
          "width": 10
         },
         "mode": "lines",
         "name": "HKCategoryValueSleepAnalysisAwake",
         "showlegend": false,
         "x": [
          "2025-05-12T03:51:37+02:00",
          "2025-05-12T03:53:07+02:00"
         ],
         "y": [
          "HKCategoryValueSleepAnalysisAwake",
          "HKCategoryValueSleepAnalysisAwake"
         ],
         "type": "scatter"
        },
        {
         "hoverinfo": "text",
         "hovertext": "2025-05-12 03:53:07+02:00 - 2025-05-12 03:56:07+02:00<br>Sleep stage: HKCategoryValueSleepAnalysisAsleepCore",
         "line": {
          "color": "#32abe4",
          "shape": "hvh",
          "width": 10
         },
         "mode": "lines",
         "name": "HKCategoryValueSleepAnalysisAsleepCore",
         "showlegend": false,
         "x": [
          "2025-05-12T03:53:07+02:00",
          "2025-05-12T03:56:07+02:00"
         ],
         "y": [
          "HKCategoryValueSleepAnalysisAsleepCore",
          "HKCategoryValueSleepAnalysisAsleepCore"
         ],
         "type": "scatter"
        },
        {
         "hoverinfo": "text",
         "hovertext": "2025-05-12 03:56:07+02:00 - 2025-05-12 04:35:07+02:00<br>Sleep stage: HKCategoryValueSleepAnalysisAsleepREM",
         "line": {
          "color": "#3634a3",
          "shape": "hvh",
          "width": 10
         },
         "mode": "lines",
         "name": "HKCategoryValueSleepAnalysisAsleepREM",
         "showlegend": false,
         "x": [
          "2025-05-12T03:56:07+02:00",
          "2025-05-12T04:35:07+02:00"
         ],
         "y": [
          "HKCategoryValueSleepAnalysisAsleepREM",
          "HKCategoryValueSleepAnalysisAsleepREM"
         ],
         "type": "scatter"
        },
        {
         "hoverinfo": "text",
         "hovertext": "2025-05-12 04:35:07+02:00 - 2025-05-12 05:50:07+02:00<br>Sleep stage: HKCategoryValueSleepAnalysisAsleepCore",
         "line": {
          "color": "#32abe4",
          "shape": "hvh",
          "width": 10
         },
         "mode": "lines",
         "name": "HKCategoryValueSleepAnalysisAsleepCore",
         "showlegend": false,
         "x": [
          "2025-05-12T04:35:07+02:00",
          "2025-05-12T05:50:07+02:00"
         ],
         "y": [
          "HKCategoryValueSleepAnalysisAsleepCore",
          "HKCategoryValueSleepAnalysisAsleepCore"
         ],
         "type": "scatter"
        },
        {
         "hoverinfo": "text",
         "hovertext": "2025-05-12 05:50:07+02:00 - 2025-05-12 06:14:37+02:00<br>Sleep stage: HKCategoryValueSleepAnalysisAsleepREM",
         "line": {
          "color": "#3634a3",
          "shape": "hvh",
          "width": 10
         },
         "mode": "lines",
         "name": "HKCategoryValueSleepAnalysisAsleepREM",
         "showlegend": false,
         "x": [
          "2025-05-12T05:50:07+02:00",
          "2025-05-12T06:14:37+02:00"
         ],
         "y": [
          "HKCategoryValueSleepAnalysisAsleepREM",
          "HKCategoryValueSleepAnalysisAsleepREM"
         ],
         "type": "scatter"
        },
        {
         "hoverinfo": "text",
         "hovertext": "2025-05-12 06:14:37+02:00 - 2025-05-12 06:22:07+02:00<br>Sleep stage: HKCategoryValueSleepAnalysisAsleepCore",
         "line": {
          "color": "#32abe4",
          "shape": "hvh",
          "width": 10
         },
         "mode": "lines",
         "name": "HKCategoryValueSleepAnalysisAsleepCore",
         "showlegend": false,
         "x": [
          "2025-05-12T06:14:37+02:00",
          "2025-05-12T06:22:07+02:00"
         ],
         "y": [
          "HKCategoryValueSleepAnalysisAsleepCore",
          "HKCategoryValueSleepAnalysisAsleepCore"
         ],
         "type": "scatter"
        },
        {
         "hoverinfo": "text",
         "hovertext": "2025-05-12 06:22:07+02:00 - 2025-05-12 06:27:37+02:00<br>Sleep stage: HKCategoryValueSleepAnalysisAsleepREM",
         "line": {
          "color": "#3634a3",
          "shape": "hvh",
          "width": 10
         },
         "mode": "lines",
         "name": "HKCategoryValueSleepAnalysisAsleepREM",
         "showlegend": false,
         "x": [
          "2025-05-12T06:22:07+02:00",
          "2025-05-12T06:27:37+02:00"
         ],
         "y": [
          "HKCategoryValueSleepAnalysisAsleepREM",
          "HKCategoryValueSleepAnalysisAsleepREM"
         ],
         "type": "scatter"
        },
        {
         "hoverinfo": "text",
         "hovertext": "2025-05-12 06:27:37+02:00 - 2025-05-12 06:35:37+02:00<br>Sleep stage: HKCategoryValueSleepAnalysisAsleepCore",
         "line": {
          "color": "#32abe4",
          "shape": "hvh",
          "width": 10
         },
         "mode": "lines",
         "name": "HKCategoryValueSleepAnalysisAsleepCore",
         "showlegend": false,
         "x": [
          "2025-05-12T06:27:37+02:00",
          "2025-05-12T06:35:37+02:00"
         ],
         "y": [
          "HKCategoryValueSleepAnalysisAsleepCore",
          "HKCategoryValueSleepAnalysisAsleepCore"
         ],
         "type": "scatter"
        },
        {
         "hoverinfo": "text",
         "hovertext": "2025-05-12 06:35:37+02:00 - 2025-05-12 06:40:37+02:00<br>Sleep stage: HKCategoryValueSleepAnalysisAwake",
         "line": {
          "color": "#ff816a",
          "shape": "hvh",
          "width": 10
         },
         "mode": "lines",
         "name": "HKCategoryValueSleepAnalysisAwake",
         "showlegend": false,
         "x": [
          "2025-05-12T06:35:37+02:00",
          "2025-05-12T06:40:37+02:00"
         ],
         "y": [
          "HKCategoryValueSleepAnalysisAwake",
          "HKCategoryValueSleepAnalysisAwake"
         ],
         "type": "scatter"
        },
        {
         "hoverinfo": "text",
         "hovertext": "2025-05-12 06:40:37+02:00 - 2025-05-12 06:42:37+02:00<br>Sleep stage: HKCategoryValueSleepAnalysisAsleepCore",
         "line": {
          "color": "#32abe4",
          "shape": "hvh",
          "width": 10
         },
         "mode": "lines",
         "name": "HKCategoryValueSleepAnalysisAsleepCore",
         "showlegend": false,
         "x": [
          "2025-05-12T06:40:37+02:00",
          "2025-05-12T06:42:37+02:00"
         ],
         "y": [
          "HKCategoryValueSleepAnalysisAsleepCore",
          "HKCategoryValueSleepAnalysisAsleepCore"
         ],
         "type": "scatter"
        },
        {
         "hoverinfo": "text",
         "hovertext": "2025-05-12 06:42:37+02:00 - 2025-05-12 06:45:37+02:00<br>Sleep stage: HKCategoryValueSleepAnalysisAwake",
         "line": {
          "color": "#ff816a",
          "shape": "hvh",
          "width": 10
         },
         "mode": "lines",
         "name": "HKCategoryValueSleepAnalysisAwake",
         "showlegend": false,
         "x": [
          "2025-05-12T06:42:37+02:00",
          "2025-05-12T06:45:37+02:00"
         ],
         "y": [
          "HKCategoryValueSleepAnalysisAwake",
          "HKCategoryValueSleepAnalysisAwake"
         ],
         "type": "scatter"
        },
        {
         "hoverinfo": "text",
         "hovertext": "2025-05-12 06:45:37+02:00 - 2025-05-12 06:46:37+02:00<br>Sleep stage: HKCategoryValueSleepAnalysisAsleepCore",
         "line": {
          "color": "#32abe4",
          "shape": "hvh",
          "width": 10
         },
         "mode": "lines",
         "name": "HKCategoryValueSleepAnalysisAsleepCore",
         "showlegend": false,
         "x": [
          "2025-05-12T06:45:37+02:00",
          "2025-05-12T06:46:37+02:00"
         ],
         "y": [
          "HKCategoryValueSleepAnalysisAsleepCore",
          "HKCategoryValueSleepAnalysisAsleepCore"
         ],
         "type": "scatter"
        },
        {
         "hoverinfo": "text",
         "hovertext": "2025-05-12 06:46:37+02:00 - 2025-05-12 06:52:07+02:00<br>Sleep stage: HKCategoryValueSleepAnalysisAwake",
         "line": {
          "color": "#ff816a",
          "shape": "hvh",
          "width": 10
         },
         "mode": "lines",
         "name": "HKCategoryValueSleepAnalysisAwake",
         "showlegend": false,
         "x": [
          "2025-05-12T06:46:37+02:00",
          "2025-05-12T06:52:07+02:00"
         ],
         "y": [
          "HKCategoryValueSleepAnalysisAwake",
          "HKCategoryValueSleepAnalysisAwake"
         ],
         "type": "scatter"
        },
        {
         "hoverinfo": "text",
         "hovertext": "2025-05-12 06:52:07+02:00 - 2025-05-12 06:55:37+02:00<br>Sleep stage: HKCategoryValueSleepAnalysisAsleepCore",
         "line": {
          "color": "#32abe4",
          "shape": "hvh",
          "width": 10
         },
         "mode": "lines",
         "name": "HKCategoryValueSleepAnalysisAsleepCore",
         "showlegend": false,
         "x": [
          "2025-05-12T06:52:07+02:00",
          "2025-05-12T06:55:37+02:00"
         ],
         "y": [
          "HKCategoryValueSleepAnalysisAsleepCore",
          "HKCategoryValueSleepAnalysisAsleepCore"
         ],
         "type": "scatter"
        },
        {
         "hoverinfo": "text",
         "hovertext": "2025-05-12 06:55:37+02:00 - 2025-05-12 06:56:37+02:00<br>Sleep stage: HKCategoryValueSleepAnalysisAwake",
         "line": {
          "color": "#ff816a",
          "shape": "hvh",
          "width": 10
         },
         "mode": "lines",
         "name": "HKCategoryValueSleepAnalysisAwake",
         "showlegend": false,
         "x": [
          "2025-05-12T06:55:37+02:00",
          "2025-05-12T06:56:37+02:00"
         ],
         "y": [
          "HKCategoryValueSleepAnalysisAwake",
          "HKCategoryValueSleepAnalysisAwake"
         ],
         "type": "scatter"
        },
        {
         "hoverinfo": "text",
         "hovertext": "2025-05-12 06:56:37+02:00 - 2025-05-12 06:59:07+02:00<br>Sleep stage: HKCategoryValueSleepAnalysisAsleepCore",
         "line": {
          "color": "#32abe4",
          "shape": "hvh",
          "width": 10
         },
         "mode": "lines",
         "name": "HKCategoryValueSleepAnalysisAsleepCore",
         "showlegend": false,
         "x": [
          "2025-05-12T06:56:37+02:00",
          "2025-05-12T06:59:07+02:00"
         ],
         "y": [
          "HKCategoryValueSleepAnalysisAsleepCore",
          "HKCategoryValueSleepAnalysisAsleepCore"
         ],
         "type": "scatter"
        },
        {
         "hoverinfo": "text",
         "hovertext": "2025-05-12 06:59:07+02:00 - 2025-05-12 07:01:07+02:00<br>Sleep stage: HKCategoryValueSleepAnalysisAwake",
         "line": {
          "color": "#ff816a",
          "shape": "hvh",
          "width": 10
         },
         "mode": "lines",
         "name": "HKCategoryValueSleepAnalysisAwake",
         "showlegend": false,
         "x": [
          "2025-05-12T06:59:07+02:00",
          "2025-05-12T07:01:07+02:00"
         ],
         "y": [
          "HKCategoryValueSleepAnalysisAwake",
          "HKCategoryValueSleepAnalysisAwake"
         ],
         "type": "scatter"
        },
        {
         "hoverinfo": "text",
         "hovertext": "2025-05-12 07:01:07+02:00 - 2025-05-12 07:13:07+02:00<br>Sleep stage: HKCategoryValueSleepAnalysisAsleepCore",
         "line": {
          "color": "#32abe4",
          "shape": "hvh",
          "width": 10
         },
         "mode": "lines",
         "name": "HKCategoryValueSleepAnalysisAsleepCore",
         "showlegend": false,
         "x": [
          "2025-05-12T07:01:07+02:00",
          "2025-05-12T07:13:07+02:00"
         ],
         "y": [
          "HKCategoryValueSleepAnalysisAsleepCore",
          "HKCategoryValueSleepAnalysisAsleepCore"
         ],
         "type": "scatter"
        },
        {
         "hoverinfo": "text",
         "hovertext": "2025-05-12 07:13:07+02:00 - 2025-05-12 07:15:37+02:00<br>Sleep stage: HKCategoryValueSleepAnalysisAwake",
         "line": {
          "color": "#ff816a",
          "shape": "hvh",
          "width": 10
         },
         "mode": "lines",
         "name": "HKCategoryValueSleepAnalysisAwake",
         "showlegend": false,
         "x": [
          "2025-05-12T07:13:07+02:00",
          "2025-05-12T07:15:37+02:00"
         ],
         "y": [
          "HKCategoryValueSleepAnalysisAwake",
          "HKCategoryValueSleepAnalysisAwake"
         ],
         "type": "scatter"
        },
        {
         "hoverinfo": "text",
         "hovertext": "2025-05-12 07:15:37+02:00 - 2025-05-12 07:23:37+02:00<br>Sleep stage: HKCategoryValueSleepAnalysisAsleepCore",
         "line": {
          "color": "#32abe4",
          "shape": "hvh",
          "width": 10
         },
         "mode": "lines",
         "name": "HKCategoryValueSleepAnalysisAsleepCore",
         "showlegend": false,
         "x": [
          "2025-05-12T07:15:37+02:00",
          "2025-05-12T07:23:37+02:00"
         ],
         "y": [
          "HKCategoryValueSleepAnalysisAsleepCore",
          "HKCategoryValueSleepAnalysisAsleepCore"
         ],
         "type": "scatter"
        },
        {
         "hoverinfo": "text",
         "hovertext": "2025-05-12 07:23:37+02:00 - 2025-05-12 07:35:37+02:00<br>Sleep stage: HKCategoryValueSleepAnalysisAwake",
         "line": {
          "color": "#ff816a",
          "shape": "hvh",
          "width": 10
         },
         "mode": "lines",
         "name": "HKCategoryValueSleepAnalysisAwake",
         "showlegend": false,
         "x": [
          "2025-05-12T07:23:37+02:00",
          "2025-05-12T07:35:37+02:00"
         ],
         "y": [
          "HKCategoryValueSleepAnalysisAwake",
          "HKCategoryValueSleepAnalysisAwake"
         ],
         "type": "scatter"
        },
        {
         "hoverinfo": "text",
         "hovertext": "2025-05-12 07:35:37+02:00 - 2025-05-12 07:37:07+02:00<br>Sleep stage: HKCategoryValueSleepAnalysisAsleepCore",
         "line": {
          "color": "#32abe4",
          "shape": "hvh",
          "width": 10
         },
         "mode": "lines",
         "name": "HKCategoryValueSleepAnalysisAsleepCore",
         "showlegend": false,
         "x": [
          "2025-05-12T07:35:37+02:00",
          "2025-05-12T07:37:07+02:00"
         ],
         "y": [
          "HKCategoryValueSleepAnalysisAsleepCore",
          "HKCategoryValueSleepAnalysisAsleepCore"
         ],
         "type": "scatter"
        },
        {
         "hoverinfo": "text",
         "hovertext": "2025-05-12 07:37:07+02:00 - 2025-05-12 07:39:37+02:00<br>Sleep stage: HKCategoryValueSleepAnalysisAwake",
         "line": {
          "color": "#ff816a",
          "shape": "hvh",
          "width": 10
         },
         "mode": "lines",
         "name": "HKCategoryValueSleepAnalysisAwake",
         "showlegend": false,
         "x": [
          "2025-05-12T07:37:07+02:00",
          "2025-05-12T07:39:37+02:00"
         ],
         "y": [
          "HKCategoryValueSleepAnalysisAwake",
          "HKCategoryValueSleepAnalysisAwake"
         ],
         "type": "scatter"
        },
        {
         "hoverinfo": "text",
         "hovertext": "2025-05-12 07:39:37+02:00 - 2025-05-12 07:44:07+02:00<br>Sleep stage: HKCategoryValueSleepAnalysisAsleepCore",
         "line": {
          "color": "#32abe4",
          "shape": "hvh",
          "width": 10
         },
         "mode": "lines",
         "name": "HKCategoryValueSleepAnalysisAsleepCore",
         "showlegend": false,
         "x": [
          "2025-05-12T07:39:37+02:00",
          "2025-05-12T07:44:07+02:00"
         ],
         "y": [
          "HKCategoryValueSleepAnalysisAsleepCore",
          "HKCategoryValueSleepAnalysisAsleepCore"
         ],
         "type": "scatter"
        },
        {
         "hoverinfo": "text",
         "hovertext": "2025-05-12 07:44:07+02:00 - 2025-05-12 07:44:37+02:00<br>Sleep stage: HKCategoryValueSleepAnalysisAwake",
         "line": {
          "color": "#ff816a",
          "shape": "hvh",
          "width": 10
         },
         "mode": "lines",
         "name": "HKCategoryValueSleepAnalysisAwake",
         "showlegend": false,
         "x": [
          "2025-05-12T07:44:07+02:00",
          "2025-05-12T07:44:37+02:00"
         ],
         "y": [
          "HKCategoryValueSleepAnalysisAwake",
          "HKCategoryValueSleepAnalysisAwake"
         ],
         "type": "scatter"
        },
        {
         "hoverinfo": "text",
         "hovertext": "2025-05-12 07:44:37+02:00 - 2025-05-12 07:47:37+02:00<br>Sleep stage: HKCategoryValueSleepAnalysisAsleepCore",
         "line": {
          "color": "#32abe4",
          "shape": "hvh",
          "width": 10
         },
         "mode": "lines",
         "name": "HKCategoryValueSleepAnalysisAsleepCore",
         "showlegend": false,
         "x": [
          "2025-05-12T07:44:37+02:00",
          "2025-05-12T07:47:37+02:00"
         ],
         "y": [
          "HKCategoryValueSleepAnalysisAsleepCore",
          "HKCategoryValueSleepAnalysisAsleepCore"
         ],
         "type": "scatter"
        }
       ],
       "layout": {
        "template": {
         "data": {
          "barpolar": [
           {
            "marker": {
             "line": {
              "color": "white",
              "width": 0.5
             },
             "pattern": {
              "fillmode": "overlay",
              "size": 10,
              "solidity": 0.2
             }
            },
            "type": "barpolar"
           }
          ],
          "bar": [
           {
            "error_x": {
             "color": "rgb(36,36,36)"
            },
            "error_y": {
             "color": "rgb(36,36,36)"
            },
            "marker": {
             "line": {
              "color": "white",
              "width": 0.5
             },
             "pattern": {
              "fillmode": "overlay",
              "size": 10,
              "solidity": 0.2
             }
            },
            "type": "bar"
           }
          ],
          "carpet": [
           {
            "aaxis": {
             "endlinecolor": "rgb(36,36,36)",
             "gridcolor": "white",
             "linecolor": "white",
             "minorgridcolor": "white",
             "startlinecolor": "rgb(36,36,36)"
            },
            "baxis": {
             "endlinecolor": "rgb(36,36,36)",
             "gridcolor": "white",
             "linecolor": "white",
             "minorgridcolor": "white",
             "startlinecolor": "rgb(36,36,36)"
            },
            "type": "carpet"
           }
          ],
          "choropleth": [
           {
            "colorbar": {
             "outlinewidth": 1,
             "tickcolor": "rgb(36,36,36)",
             "ticks": "outside"
            },
            "type": "choropleth"
           }
          ],
          "contourcarpet": [
           {
            "colorbar": {
             "outlinewidth": 1,
             "tickcolor": "rgb(36,36,36)",
             "ticks": "outside"
            },
            "type": "contourcarpet"
           }
          ],
          "contour": [
           {
            "colorbar": {
             "outlinewidth": 1,
             "tickcolor": "rgb(36,36,36)",
             "ticks": "outside"
            },
            "colorscale": [
             [
              0.0,
              "#440154"
             ],
             [
              0.1111111111111111,
              "#482878"
             ],
             [
              0.2222222222222222,
              "#3e4989"
             ],
             [
              0.3333333333333333,
              "#31688e"
             ],
             [
              0.4444444444444444,
              "#26828e"
             ],
             [
              0.5555555555555556,
              "#1f9e89"
             ],
             [
              0.6666666666666666,
              "#35b779"
             ],
             [
              0.7777777777777778,
              "#6ece58"
             ],
             [
              0.8888888888888888,
              "#b5de2b"
             ],
             [
              1.0,
              "#fde725"
             ]
            ],
            "type": "contour"
           }
          ],
          "heatmapgl": [
           {
            "colorbar": {
             "outlinewidth": 1,
             "tickcolor": "rgb(36,36,36)",
             "ticks": "outside"
            },
            "colorscale": [
             [
              0.0,
              "#440154"
             ],
             [
              0.1111111111111111,
              "#482878"
             ],
             [
              0.2222222222222222,
              "#3e4989"
             ],
             [
              0.3333333333333333,
              "#31688e"
             ],
             [
              0.4444444444444444,
              "#26828e"
             ],
             [
              0.5555555555555556,
              "#1f9e89"
             ],
             [
              0.6666666666666666,
              "#35b779"
             ],
             [
              0.7777777777777778,
              "#6ece58"
             ],
             [
              0.8888888888888888,
              "#b5de2b"
             ],
             [
              1.0,
              "#fde725"
             ]
            ],
            "type": "heatmapgl"
           }
          ],
          "heatmap": [
           {
            "colorbar": {
             "outlinewidth": 1,
             "tickcolor": "rgb(36,36,36)",
             "ticks": "outside"
            },
            "colorscale": [
             [
              0.0,
              "#440154"
             ],
             [
              0.1111111111111111,
              "#482878"
             ],
             [
              0.2222222222222222,
              "#3e4989"
             ],
             [
              0.3333333333333333,
              "#31688e"
             ],
             [
              0.4444444444444444,
              "#26828e"
             ],
             [
              0.5555555555555556,
              "#1f9e89"
             ],
             [
              0.6666666666666666,
              "#35b779"
             ],
             [
              0.7777777777777778,
              "#6ece58"
             ],
             [
              0.8888888888888888,
              "#b5de2b"
             ],
             [
              1.0,
              "#fde725"
             ]
            ],
            "type": "heatmap"
           }
          ],
          "histogram2dcontour": [
           {
            "colorbar": {
             "outlinewidth": 1,
             "tickcolor": "rgb(36,36,36)",
             "ticks": "outside"
            },
            "colorscale": [
             [
              0.0,
              "#440154"
             ],
             [
              0.1111111111111111,
              "#482878"
             ],
             [
              0.2222222222222222,
              "#3e4989"
             ],
             [
              0.3333333333333333,
              "#31688e"
             ],
             [
              0.4444444444444444,
              "#26828e"
             ],
             [
              0.5555555555555556,
              "#1f9e89"
             ],
             [
              0.6666666666666666,
              "#35b779"
             ],
             [
              0.7777777777777778,
              "#6ece58"
             ],
             [
              0.8888888888888888,
              "#b5de2b"
             ],
             [
              1.0,
              "#fde725"
             ]
            ],
            "type": "histogram2dcontour"
           }
          ],
          "histogram2d": [
           {
            "colorbar": {
             "outlinewidth": 1,
             "tickcolor": "rgb(36,36,36)",
             "ticks": "outside"
            },
            "colorscale": [
             [
              0.0,
              "#440154"
             ],
             [
              0.1111111111111111,
              "#482878"
             ],
             [
              0.2222222222222222,
              "#3e4989"
             ],
             [
              0.3333333333333333,
              "#31688e"
             ],
             [
              0.4444444444444444,
              "#26828e"
             ],
             [
              0.5555555555555556,
              "#1f9e89"
             ],
             [
              0.6666666666666666,
              "#35b779"
             ],
             [
              0.7777777777777778,
              "#6ece58"
             ],
             [
              0.8888888888888888,
              "#b5de2b"
             ],
             [
              1.0,
              "#fde725"
             ]
            ],
            "type": "histogram2d"
           }
          ],
          "histogram": [
           {
            "marker": {
             "line": {
              "color": "white",
              "width": 0.6
             }
            },
            "type": "histogram"
           }
          ],
          "mesh3d": [
           {
            "colorbar": {
             "outlinewidth": 1,
             "tickcolor": "rgb(36,36,36)",
             "ticks": "outside"
            },
            "type": "mesh3d"
           }
          ],
          "parcoords": [
           {
            "line": {
             "colorbar": {
              "outlinewidth": 1,
              "tickcolor": "rgb(36,36,36)",
              "ticks": "outside"
             }
            },
            "type": "parcoords"
           }
          ],
          "pie": [
           {
            "automargin": true,
            "type": "pie"
           }
          ],
          "scatter3d": [
           {
            "line": {
             "colorbar": {
              "outlinewidth": 1,
              "tickcolor": "rgb(36,36,36)",
              "ticks": "outside"
             }
            },
            "marker": {
             "colorbar": {
              "outlinewidth": 1,
              "tickcolor": "rgb(36,36,36)",
              "ticks": "outside"
             }
            },
            "type": "scatter3d"
           }
          ],
          "scattercarpet": [
           {
            "marker": {
             "colorbar": {
              "outlinewidth": 1,
              "tickcolor": "rgb(36,36,36)",
              "ticks": "outside"
             }
            },
            "type": "scattercarpet"
           }
          ],
          "scattergeo": [
           {
            "marker": {
             "colorbar": {
              "outlinewidth": 1,
              "tickcolor": "rgb(36,36,36)",
              "ticks": "outside"
             }
            },
            "type": "scattergeo"
           }
          ],
          "scattergl": [
           {
            "marker": {
             "colorbar": {
              "outlinewidth": 1,
              "tickcolor": "rgb(36,36,36)",
              "ticks": "outside"
             }
            },
            "type": "scattergl"
           }
          ],
          "scattermapbox": [
           {
            "marker": {
             "colorbar": {
              "outlinewidth": 1,
              "tickcolor": "rgb(36,36,36)",
              "ticks": "outside"
             }
            },
            "type": "scattermapbox"
           }
          ],
          "scatterpolargl": [
           {
            "marker": {
             "colorbar": {
              "outlinewidth": 1,
              "tickcolor": "rgb(36,36,36)",
              "ticks": "outside"
             }
            },
            "type": "scatterpolargl"
           }
          ],
          "scatterpolar": [
           {
            "marker": {
             "colorbar": {
              "outlinewidth": 1,
              "tickcolor": "rgb(36,36,36)",
              "ticks": "outside"
             }
            },
            "type": "scatterpolar"
           }
          ],
          "scatter": [
           {
            "fillpattern": {
             "fillmode": "overlay",
             "size": 10,
             "solidity": 0.2
            },
            "type": "scatter"
           }
          ],
          "scatterternary": [
           {
            "marker": {
             "colorbar": {
              "outlinewidth": 1,
              "tickcolor": "rgb(36,36,36)",
              "ticks": "outside"
             }
            },
            "type": "scatterternary"
           }
          ],
          "surface": [
           {
            "colorbar": {
             "outlinewidth": 1,
             "tickcolor": "rgb(36,36,36)",
             "ticks": "outside"
            },
            "colorscale": [
             [
              0.0,
              "#440154"
             ],
             [
              0.1111111111111111,
              "#482878"
             ],
             [
              0.2222222222222222,
              "#3e4989"
             ],
             [
              0.3333333333333333,
              "#31688e"
             ],
             [
              0.4444444444444444,
              "#26828e"
             ],
             [
              0.5555555555555556,
              "#1f9e89"
             ],
             [
              0.6666666666666666,
              "#35b779"
             ],
             [
              0.7777777777777778,
              "#6ece58"
             ],
             [
              0.8888888888888888,
              "#b5de2b"
             ],
             [
              1.0,
              "#fde725"
             ]
            ],
            "type": "surface"
           }
          ],
          "table": [
           {
            "cells": {
             "fill": {
              "color": "rgb(237,237,237)"
             },
             "line": {
              "color": "white"
             }
            },
            "header": {
             "fill": {
              "color": "rgb(217,217,217)"
             },
             "line": {
              "color": "white"
             }
            },
            "type": "table"
           }
          ]
         },
         "layout": {
          "annotationdefaults": {
           "arrowhead": 0,
           "arrowwidth": 1
          },
          "autotypenumbers": "strict",
          "coloraxis": {
           "colorbar": {
            "outlinewidth": 1,
            "tickcolor": "rgb(36,36,36)",
            "ticks": "outside"
           }
          },
          "colorscale": {
           "diverging": [
            [
             0.0,
             "rgb(103,0,31)"
            ],
            [
             0.1,
             "rgb(178,24,43)"
            ],
            [
             0.2,
             "rgb(214,96,77)"
            ],
            [
             0.3,
             "rgb(244,165,130)"
            ],
            [
             0.4,
             "rgb(253,219,199)"
            ],
            [
             0.5,
             "rgb(247,247,247)"
            ],
            [
             0.6,
             "rgb(209,229,240)"
            ],
            [
             0.7,
             "rgb(146,197,222)"
            ],
            [
             0.8,
             "rgb(67,147,195)"
            ],
            [
             0.9,
             "rgb(33,102,172)"
            ],
            [
             1.0,
             "rgb(5,48,97)"
            ]
           ],
           "sequential": [
            [
             0.0,
             "#440154"
            ],
            [
             0.1111111111111111,
             "#482878"
            ],
            [
             0.2222222222222222,
             "#3e4989"
            ],
            [
             0.3333333333333333,
             "#31688e"
            ],
            [
             0.4444444444444444,
             "#26828e"
            ],
            [
             0.5555555555555556,
             "#1f9e89"
            ],
            [
             0.6666666666666666,
             "#35b779"
            ],
            [
             0.7777777777777778,
             "#6ece58"
            ],
            [
             0.8888888888888888,
             "#b5de2b"
            ],
            [
             1.0,
             "#fde725"
            ]
           ],
           "sequentialminus": [
            [
             0.0,
             "#440154"
            ],
            [
             0.1111111111111111,
             "#482878"
            ],
            [
             0.2222222222222222,
             "#3e4989"
            ],
            [
             0.3333333333333333,
             "#31688e"
            ],
            [
             0.4444444444444444,
             "#26828e"
            ],
            [
             0.5555555555555556,
             "#1f9e89"
            ],
            [
             0.6666666666666666,
             "#35b779"
            ],
            [
             0.7777777777777778,
             "#6ece58"
            ],
            [
             0.8888888888888888,
             "#b5de2b"
            ],
            [
             1.0,
             "#fde725"
            ]
           ]
          },
          "colorway": [
           "#1F77B4",
           "#FF7F0E",
           "#2CA02C",
           "#D62728",
           "#9467BD",
           "#8C564B",
           "#E377C2",
           "#7F7F7F",
           "#BCBD22",
           "#17BECF"
          ],
          "font": {
           "color": "rgb(36,36,36)"
          },
          "geo": {
           "bgcolor": "white",
           "lakecolor": "white",
           "landcolor": "white",
           "showlakes": true,
           "showland": true,
           "subunitcolor": "white"
          },
          "hoverlabel": {
           "align": "left"
          },
          "hovermode": "closest",
          "mapbox": {
           "style": "light"
          },
          "paper_bgcolor": "white",
          "plot_bgcolor": "white",
          "polar": {
           "angularaxis": {
            "gridcolor": "rgb(232,232,232)",
            "linecolor": "rgb(36,36,36)",
            "showgrid": false,
            "showline": true,
            "ticks": "outside"
           },
           "bgcolor": "white",
           "radialaxis": {
            "gridcolor": "rgb(232,232,232)",
            "linecolor": "rgb(36,36,36)",
            "showgrid": false,
            "showline": true,
            "ticks": "outside"
           }
          },
          "scene": {
           "xaxis": {
            "backgroundcolor": "white",
            "gridcolor": "rgb(232,232,232)",
            "gridwidth": 2,
            "linecolor": "rgb(36,36,36)",
            "showbackground": true,
            "showgrid": false,
            "showline": true,
            "ticks": "outside",
            "zeroline": false,
            "zerolinecolor": "rgb(36,36,36)"
           },
           "yaxis": {
            "backgroundcolor": "white",
            "gridcolor": "rgb(232,232,232)",
            "gridwidth": 2,
            "linecolor": "rgb(36,36,36)",
            "showbackground": true,
            "showgrid": false,
            "showline": true,
            "ticks": "outside",
            "zeroline": false,
            "zerolinecolor": "rgb(36,36,36)"
           },
           "zaxis": {
            "backgroundcolor": "white",
            "gridcolor": "rgb(232,232,232)",
            "gridwidth": 2,
            "linecolor": "rgb(36,36,36)",
            "showbackground": true,
            "showgrid": false,
            "showline": true,
            "ticks": "outside",
            "zeroline": false,
            "zerolinecolor": "rgb(36,36,36)"
           }
          },
          "shapedefaults": {
           "fillcolor": "black",
           "line": {
            "width": 0
           },
           "opacity": 0.3
          },
          "ternary": {
           "aaxis": {
            "gridcolor": "rgb(232,232,232)",
            "linecolor": "rgb(36,36,36)",
            "showgrid": false,
            "showline": true,
            "ticks": "outside"
           },
           "baxis": {
            "gridcolor": "rgb(232,232,232)",
            "linecolor": "rgb(36,36,36)",
            "showgrid": false,
            "showline": true,
            "ticks": "outside"
           },
           "bgcolor": "white",
           "caxis": {
            "gridcolor": "rgb(232,232,232)",
            "linecolor": "rgb(36,36,36)",
            "showgrid": false,
            "showline": true,
            "ticks": "outside"
           }
          },
          "title": {
           "x": 0.05
          },
          "xaxis": {
           "automargin": true,
           "gridcolor": "rgb(232,232,232)",
           "linecolor": "rgb(36,36,36)",
           "showgrid": false,
           "showline": true,
           "ticks": "outside",
           "title": {
            "standoff": 15
           },
           "zeroline": false,
           "zerolinecolor": "rgb(36,36,36)"
          },
          "yaxis": {
           "automargin": true,
           "gridcolor": "rgb(232,232,232)",
           "linecolor": "rgb(36,36,36)",
           "showgrid": false,
           "showline": true,
           "ticks": "outside",
           "title": {
            "standoff": 15
           },
           "zeroline": false,
           "zerolinecolor": "rgb(36,36,36)"
          }
         }
        },
        "legend": {
         "title": {
          "text": "Sleep Stage"
         }
        },
        "xaxis": {
         "title": {
          "text": "Date"
         }
        },
        "yaxis": {
         "title": {
          "text": "Sleep Analysis count (None)"
         }
        }
       },
       "config": {
        "plotlyServerURL": "https://plot.ly"
       }
      },
      "text/html": [
       "<div>                            <div id=\"dd712112-102b-4640-b190-189243b3d4f2\" class=\"plotly-graph-div\" style=\"height:525px; width:100%;\"></div>            <script type=\"text/javascript\">                require([\"plotly\"], function(Plotly) {                    window.PLOTLYENV=window.PLOTLYENV || {};                                    if (document.getElementById(\"dd712112-102b-4640-b190-189243b3d4f2\")) {                    Plotly.newPlot(                        \"dd712112-102b-4640-b190-189243b3d4f2\",                        [{\"hoverinfo\":\"text\",\"hovertext\":\"2025-05-12 00:52:07+02:00 - 2025-05-12 00:55:07+02:00\\u003cbr\\u003eSleep stage: HKCategoryValueSleepAnalysisAsleepCore\",\"line\":{\"color\":\"#32abe4\",\"shape\":\"hvh\",\"width\":10},\"mode\":\"lines\",\"name\":\"HKCategoryValueSleepAnalysisAsleepCore\",\"showlegend\":false,\"x\":[\"2025-05-12T00:52:07+02:00\",\"2025-05-12T00:55:07+02:00\"],\"y\":[\"HKCategoryValueSleepAnalysisAsleepCore\",\"HKCategoryValueSleepAnalysisAsleepCore\"],\"type\":\"scatter\"},{\"hoverinfo\":\"text\",\"hovertext\":\"2025-05-12 00:55:07+02:00 - 2025-05-12 01:05:07+02:00\\u003cbr\\u003eSleep stage: HKCategoryValueSleepAnalysisAwake\",\"line\":{\"color\":\"#ff816a\",\"shape\":\"hvh\",\"width\":10},\"mode\":\"lines\",\"name\":\"HKCategoryValueSleepAnalysisAwake\",\"showlegend\":false,\"x\":[\"2025-05-12T00:55:07+02:00\",\"2025-05-12T01:05:07+02:00\"],\"y\":[\"HKCategoryValueSleepAnalysisAwake\",\"HKCategoryValueSleepAnalysisAwake\"],\"type\":\"scatter\"},{\"hoverinfo\":\"text\",\"hovertext\":\"2025-05-12 01:05:07+02:00 - 2025-05-12 01:22:07+02:00\\u003cbr\\u003eSleep stage: HKCategoryValueSleepAnalysisAsleepCore\",\"line\":{\"color\":\"#32abe4\",\"shape\":\"hvh\",\"width\":10},\"mode\":\"lines\",\"name\":\"HKCategoryValueSleepAnalysisAsleepCore\",\"showlegend\":false,\"x\":[\"2025-05-12T01:05:07+02:00\",\"2025-05-12T01:22:07+02:00\"],\"y\":[\"HKCategoryValueSleepAnalysisAsleepCore\",\"HKCategoryValueSleepAnalysisAsleepCore\"],\"type\":\"scatter\"},{\"hoverinfo\":\"text\",\"hovertext\":\"2025-05-12 01:22:07+02:00 - 2025-05-12 02:07:07+02:00\\u003cbr\\u003eSleep stage: HKCategoryValueSleepAnalysisAsleepDeep\",\"line\":{\"color\":\"#007aff\",\"shape\":\"hvh\",\"width\":10},\"mode\":\"lines\",\"name\":\"HKCategoryValueSleepAnalysisAsleepDeep\",\"showlegend\":false,\"x\":[\"2025-05-12T01:22:07+02:00\",\"2025-05-12T02:07:07+02:00\"],\"y\":[\"HKCategoryValueSleepAnalysisAsleepDeep\",\"HKCategoryValueSleepAnalysisAsleepDeep\"],\"type\":\"scatter\"},{\"hoverinfo\":\"text\",\"hovertext\":\"2025-05-12 02:07:07+02:00 - 2025-05-12 02:11:07+02:00\\u003cbr\\u003eSleep stage: HKCategoryValueSleepAnalysisAsleepCore\",\"line\":{\"color\":\"#32abe4\",\"shape\":\"hvh\",\"width\":10},\"mode\":\"lines\",\"name\":\"HKCategoryValueSleepAnalysisAsleepCore\",\"showlegend\":false,\"x\":[\"2025-05-12T02:07:07+02:00\",\"2025-05-12T02:11:07+02:00\"],\"y\":[\"HKCategoryValueSleepAnalysisAsleepCore\",\"HKCategoryValueSleepAnalysisAsleepCore\"],\"type\":\"scatter\"},{\"hoverinfo\":\"text\",\"hovertext\":\"2025-05-12 02:11:07+02:00 - 2025-05-12 02:26:07+02:00\\u003cbr\\u003eSleep stage: HKCategoryValueSleepAnalysisAsleepREM\",\"line\":{\"color\":\"#3634a3\",\"shape\":\"hvh\",\"width\":10},\"mode\":\"lines\",\"name\":\"HKCategoryValueSleepAnalysisAsleepREM\",\"showlegend\":false,\"x\":[\"2025-05-12T02:11:07+02:00\",\"2025-05-12T02:26:07+02:00\"],\"y\":[\"HKCategoryValueSleepAnalysisAsleepREM\",\"HKCategoryValueSleepAnalysisAsleepREM\"],\"type\":\"scatter\"},{\"hoverinfo\":\"text\",\"hovertext\":\"2025-05-12 02:26:07+02:00 - 2025-05-12 03:01:07+02:00\\u003cbr\\u003eSleep stage: HKCategoryValueSleepAnalysisAsleepCore\",\"line\":{\"color\":\"#32abe4\",\"shape\":\"hvh\",\"width\":10},\"mode\":\"lines\",\"name\":\"HKCategoryValueSleepAnalysisAsleepCore\",\"showlegend\":false,\"x\":[\"2025-05-12T02:26:07+02:00\",\"2025-05-12T03:01:07+02:00\"],\"y\":[\"HKCategoryValueSleepAnalysisAsleepCore\",\"HKCategoryValueSleepAnalysisAsleepCore\"],\"type\":\"scatter\"},{\"hoverinfo\":\"text\",\"hovertext\":\"2025-05-12 03:01:07+02:00 - 2025-05-12 03:01:37+02:00\\u003cbr\\u003eSleep stage: HKCategoryValueSleepAnalysisAwake\",\"line\":{\"color\":\"#ff816a\",\"shape\":\"hvh\",\"width\":10},\"mode\":\"lines\",\"name\":\"HKCategoryValueSleepAnalysisAwake\",\"showlegend\":false,\"x\":[\"2025-05-12T03:01:07+02:00\",\"2025-05-12T03:01:37+02:00\"],\"y\":[\"HKCategoryValueSleepAnalysisAwake\",\"HKCategoryValueSleepAnalysisAwake\"],\"type\":\"scatter\"},{\"hoverinfo\":\"text\",\"hovertext\":\"2025-05-12 03:01:37+02:00 - 2025-05-12 03:51:37+02:00\\u003cbr\\u003eSleep stage: HKCategoryValueSleepAnalysisAsleepCore\",\"line\":{\"color\":\"#32abe4\",\"shape\":\"hvh\",\"width\":10},\"mode\":\"lines\",\"name\":\"HKCategoryValueSleepAnalysisAsleepCore\",\"showlegend\":false,\"x\":[\"2025-05-12T03:01:37+02:00\",\"2025-05-12T03:51:37+02:00\"],\"y\":[\"HKCategoryValueSleepAnalysisAsleepCore\",\"HKCategoryValueSleepAnalysisAsleepCore\"],\"type\":\"scatter\"},{\"hoverinfo\":\"text\",\"hovertext\":\"2025-05-12 03:51:37+02:00 - 2025-05-12 03:53:07+02:00\\u003cbr\\u003eSleep stage: HKCategoryValueSleepAnalysisAwake\",\"line\":{\"color\":\"#ff816a\",\"shape\":\"hvh\",\"width\":10},\"mode\":\"lines\",\"name\":\"HKCategoryValueSleepAnalysisAwake\",\"showlegend\":false,\"x\":[\"2025-05-12T03:51:37+02:00\",\"2025-05-12T03:53:07+02:00\"],\"y\":[\"HKCategoryValueSleepAnalysisAwake\",\"HKCategoryValueSleepAnalysisAwake\"],\"type\":\"scatter\"},{\"hoverinfo\":\"text\",\"hovertext\":\"2025-05-12 03:53:07+02:00 - 2025-05-12 03:56:07+02:00\\u003cbr\\u003eSleep stage: HKCategoryValueSleepAnalysisAsleepCore\",\"line\":{\"color\":\"#32abe4\",\"shape\":\"hvh\",\"width\":10},\"mode\":\"lines\",\"name\":\"HKCategoryValueSleepAnalysisAsleepCore\",\"showlegend\":false,\"x\":[\"2025-05-12T03:53:07+02:00\",\"2025-05-12T03:56:07+02:00\"],\"y\":[\"HKCategoryValueSleepAnalysisAsleepCore\",\"HKCategoryValueSleepAnalysisAsleepCore\"],\"type\":\"scatter\"},{\"hoverinfo\":\"text\",\"hovertext\":\"2025-05-12 03:56:07+02:00 - 2025-05-12 04:35:07+02:00\\u003cbr\\u003eSleep stage: HKCategoryValueSleepAnalysisAsleepREM\",\"line\":{\"color\":\"#3634a3\",\"shape\":\"hvh\",\"width\":10},\"mode\":\"lines\",\"name\":\"HKCategoryValueSleepAnalysisAsleepREM\",\"showlegend\":false,\"x\":[\"2025-05-12T03:56:07+02:00\",\"2025-05-12T04:35:07+02:00\"],\"y\":[\"HKCategoryValueSleepAnalysisAsleepREM\",\"HKCategoryValueSleepAnalysisAsleepREM\"],\"type\":\"scatter\"},{\"hoverinfo\":\"text\",\"hovertext\":\"2025-05-12 04:35:07+02:00 - 2025-05-12 05:50:07+02:00\\u003cbr\\u003eSleep stage: HKCategoryValueSleepAnalysisAsleepCore\",\"line\":{\"color\":\"#32abe4\",\"shape\":\"hvh\",\"width\":10},\"mode\":\"lines\",\"name\":\"HKCategoryValueSleepAnalysisAsleepCore\",\"showlegend\":false,\"x\":[\"2025-05-12T04:35:07+02:00\",\"2025-05-12T05:50:07+02:00\"],\"y\":[\"HKCategoryValueSleepAnalysisAsleepCore\",\"HKCategoryValueSleepAnalysisAsleepCore\"],\"type\":\"scatter\"},{\"hoverinfo\":\"text\",\"hovertext\":\"2025-05-12 05:50:07+02:00 - 2025-05-12 06:14:37+02:00\\u003cbr\\u003eSleep stage: HKCategoryValueSleepAnalysisAsleepREM\",\"line\":{\"color\":\"#3634a3\",\"shape\":\"hvh\",\"width\":10},\"mode\":\"lines\",\"name\":\"HKCategoryValueSleepAnalysisAsleepREM\",\"showlegend\":false,\"x\":[\"2025-05-12T05:50:07+02:00\",\"2025-05-12T06:14:37+02:00\"],\"y\":[\"HKCategoryValueSleepAnalysisAsleepREM\",\"HKCategoryValueSleepAnalysisAsleepREM\"],\"type\":\"scatter\"},{\"hoverinfo\":\"text\",\"hovertext\":\"2025-05-12 06:14:37+02:00 - 2025-05-12 06:22:07+02:00\\u003cbr\\u003eSleep stage: HKCategoryValueSleepAnalysisAsleepCore\",\"line\":{\"color\":\"#32abe4\",\"shape\":\"hvh\",\"width\":10},\"mode\":\"lines\",\"name\":\"HKCategoryValueSleepAnalysisAsleepCore\",\"showlegend\":false,\"x\":[\"2025-05-12T06:14:37+02:00\",\"2025-05-12T06:22:07+02:00\"],\"y\":[\"HKCategoryValueSleepAnalysisAsleepCore\",\"HKCategoryValueSleepAnalysisAsleepCore\"],\"type\":\"scatter\"},{\"hoverinfo\":\"text\",\"hovertext\":\"2025-05-12 06:22:07+02:00 - 2025-05-12 06:27:37+02:00\\u003cbr\\u003eSleep stage: HKCategoryValueSleepAnalysisAsleepREM\",\"line\":{\"color\":\"#3634a3\",\"shape\":\"hvh\",\"width\":10},\"mode\":\"lines\",\"name\":\"HKCategoryValueSleepAnalysisAsleepREM\",\"showlegend\":false,\"x\":[\"2025-05-12T06:22:07+02:00\",\"2025-05-12T06:27:37+02:00\"],\"y\":[\"HKCategoryValueSleepAnalysisAsleepREM\",\"HKCategoryValueSleepAnalysisAsleepREM\"],\"type\":\"scatter\"},{\"hoverinfo\":\"text\",\"hovertext\":\"2025-05-12 06:27:37+02:00 - 2025-05-12 06:35:37+02:00\\u003cbr\\u003eSleep stage: HKCategoryValueSleepAnalysisAsleepCore\",\"line\":{\"color\":\"#32abe4\",\"shape\":\"hvh\",\"width\":10},\"mode\":\"lines\",\"name\":\"HKCategoryValueSleepAnalysisAsleepCore\",\"showlegend\":false,\"x\":[\"2025-05-12T06:27:37+02:00\",\"2025-05-12T06:35:37+02:00\"],\"y\":[\"HKCategoryValueSleepAnalysisAsleepCore\",\"HKCategoryValueSleepAnalysisAsleepCore\"],\"type\":\"scatter\"},{\"hoverinfo\":\"text\",\"hovertext\":\"2025-05-12 06:35:37+02:00 - 2025-05-12 06:40:37+02:00\\u003cbr\\u003eSleep stage: HKCategoryValueSleepAnalysisAwake\",\"line\":{\"color\":\"#ff816a\",\"shape\":\"hvh\",\"width\":10},\"mode\":\"lines\",\"name\":\"HKCategoryValueSleepAnalysisAwake\",\"showlegend\":false,\"x\":[\"2025-05-12T06:35:37+02:00\",\"2025-05-12T06:40:37+02:00\"],\"y\":[\"HKCategoryValueSleepAnalysisAwake\",\"HKCategoryValueSleepAnalysisAwake\"],\"type\":\"scatter\"},{\"hoverinfo\":\"text\",\"hovertext\":\"2025-05-12 06:40:37+02:00 - 2025-05-12 06:42:37+02:00\\u003cbr\\u003eSleep stage: HKCategoryValueSleepAnalysisAsleepCore\",\"line\":{\"color\":\"#32abe4\",\"shape\":\"hvh\",\"width\":10},\"mode\":\"lines\",\"name\":\"HKCategoryValueSleepAnalysisAsleepCore\",\"showlegend\":false,\"x\":[\"2025-05-12T06:40:37+02:00\",\"2025-05-12T06:42:37+02:00\"],\"y\":[\"HKCategoryValueSleepAnalysisAsleepCore\",\"HKCategoryValueSleepAnalysisAsleepCore\"],\"type\":\"scatter\"},{\"hoverinfo\":\"text\",\"hovertext\":\"2025-05-12 06:42:37+02:00 - 2025-05-12 06:45:37+02:00\\u003cbr\\u003eSleep stage: HKCategoryValueSleepAnalysisAwake\",\"line\":{\"color\":\"#ff816a\",\"shape\":\"hvh\",\"width\":10},\"mode\":\"lines\",\"name\":\"HKCategoryValueSleepAnalysisAwake\",\"showlegend\":false,\"x\":[\"2025-05-12T06:42:37+02:00\",\"2025-05-12T06:45:37+02:00\"],\"y\":[\"HKCategoryValueSleepAnalysisAwake\",\"HKCategoryValueSleepAnalysisAwake\"],\"type\":\"scatter\"},{\"hoverinfo\":\"text\",\"hovertext\":\"2025-05-12 06:45:37+02:00 - 2025-05-12 06:46:37+02:00\\u003cbr\\u003eSleep stage: HKCategoryValueSleepAnalysisAsleepCore\",\"line\":{\"color\":\"#32abe4\",\"shape\":\"hvh\",\"width\":10},\"mode\":\"lines\",\"name\":\"HKCategoryValueSleepAnalysisAsleepCore\",\"showlegend\":false,\"x\":[\"2025-05-12T06:45:37+02:00\",\"2025-05-12T06:46:37+02:00\"],\"y\":[\"HKCategoryValueSleepAnalysisAsleepCore\",\"HKCategoryValueSleepAnalysisAsleepCore\"],\"type\":\"scatter\"},{\"hoverinfo\":\"text\",\"hovertext\":\"2025-05-12 06:46:37+02:00 - 2025-05-12 06:52:07+02:00\\u003cbr\\u003eSleep stage: HKCategoryValueSleepAnalysisAwake\",\"line\":{\"color\":\"#ff816a\",\"shape\":\"hvh\",\"width\":10},\"mode\":\"lines\",\"name\":\"HKCategoryValueSleepAnalysisAwake\",\"showlegend\":false,\"x\":[\"2025-05-12T06:46:37+02:00\",\"2025-05-12T06:52:07+02:00\"],\"y\":[\"HKCategoryValueSleepAnalysisAwake\",\"HKCategoryValueSleepAnalysisAwake\"],\"type\":\"scatter\"},{\"hoverinfo\":\"text\",\"hovertext\":\"2025-05-12 06:52:07+02:00 - 2025-05-12 06:55:37+02:00\\u003cbr\\u003eSleep stage: HKCategoryValueSleepAnalysisAsleepCore\",\"line\":{\"color\":\"#32abe4\",\"shape\":\"hvh\",\"width\":10},\"mode\":\"lines\",\"name\":\"HKCategoryValueSleepAnalysisAsleepCore\",\"showlegend\":false,\"x\":[\"2025-05-12T06:52:07+02:00\",\"2025-05-12T06:55:37+02:00\"],\"y\":[\"HKCategoryValueSleepAnalysisAsleepCore\",\"HKCategoryValueSleepAnalysisAsleepCore\"],\"type\":\"scatter\"},{\"hoverinfo\":\"text\",\"hovertext\":\"2025-05-12 06:55:37+02:00 - 2025-05-12 06:56:37+02:00\\u003cbr\\u003eSleep stage: HKCategoryValueSleepAnalysisAwake\",\"line\":{\"color\":\"#ff816a\",\"shape\":\"hvh\",\"width\":10},\"mode\":\"lines\",\"name\":\"HKCategoryValueSleepAnalysisAwake\",\"showlegend\":false,\"x\":[\"2025-05-12T06:55:37+02:00\",\"2025-05-12T06:56:37+02:00\"],\"y\":[\"HKCategoryValueSleepAnalysisAwake\",\"HKCategoryValueSleepAnalysisAwake\"],\"type\":\"scatter\"},{\"hoverinfo\":\"text\",\"hovertext\":\"2025-05-12 06:56:37+02:00 - 2025-05-12 06:59:07+02:00\\u003cbr\\u003eSleep stage: HKCategoryValueSleepAnalysisAsleepCore\",\"line\":{\"color\":\"#32abe4\",\"shape\":\"hvh\",\"width\":10},\"mode\":\"lines\",\"name\":\"HKCategoryValueSleepAnalysisAsleepCore\",\"showlegend\":false,\"x\":[\"2025-05-12T06:56:37+02:00\",\"2025-05-12T06:59:07+02:00\"],\"y\":[\"HKCategoryValueSleepAnalysisAsleepCore\",\"HKCategoryValueSleepAnalysisAsleepCore\"],\"type\":\"scatter\"},{\"hoverinfo\":\"text\",\"hovertext\":\"2025-05-12 06:59:07+02:00 - 2025-05-12 07:01:07+02:00\\u003cbr\\u003eSleep stage: HKCategoryValueSleepAnalysisAwake\",\"line\":{\"color\":\"#ff816a\",\"shape\":\"hvh\",\"width\":10},\"mode\":\"lines\",\"name\":\"HKCategoryValueSleepAnalysisAwake\",\"showlegend\":false,\"x\":[\"2025-05-12T06:59:07+02:00\",\"2025-05-12T07:01:07+02:00\"],\"y\":[\"HKCategoryValueSleepAnalysisAwake\",\"HKCategoryValueSleepAnalysisAwake\"],\"type\":\"scatter\"},{\"hoverinfo\":\"text\",\"hovertext\":\"2025-05-12 07:01:07+02:00 - 2025-05-12 07:13:07+02:00\\u003cbr\\u003eSleep stage: HKCategoryValueSleepAnalysisAsleepCore\",\"line\":{\"color\":\"#32abe4\",\"shape\":\"hvh\",\"width\":10},\"mode\":\"lines\",\"name\":\"HKCategoryValueSleepAnalysisAsleepCore\",\"showlegend\":false,\"x\":[\"2025-05-12T07:01:07+02:00\",\"2025-05-12T07:13:07+02:00\"],\"y\":[\"HKCategoryValueSleepAnalysisAsleepCore\",\"HKCategoryValueSleepAnalysisAsleepCore\"],\"type\":\"scatter\"},{\"hoverinfo\":\"text\",\"hovertext\":\"2025-05-12 07:13:07+02:00 - 2025-05-12 07:15:37+02:00\\u003cbr\\u003eSleep stage: HKCategoryValueSleepAnalysisAwake\",\"line\":{\"color\":\"#ff816a\",\"shape\":\"hvh\",\"width\":10},\"mode\":\"lines\",\"name\":\"HKCategoryValueSleepAnalysisAwake\",\"showlegend\":false,\"x\":[\"2025-05-12T07:13:07+02:00\",\"2025-05-12T07:15:37+02:00\"],\"y\":[\"HKCategoryValueSleepAnalysisAwake\",\"HKCategoryValueSleepAnalysisAwake\"],\"type\":\"scatter\"},{\"hoverinfo\":\"text\",\"hovertext\":\"2025-05-12 07:15:37+02:00 - 2025-05-12 07:23:37+02:00\\u003cbr\\u003eSleep stage: HKCategoryValueSleepAnalysisAsleepCore\",\"line\":{\"color\":\"#32abe4\",\"shape\":\"hvh\",\"width\":10},\"mode\":\"lines\",\"name\":\"HKCategoryValueSleepAnalysisAsleepCore\",\"showlegend\":false,\"x\":[\"2025-05-12T07:15:37+02:00\",\"2025-05-12T07:23:37+02:00\"],\"y\":[\"HKCategoryValueSleepAnalysisAsleepCore\",\"HKCategoryValueSleepAnalysisAsleepCore\"],\"type\":\"scatter\"},{\"hoverinfo\":\"text\",\"hovertext\":\"2025-05-12 07:23:37+02:00 - 2025-05-12 07:35:37+02:00\\u003cbr\\u003eSleep stage: HKCategoryValueSleepAnalysisAwake\",\"line\":{\"color\":\"#ff816a\",\"shape\":\"hvh\",\"width\":10},\"mode\":\"lines\",\"name\":\"HKCategoryValueSleepAnalysisAwake\",\"showlegend\":false,\"x\":[\"2025-05-12T07:23:37+02:00\",\"2025-05-12T07:35:37+02:00\"],\"y\":[\"HKCategoryValueSleepAnalysisAwake\",\"HKCategoryValueSleepAnalysisAwake\"],\"type\":\"scatter\"},{\"hoverinfo\":\"text\",\"hovertext\":\"2025-05-12 07:35:37+02:00 - 2025-05-12 07:37:07+02:00\\u003cbr\\u003eSleep stage: HKCategoryValueSleepAnalysisAsleepCore\",\"line\":{\"color\":\"#32abe4\",\"shape\":\"hvh\",\"width\":10},\"mode\":\"lines\",\"name\":\"HKCategoryValueSleepAnalysisAsleepCore\",\"showlegend\":false,\"x\":[\"2025-05-12T07:35:37+02:00\",\"2025-05-12T07:37:07+02:00\"],\"y\":[\"HKCategoryValueSleepAnalysisAsleepCore\",\"HKCategoryValueSleepAnalysisAsleepCore\"],\"type\":\"scatter\"},{\"hoverinfo\":\"text\",\"hovertext\":\"2025-05-12 07:37:07+02:00 - 2025-05-12 07:39:37+02:00\\u003cbr\\u003eSleep stage: HKCategoryValueSleepAnalysisAwake\",\"line\":{\"color\":\"#ff816a\",\"shape\":\"hvh\",\"width\":10},\"mode\":\"lines\",\"name\":\"HKCategoryValueSleepAnalysisAwake\",\"showlegend\":false,\"x\":[\"2025-05-12T07:37:07+02:00\",\"2025-05-12T07:39:37+02:00\"],\"y\":[\"HKCategoryValueSleepAnalysisAwake\",\"HKCategoryValueSleepAnalysisAwake\"],\"type\":\"scatter\"},{\"hoverinfo\":\"text\",\"hovertext\":\"2025-05-12 07:39:37+02:00 - 2025-05-12 07:44:07+02:00\\u003cbr\\u003eSleep stage: HKCategoryValueSleepAnalysisAsleepCore\",\"line\":{\"color\":\"#32abe4\",\"shape\":\"hvh\",\"width\":10},\"mode\":\"lines\",\"name\":\"HKCategoryValueSleepAnalysisAsleepCore\",\"showlegend\":false,\"x\":[\"2025-05-12T07:39:37+02:00\",\"2025-05-12T07:44:07+02:00\"],\"y\":[\"HKCategoryValueSleepAnalysisAsleepCore\",\"HKCategoryValueSleepAnalysisAsleepCore\"],\"type\":\"scatter\"},{\"hoverinfo\":\"text\",\"hovertext\":\"2025-05-12 07:44:07+02:00 - 2025-05-12 07:44:37+02:00\\u003cbr\\u003eSleep stage: HKCategoryValueSleepAnalysisAwake\",\"line\":{\"color\":\"#ff816a\",\"shape\":\"hvh\",\"width\":10},\"mode\":\"lines\",\"name\":\"HKCategoryValueSleepAnalysisAwake\",\"showlegend\":false,\"x\":[\"2025-05-12T07:44:07+02:00\",\"2025-05-12T07:44:37+02:00\"],\"y\":[\"HKCategoryValueSleepAnalysisAwake\",\"HKCategoryValueSleepAnalysisAwake\"],\"type\":\"scatter\"},{\"hoverinfo\":\"text\",\"hovertext\":\"2025-05-12 07:44:37+02:00 - 2025-05-12 07:47:37+02:00\\u003cbr\\u003eSleep stage: HKCategoryValueSleepAnalysisAsleepCore\",\"line\":{\"color\":\"#32abe4\",\"shape\":\"hvh\",\"width\":10},\"mode\":\"lines\",\"name\":\"HKCategoryValueSleepAnalysisAsleepCore\",\"showlegend\":false,\"x\":[\"2025-05-12T07:44:37+02:00\",\"2025-05-12T07:47:37+02:00\"],\"y\":[\"HKCategoryValueSleepAnalysisAsleepCore\",\"HKCategoryValueSleepAnalysisAsleepCore\"],\"type\":\"scatter\"}],                        {\"template\":{\"data\":{\"barpolar\":[{\"marker\":{\"line\":{\"color\":\"white\",\"width\":0.5},\"pattern\":{\"fillmode\":\"overlay\",\"size\":10,\"solidity\":0.2}},\"type\":\"barpolar\"}],\"bar\":[{\"error_x\":{\"color\":\"rgb(36,36,36)\"},\"error_y\":{\"color\":\"rgb(36,36,36)\"},\"marker\":{\"line\":{\"color\":\"white\",\"width\":0.5},\"pattern\":{\"fillmode\":\"overlay\",\"size\":10,\"solidity\":0.2}},\"type\":\"bar\"}],\"carpet\":[{\"aaxis\":{\"endlinecolor\":\"rgb(36,36,36)\",\"gridcolor\":\"white\",\"linecolor\":\"white\",\"minorgridcolor\":\"white\",\"startlinecolor\":\"rgb(36,36,36)\"},\"baxis\":{\"endlinecolor\":\"rgb(36,36,36)\",\"gridcolor\":\"white\",\"linecolor\":\"white\",\"minorgridcolor\":\"white\",\"startlinecolor\":\"rgb(36,36,36)\"},\"type\":\"carpet\"}],\"choropleth\":[{\"colorbar\":{\"outlinewidth\":1,\"tickcolor\":\"rgb(36,36,36)\",\"ticks\":\"outside\"},\"type\":\"choropleth\"}],\"contourcarpet\":[{\"colorbar\":{\"outlinewidth\":1,\"tickcolor\":\"rgb(36,36,36)\",\"ticks\":\"outside\"},\"type\":\"contourcarpet\"}],\"contour\":[{\"colorbar\":{\"outlinewidth\":1,\"tickcolor\":\"rgb(36,36,36)\",\"ticks\":\"outside\"},\"colorscale\":[[0.0,\"#440154\"],[0.1111111111111111,\"#482878\"],[0.2222222222222222,\"#3e4989\"],[0.3333333333333333,\"#31688e\"],[0.4444444444444444,\"#26828e\"],[0.5555555555555556,\"#1f9e89\"],[0.6666666666666666,\"#35b779\"],[0.7777777777777778,\"#6ece58\"],[0.8888888888888888,\"#b5de2b\"],[1.0,\"#fde725\"]],\"type\":\"contour\"}],\"heatmapgl\":[{\"colorbar\":{\"outlinewidth\":1,\"tickcolor\":\"rgb(36,36,36)\",\"ticks\":\"outside\"},\"colorscale\":[[0.0,\"#440154\"],[0.1111111111111111,\"#482878\"],[0.2222222222222222,\"#3e4989\"],[0.3333333333333333,\"#31688e\"],[0.4444444444444444,\"#26828e\"],[0.5555555555555556,\"#1f9e89\"],[0.6666666666666666,\"#35b779\"],[0.7777777777777778,\"#6ece58\"],[0.8888888888888888,\"#b5de2b\"],[1.0,\"#fde725\"]],\"type\":\"heatmapgl\"}],\"heatmap\":[{\"colorbar\":{\"outlinewidth\":1,\"tickcolor\":\"rgb(36,36,36)\",\"ticks\":\"outside\"},\"colorscale\":[[0.0,\"#440154\"],[0.1111111111111111,\"#482878\"],[0.2222222222222222,\"#3e4989\"],[0.3333333333333333,\"#31688e\"],[0.4444444444444444,\"#26828e\"],[0.5555555555555556,\"#1f9e89\"],[0.6666666666666666,\"#35b779\"],[0.7777777777777778,\"#6ece58\"],[0.8888888888888888,\"#b5de2b\"],[1.0,\"#fde725\"]],\"type\":\"heatmap\"}],\"histogram2dcontour\":[{\"colorbar\":{\"outlinewidth\":1,\"tickcolor\":\"rgb(36,36,36)\",\"ticks\":\"outside\"},\"colorscale\":[[0.0,\"#440154\"],[0.1111111111111111,\"#482878\"],[0.2222222222222222,\"#3e4989\"],[0.3333333333333333,\"#31688e\"],[0.4444444444444444,\"#26828e\"],[0.5555555555555556,\"#1f9e89\"],[0.6666666666666666,\"#35b779\"],[0.7777777777777778,\"#6ece58\"],[0.8888888888888888,\"#b5de2b\"],[1.0,\"#fde725\"]],\"type\":\"histogram2dcontour\"}],\"histogram2d\":[{\"colorbar\":{\"outlinewidth\":1,\"tickcolor\":\"rgb(36,36,36)\",\"ticks\":\"outside\"},\"colorscale\":[[0.0,\"#440154\"],[0.1111111111111111,\"#482878\"],[0.2222222222222222,\"#3e4989\"],[0.3333333333333333,\"#31688e\"],[0.4444444444444444,\"#26828e\"],[0.5555555555555556,\"#1f9e89\"],[0.6666666666666666,\"#35b779\"],[0.7777777777777778,\"#6ece58\"],[0.8888888888888888,\"#b5de2b\"],[1.0,\"#fde725\"]],\"type\":\"histogram2d\"}],\"histogram\":[{\"marker\":{\"line\":{\"color\":\"white\",\"width\":0.6}},\"type\":\"histogram\"}],\"mesh3d\":[{\"colorbar\":{\"outlinewidth\":1,\"tickcolor\":\"rgb(36,36,36)\",\"ticks\":\"outside\"},\"type\":\"mesh3d\"}],\"parcoords\":[{\"line\":{\"colorbar\":{\"outlinewidth\":1,\"tickcolor\":\"rgb(36,36,36)\",\"ticks\":\"outside\"}},\"type\":\"parcoords\"}],\"pie\":[{\"automargin\":true,\"type\":\"pie\"}],\"scatter3d\":[{\"line\":{\"colorbar\":{\"outlinewidth\":1,\"tickcolor\":\"rgb(36,36,36)\",\"ticks\":\"outside\"}},\"marker\":{\"colorbar\":{\"outlinewidth\":1,\"tickcolor\":\"rgb(36,36,36)\",\"ticks\":\"outside\"}},\"type\":\"scatter3d\"}],\"scattercarpet\":[{\"marker\":{\"colorbar\":{\"outlinewidth\":1,\"tickcolor\":\"rgb(36,36,36)\",\"ticks\":\"outside\"}},\"type\":\"scattercarpet\"}],\"scattergeo\":[{\"marker\":{\"colorbar\":{\"outlinewidth\":1,\"tickcolor\":\"rgb(36,36,36)\",\"ticks\":\"outside\"}},\"type\":\"scattergeo\"}],\"scattergl\":[{\"marker\":{\"colorbar\":{\"outlinewidth\":1,\"tickcolor\":\"rgb(36,36,36)\",\"ticks\":\"outside\"}},\"type\":\"scattergl\"}],\"scattermapbox\":[{\"marker\":{\"colorbar\":{\"outlinewidth\":1,\"tickcolor\":\"rgb(36,36,36)\",\"ticks\":\"outside\"}},\"type\":\"scattermapbox\"}],\"scatterpolargl\":[{\"marker\":{\"colorbar\":{\"outlinewidth\":1,\"tickcolor\":\"rgb(36,36,36)\",\"ticks\":\"outside\"}},\"type\":\"scatterpolargl\"}],\"scatterpolar\":[{\"marker\":{\"colorbar\":{\"outlinewidth\":1,\"tickcolor\":\"rgb(36,36,36)\",\"ticks\":\"outside\"}},\"type\":\"scatterpolar\"}],\"scatter\":[{\"fillpattern\":{\"fillmode\":\"overlay\",\"size\":10,\"solidity\":0.2},\"type\":\"scatter\"}],\"scatterternary\":[{\"marker\":{\"colorbar\":{\"outlinewidth\":1,\"tickcolor\":\"rgb(36,36,36)\",\"ticks\":\"outside\"}},\"type\":\"scatterternary\"}],\"surface\":[{\"colorbar\":{\"outlinewidth\":1,\"tickcolor\":\"rgb(36,36,36)\",\"ticks\":\"outside\"},\"colorscale\":[[0.0,\"#440154\"],[0.1111111111111111,\"#482878\"],[0.2222222222222222,\"#3e4989\"],[0.3333333333333333,\"#31688e\"],[0.4444444444444444,\"#26828e\"],[0.5555555555555556,\"#1f9e89\"],[0.6666666666666666,\"#35b779\"],[0.7777777777777778,\"#6ece58\"],[0.8888888888888888,\"#b5de2b\"],[1.0,\"#fde725\"]],\"type\":\"surface\"}],\"table\":[{\"cells\":{\"fill\":{\"color\":\"rgb(237,237,237)\"},\"line\":{\"color\":\"white\"}},\"header\":{\"fill\":{\"color\":\"rgb(217,217,217)\"},\"line\":{\"color\":\"white\"}},\"type\":\"table\"}]},\"layout\":{\"annotationdefaults\":{\"arrowhead\":0,\"arrowwidth\":1},\"autotypenumbers\":\"strict\",\"coloraxis\":{\"colorbar\":{\"outlinewidth\":1,\"tickcolor\":\"rgb(36,36,36)\",\"ticks\":\"outside\"}},\"colorscale\":{\"diverging\":[[0.0,\"rgb(103,0,31)\"],[0.1,\"rgb(178,24,43)\"],[0.2,\"rgb(214,96,77)\"],[0.3,\"rgb(244,165,130)\"],[0.4,\"rgb(253,219,199)\"],[0.5,\"rgb(247,247,247)\"],[0.6,\"rgb(209,229,240)\"],[0.7,\"rgb(146,197,222)\"],[0.8,\"rgb(67,147,195)\"],[0.9,\"rgb(33,102,172)\"],[1.0,\"rgb(5,48,97)\"]],\"sequential\":[[0.0,\"#440154\"],[0.1111111111111111,\"#482878\"],[0.2222222222222222,\"#3e4989\"],[0.3333333333333333,\"#31688e\"],[0.4444444444444444,\"#26828e\"],[0.5555555555555556,\"#1f9e89\"],[0.6666666666666666,\"#35b779\"],[0.7777777777777778,\"#6ece58\"],[0.8888888888888888,\"#b5de2b\"],[1.0,\"#fde725\"]],\"sequentialminus\":[[0.0,\"#440154\"],[0.1111111111111111,\"#482878\"],[0.2222222222222222,\"#3e4989\"],[0.3333333333333333,\"#31688e\"],[0.4444444444444444,\"#26828e\"],[0.5555555555555556,\"#1f9e89\"],[0.6666666666666666,\"#35b779\"],[0.7777777777777778,\"#6ece58\"],[0.8888888888888888,\"#b5de2b\"],[1.0,\"#fde725\"]]},\"colorway\":[\"#1F77B4\",\"#FF7F0E\",\"#2CA02C\",\"#D62728\",\"#9467BD\",\"#8C564B\",\"#E377C2\",\"#7F7F7F\",\"#BCBD22\",\"#17BECF\"],\"font\":{\"color\":\"rgb(36,36,36)\"},\"geo\":{\"bgcolor\":\"white\",\"lakecolor\":\"white\",\"landcolor\":\"white\",\"showlakes\":true,\"showland\":true,\"subunitcolor\":\"white\"},\"hoverlabel\":{\"align\":\"left\"},\"hovermode\":\"closest\",\"mapbox\":{\"style\":\"light\"},\"paper_bgcolor\":\"white\",\"plot_bgcolor\":\"white\",\"polar\":{\"angularaxis\":{\"gridcolor\":\"rgb(232,232,232)\",\"linecolor\":\"rgb(36,36,36)\",\"showgrid\":false,\"showline\":true,\"ticks\":\"outside\"},\"bgcolor\":\"white\",\"radialaxis\":{\"gridcolor\":\"rgb(232,232,232)\",\"linecolor\":\"rgb(36,36,36)\",\"showgrid\":false,\"showline\":true,\"ticks\":\"outside\"}},\"scene\":{\"xaxis\":{\"backgroundcolor\":\"white\",\"gridcolor\":\"rgb(232,232,232)\",\"gridwidth\":2,\"linecolor\":\"rgb(36,36,36)\",\"showbackground\":true,\"showgrid\":false,\"showline\":true,\"ticks\":\"outside\",\"zeroline\":false,\"zerolinecolor\":\"rgb(36,36,36)\"},\"yaxis\":{\"backgroundcolor\":\"white\",\"gridcolor\":\"rgb(232,232,232)\",\"gridwidth\":2,\"linecolor\":\"rgb(36,36,36)\",\"showbackground\":true,\"showgrid\":false,\"showline\":true,\"ticks\":\"outside\",\"zeroline\":false,\"zerolinecolor\":\"rgb(36,36,36)\"},\"zaxis\":{\"backgroundcolor\":\"white\",\"gridcolor\":\"rgb(232,232,232)\",\"gridwidth\":2,\"linecolor\":\"rgb(36,36,36)\",\"showbackground\":true,\"showgrid\":false,\"showline\":true,\"ticks\":\"outside\",\"zeroline\":false,\"zerolinecolor\":\"rgb(36,36,36)\"}},\"shapedefaults\":{\"fillcolor\":\"black\",\"line\":{\"width\":0},\"opacity\":0.3},\"ternary\":{\"aaxis\":{\"gridcolor\":\"rgb(232,232,232)\",\"linecolor\":\"rgb(36,36,36)\",\"showgrid\":false,\"showline\":true,\"ticks\":\"outside\"},\"baxis\":{\"gridcolor\":\"rgb(232,232,232)\",\"linecolor\":\"rgb(36,36,36)\",\"showgrid\":false,\"showline\":true,\"ticks\":\"outside\"},\"bgcolor\":\"white\",\"caxis\":{\"gridcolor\":\"rgb(232,232,232)\",\"linecolor\":\"rgb(36,36,36)\",\"showgrid\":false,\"showline\":true,\"ticks\":\"outside\"}},\"title\":{\"x\":0.05},\"xaxis\":{\"automargin\":true,\"gridcolor\":\"rgb(232,232,232)\",\"linecolor\":\"rgb(36,36,36)\",\"showgrid\":false,\"showline\":true,\"ticks\":\"outside\",\"title\":{\"standoff\":15},\"zeroline\":false,\"zerolinecolor\":\"rgb(36,36,36)\"},\"yaxis\":{\"automargin\":true,\"gridcolor\":\"rgb(232,232,232)\",\"linecolor\":\"rgb(36,36,36)\",\"showgrid\":false,\"showline\":true,\"ticks\":\"outside\",\"title\":{\"standoff\":15},\"zeroline\":false,\"zerolinecolor\":\"rgb(36,36,36)\"}}},\"legend\":{\"title\":{\"text\":\"Sleep Stage\"}},\"xaxis\":{\"title\":{\"text\":\"Date\"}},\"yaxis\":{\"title\":{\"text\":\"Sleep Analysis count (None)\"}}},                        {\"responsive\": true}                    ).then(function(){\n",
       "                            \n",
       "var gd = document.getElementById('dd712112-102b-4640-b190-189243b3d4f2');\n",
       "var x = new MutationObserver(function (mutations, observer) {{\n",
       "        var display = window.getComputedStyle(gd).display;\n",
       "        if (!display || display === 'none') {{\n",
       "            console.log([gd, 'removed!']);\n",
       "            Plotly.purge(gd);\n",
       "            observer.disconnect();\n",
       "        }}\n",
       "}});\n",
       "\n",
       "// Listen for the removal of the full notebook cells\n",
       "var notebookContainer = gd.closest('#notebook-container');\n",
       "if (notebookContainer) {{\n",
       "    x.observe(notebookContainer, {childList: true});\n",
       "}}\n",
       "\n",
       "// Listen for the clearing of the current output cell\n",
       "var outputEl = gd.closest('.output');\n",
       "if (outputEl) {{\n",
       "    x.observe(outputEl, {childList: true});\n",
       "}}\n",
       "\n",
       "                        })                };                });            </script>        </div>"
      ]
     },
     "metadata": {},
     "output_type": "display_data"
    },
    {
     "data": {
      "application/vnd.plotly.v1+json": {
       "data": [
        {
         "hoverinfo": "text",
         "hovertext": "2025-05-12 00:52:07+02:00 - 2025-05-12 00:55:07+02:00<br>Sleep stage: HKCategoryValueSleepAnalysisAsleepCore",
         "line": {
          "color": "#32abe4",
          "shape": "hvh",
          "width": 10
         },
         "mode": "lines",
         "name": "HKCategoryValueSleepAnalysisAsleepCore",
         "showlegend": false,
         "x": [
          "2025-05-12T00:52:07+02:00",
          "2025-05-12T00:55:07+02:00"
         ],
         "y": [
          "HKCategoryValueSleepAnalysisAsleepCore",
          "HKCategoryValueSleepAnalysisAsleepCore"
         ],
         "type": "scatter"
        },
        {
         "hoverinfo": "text",
         "hovertext": "2025-05-12 00:55:07+02:00 - 2025-05-12 01:05:07+02:00<br>Sleep stage: HKCategoryValueSleepAnalysisAwake",
         "line": {
          "color": "#ff816a",
          "shape": "hvh",
          "width": 10
         },
         "mode": "lines",
         "name": "HKCategoryValueSleepAnalysisAwake",
         "showlegend": false,
         "x": [
          "2025-05-12T00:55:07+02:00",
          "2025-05-12T01:05:07+02:00"
         ],
         "y": [
          "HKCategoryValueSleepAnalysisAwake",
          "HKCategoryValueSleepAnalysisAwake"
         ],
         "type": "scatter"
        },
        {
         "hoverinfo": "text",
         "hovertext": "2025-05-12 01:05:07+02:00 - 2025-05-12 01:22:07+02:00<br>Sleep stage: HKCategoryValueSleepAnalysisAsleepCore",
         "line": {
          "color": "#32abe4",
          "shape": "hvh",
          "width": 10
         },
         "mode": "lines",
         "name": "HKCategoryValueSleepAnalysisAsleepCore",
         "showlegend": false,
         "x": [
          "2025-05-12T01:05:07+02:00",
          "2025-05-12T01:22:07+02:00"
         ],
         "y": [
          "HKCategoryValueSleepAnalysisAsleepCore",
          "HKCategoryValueSleepAnalysisAsleepCore"
         ],
         "type": "scatter"
        },
        {
         "hoverinfo": "text",
         "hovertext": "2025-05-12 01:22:07+02:00 - 2025-05-12 02:07:07+02:00<br>Sleep stage: HKCategoryValueSleepAnalysisAsleepDeep",
         "line": {
          "color": "#007aff",
          "shape": "hvh",
          "width": 10
         },
         "mode": "lines",
         "name": "HKCategoryValueSleepAnalysisAsleepDeep",
         "showlegend": false,
         "x": [
          "2025-05-12T01:22:07+02:00",
          "2025-05-12T02:07:07+02:00"
         ],
         "y": [
          "HKCategoryValueSleepAnalysisAsleepDeep",
          "HKCategoryValueSleepAnalysisAsleepDeep"
         ],
         "type": "scatter"
        },
        {
         "hoverinfo": "text",
         "hovertext": "2025-05-12 02:07:07+02:00 - 2025-05-12 02:11:07+02:00<br>Sleep stage: HKCategoryValueSleepAnalysisAsleepCore",
         "line": {
          "color": "#32abe4",
          "shape": "hvh",
          "width": 10
         },
         "mode": "lines",
         "name": "HKCategoryValueSleepAnalysisAsleepCore",
         "showlegend": false,
         "x": [
          "2025-05-12T02:07:07+02:00",
          "2025-05-12T02:11:07+02:00"
         ],
         "y": [
          "HKCategoryValueSleepAnalysisAsleepCore",
          "HKCategoryValueSleepAnalysisAsleepCore"
         ],
         "type": "scatter"
        },
        {
         "hoverinfo": "text",
         "hovertext": "2025-05-12 02:11:07+02:00 - 2025-05-12 02:26:07+02:00<br>Sleep stage: HKCategoryValueSleepAnalysisAsleepREM",
         "line": {
          "color": "#3634a3",
          "shape": "hvh",
          "width": 10
         },
         "mode": "lines",
         "name": "HKCategoryValueSleepAnalysisAsleepREM",
         "showlegend": false,
         "x": [
          "2025-05-12T02:11:07+02:00",
          "2025-05-12T02:26:07+02:00"
         ],
         "y": [
          "HKCategoryValueSleepAnalysisAsleepREM",
          "HKCategoryValueSleepAnalysisAsleepREM"
         ],
         "type": "scatter"
        },
        {
         "hoverinfo": "text",
         "hovertext": "2025-05-12 02:26:07+02:00 - 2025-05-12 03:01:07+02:00<br>Sleep stage: HKCategoryValueSleepAnalysisAsleepCore",
         "line": {
          "color": "#32abe4",
          "shape": "hvh",
          "width": 10
         },
         "mode": "lines",
         "name": "HKCategoryValueSleepAnalysisAsleepCore",
         "showlegend": false,
         "x": [
          "2025-05-12T02:26:07+02:00",
          "2025-05-12T03:01:07+02:00"
         ],
         "y": [
          "HKCategoryValueSleepAnalysisAsleepCore",
          "HKCategoryValueSleepAnalysisAsleepCore"
         ],
         "type": "scatter"
        },
        {
         "hoverinfo": "text",
         "hovertext": "2025-05-12 03:01:07+02:00 - 2025-05-12 03:01:37+02:00<br>Sleep stage: HKCategoryValueSleepAnalysisAwake",
         "line": {
          "color": "#ff816a",
          "shape": "hvh",
          "width": 10
         },
         "mode": "lines",
         "name": "HKCategoryValueSleepAnalysisAwake",
         "showlegend": false,
         "x": [
          "2025-05-12T03:01:07+02:00",
          "2025-05-12T03:01:37+02:00"
         ],
         "y": [
          "HKCategoryValueSleepAnalysisAwake",
          "HKCategoryValueSleepAnalysisAwake"
         ],
         "type": "scatter"
        },
        {
         "hoverinfo": "text",
         "hovertext": "2025-05-12 03:01:37+02:00 - 2025-05-12 03:51:37+02:00<br>Sleep stage: HKCategoryValueSleepAnalysisAsleepCore",
         "line": {
          "color": "#32abe4",
          "shape": "hvh",
          "width": 10
         },
         "mode": "lines",
         "name": "HKCategoryValueSleepAnalysisAsleepCore",
         "showlegend": false,
         "x": [
          "2025-05-12T03:01:37+02:00",
          "2025-05-12T03:51:37+02:00"
         ],
         "y": [
          "HKCategoryValueSleepAnalysisAsleepCore",
          "HKCategoryValueSleepAnalysisAsleepCore"
         ],
         "type": "scatter"
        },
        {
         "hoverinfo": "text",
         "hovertext": "2025-05-12 03:51:37+02:00 - 2025-05-12 03:53:07+02:00<br>Sleep stage: HKCategoryValueSleepAnalysisAwake",
         "line": {
          "color": "#ff816a",
          "shape": "hvh",
          "width": 10
         },
         "mode": "lines",
         "name": "HKCategoryValueSleepAnalysisAwake",
         "showlegend": false,
         "x": [
          "2025-05-12T03:51:37+02:00",
          "2025-05-12T03:53:07+02:00"
         ],
         "y": [
          "HKCategoryValueSleepAnalysisAwake",
          "HKCategoryValueSleepAnalysisAwake"
         ],
         "type": "scatter"
        },
        {
         "hoverinfo": "text",
         "hovertext": "2025-05-12 03:53:07+02:00 - 2025-05-12 03:56:07+02:00<br>Sleep stage: HKCategoryValueSleepAnalysisAsleepCore",
         "line": {
          "color": "#32abe4",
          "shape": "hvh",
          "width": 10
         },
         "mode": "lines",
         "name": "HKCategoryValueSleepAnalysisAsleepCore",
         "showlegend": false,
         "x": [
          "2025-05-12T03:53:07+02:00",
          "2025-05-12T03:56:07+02:00"
         ],
         "y": [
          "HKCategoryValueSleepAnalysisAsleepCore",
          "HKCategoryValueSleepAnalysisAsleepCore"
         ],
         "type": "scatter"
        },
        {
         "hoverinfo": "text",
         "hovertext": "2025-05-12 03:56:07+02:00 - 2025-05-12 04:35:07+02:00<br>Sleep stage: HKCategoryValueSleepAnalysisAsleepREM",
         "line": {
          "color": "#3634a3",
          "shape": "hvh",
          "width": 10
         },
         "mode": "lines",
         "name": "HKCategoryValueSleepAnalysisAsleepREM",
         "showlegend": false,
         "x": [
          "2025-05-12T03:56:07+02:00",
          "2025-05-12T04:35:07+02:00"
         ],
         "y": [
          "HKCategoryValueSleepAnalysisAsleepREM",
          "HKCategoryValueSleepAnalysisAsleepREM"
         ],
         "type": "scatter"
        },
        {
         "hoverinfo": "text",
         "hovertext": "2025-05-12 04:35:07+02:00 - 2025-05-12 05:50:07+02:00<br>Sleep stage: HKCategoryValueSleepAnalysisAsleepCore",
         "line": {
          "color": "#32abe4",
          "shape": "hvh",
          "width": 10
         },
         "mode": "lines",
         "name": "HKCategoryValueSleepAnalysisAsleepCore",
         "showlegend": false,
         "x": [
          "2025-05-12T04:35:07+02:00",
          "2025-05-12T05:50:07+02:00"
         ],
         "y": [
          "HKCategoryValueSleepAnalysisAsleepCore",
          "HKCategoryValueSleepAnalysisAsleepCore"
         ],
         "type": "scatter"
        },
        {
         "hoverinfo": "text",
         "hovertext": "2025-05-12 05:50:07+02:00 - 2025-05-12 06:14:37+02:00<br>Sleep stage: HKCategoryValueSleepAnalysisAsleepREM",
         "line": {
          "color": "#3634a3",
          "shape": "hvh",
          "width": 10
         },
         "mode": "lines",
         "name": "HKCategoryValueSleepAnalysisAsleepREM",
         "showlegend": false,
         "x": [
          "2025-05-12T05:50:07+02:00",
          "2025-05-12T06:14:37+02:00"
         ],
         "y": [
          "HKCategoryValueSleepAnalysisAsleepREM",
          "HKCategoryValueSleepAnalysisAsleepREM"
         ],
         "type": "scatter"
        },
        {
         "hoverinfo": "text",
         "hovertext": "2025-05-12 06:14:37+02:00 - 2025-05-12 06:22:07+02:00<br>Sleep stage: HKCategoryValueSleepAnalysisAsleepCore",
         "line": {
          "color": "#32abe4",
          "shape": "hvh",
          "width": 10
         },
         "mode": "lines",
         "name": "HKCategoryValueSleepAnalysisAsleepCore",
         "showlegend": false,
         "x": [
          "2025-05-12T06:14:37+02:00",
          "2025-05-12T06:22:07+02:00"
         ],
         "y": [
          "HKCategoryValueSleepAnalysisAsleepCore",
          "HKCategoryValueSleepAnalysisAsleepCore"
         ],
         "type": "scatter"
        },
        {
         "hoverinfo": "text",
         "hovertext": "2025-05-12 06:22:07+02:00 - 2025-05-12 06:27:37+02:00<br>Sleep stage: HKCategoryValueSleepAnalysisAsleepREM",
         "line": {
          "color": "#3634a3",
          "shape": "hvh",
          "width": 10
         },
         "mode": "lines",
         "name": "HKCategoryValueSleepAnalysisAsleepREM",
         "showlegend": false,
         "x": [
          "2025-05-12T06:22:07+02:00",
          "2025-05-12T06:27:37+02:00"
         ],
         "y": [
          "HKCategoryValueSleepAnalysisAsleepREM",
          "HKCategoryValueSleepAnalysisAsleepREM"
         ],
         "type": "scatter"
        },
        {
         "hoverinfo": "text",
         "hovertext": "2025-05-12 06:27:37+02:00 - 2025-05-12 06:35:37+02:00<br>Sleep stage: HKCategoryValueSleepAnalysisAsleepCore",
         "line": {
          "color": "#32abe4",
          "shape": "hvh",
          "width": 10
         },
         "mode": "lines",
         "name": "HKCategoryValueSleepAnalysisAsleepCore",
         "showlegend": false,
         "x": [
          "2025-05-12T06:27:37+02:00",
          "2025-05-12T06:35:37+02:00"
         ],
         "y": [
          "HKCategoryValueSleepAnalysisAsleepCore",
          "HKCategoryValueSleepAnalysisAsleepCore"
         ],
         "type": "scatter"
        },
        {
         "hoverinfo": "text",
         "hovertext": "2025-05-12 06:35:37+02:00 - 2025-05-12 06:40:37+02:00<br>Sleep stage: HKCategoryValueSleepAnalysisAwake",
         "line": {
          "color": "#ff816a",
          "shape": "hvh",
          "width": 10
         },
         "mode": "lines",
         "name": "HKCategoryValueSleepAnalysisAwake",
         "showlegend": false,
         "x": [
          "2025-05-12T06:35:37+02:00",
          "2025-05-12T06:40:37+02:00"
         ],
         "y": [
          "HKCategoryValueSleepAnalysisAwake",
          "HKCategoryValueSleepAnalysisAwake"
         ],
         "type": "scatter"
        },
        {
         "hoverinfo": "text",
         "hovertext": "2025-05-12 06:40:37+02:00 - 2025-05-12 06:42:37+02:00<br>Sleep stage: HKCategoryValueSleepAnalysisAsleepCore",
         "line": {
          "color": "#32abe4",
          "shape": "hvh",
          "width": 10
         },
         "mode": "lines",
         "name": "HKCategoryValueSleepAnalysisAsleepCore",
         "showlegend": false,
         "x": [
          "2025-05-12T06:40:37+02:00",
          "2025-05-12T06:42:37+02:00"
         ],
         "y": [
          "HKCategoryValueSleepAnalysisAsleepCore",
          "HKCategoryValueSleepAnalysisAsleepCore"
         ],
         "type": "scatter"
        },
        {
         "hoverinfo": "text",
         "hovertext": "2025-05-12 06:42:37+02:00 - 2025-05-12 06:45:37+02:00<br>Sleep stage: HKCategoryValueSleepAnalysisAwake",
         "line": {
          "color": "#ff816a",
          "shape": "hvh",
          "width": 10
         },
         "mode": "lines",
         "name": "HKCategoryValueSleepAnalysisAwake",
         "showlegend": false,
         "x": [
          "2025-05-12T06:42:37+02:00",
          "2025-05-12T06:45:37+02:00"
         ],
         "y": [
          "HKCategoryValueSleepAnalysisAwake",
          "HKCategoryValueSleepAnalysisAwake"
         ],
         "type": "scatter"
        },
        {
         "hoverinfo": "text",
         "hovertext": "2025-05-12 06:45:37+02:00 - 2025-05-12 06:46:37+02:00<br>Sleep stage: HKCategoryValueSleepAnalysisAsleepCore",
         "line": {
          "color": "#32abe4",
          "shape": "hvh",
          "width": 10
         },
         "mode": "lines",
         "name": "HKCategoryValueSleepAnalysisAsleepCore",
         "showlegend": false,
         "x": [
          "2025-05-12T06:45:37+02:00",
          "2025-05-12T06:46:37+02:00"
         ],
         "y": [
          "HKCategoryValueSleepAnalysisAsleepCore",
          "HKCategoryValueSleepAnalysisAsleepCore"
         ],
         "type": "scatter"
        },
        {
         "hoverinfo": "text",
         "hovertext": "2025-05-12 06:46:37+02:00 - 2025-05-12 06:52:07+02:00<br>Sleep stage: HKCategoryValueSleepAnalysisAwake",
         "line": {
          "color": "#ff816a",
          "shape": "hvh",
          "width": 10
         },
         "mode": "lines",
         "name": "HKCategoryValueSleepAnalysisAwake",
         "showlegend": false,
         "x": [
          "2025-05-12T06:46:37+02:00",
          "2025-05-12T06:52:07+02:00"
         ],
         "y": [
          "HKCategoryValueSleepAnalysisAwake",
          "HKCategoryValueSleepAnalysisAwake"
         ],
         "type": "scatter"
        },
        {
         "hoverinfo": "text",
         "hovertext": "2025-05-12 06:52:07+02:00 - 2025-05-12 06:55:37+02:00<br>Sleep stage: HKCategoryValueSleepAnalysisAsleepCore",
         "line": {
          "color": "#32abe4",
          "shape": "hvh",
          "width": 10
         },
         "mode": "lines",
         "name": "HKCategoryValueSleepAnalysisAsleepCore",
         "showlegend": false,
         "x": [
          "2025-05-12T06:52:07+02:00",
          "2025-05-12T06:55:37+02:00"
         ],
         "y": [
          "HKCategoryValueSleepAnalysisAsleepCore",
          "HKCategoryValueSleepAnalysisAsleepCore"
         ],
         "type": "scatter"
        },
        {
         "hoverinfo": "text",
         "hovertext": "2025-05-12 06:55:37+02:00 - 2025-05-12 06:56:37+02:00<br>Sleep stage: HKCategoryValueSleepAnalysisAwake",
         "line": {
          "color": "#ff816a",
          "shape": "hvh",
          "width": 10
         },
         "mode": "lines",
         "name": "HKCategoryValueSleepAnalysisAwake",
         "showlegend": false,
         "x": [
          "2025-05-12T06:55:37+02:00",
          "2025-05-12T06:56:37+02:00"
         ],
         "y": [
          "HKCategoryValueSleepAnalysisAwake",
          "HKCategoryValueSleepAnalysisAwake"
         ],
         "type": "scatter"
        },
        {
         "hoverinfo": "text",
         "hovertext": "2025-05-12 06:56:37+02:00 - 2025-05-12 06:59:07+02:00<br>Sleep stage: HKCategoryValueSleepAnalysisAsleepCore",
         "line": {
          "color": "#32abe4",
          "shape": "hvh",
          "width": 10
         },
         "mode": "lines",
         "name": "HKCategoryValueSleepAnalysisAsleepCore",
         "showlegend": false,
         "x": [
          "2025-05-12T06:56:37+02:00",
          "2025-05-12T06:59:07+02:00"
         ],
         "y": [
          "HKCategoryValueSleepAnalysisAsleepCore",
          "HKCategoryValueSleepAnalysisAsleepCore"
         ],
         "type": "scatter"
        },
        {
         "hoverinfo": "text",
         "hovertext": "2025-05-12 06:59:07+02:00 - 2025-05-12 07:01:07+02:00<br>Sleep stage: HKCategoryValueSleepAnalysisAwake",
         "line": {
          "color": "#ff816a",
          "shape": "hvh",
          "width": 10
         },
         "mode": "lines",
         "name": "HKCategoryValueSleepAnalysisAwake",
         "showlegend": false,
         "x": [
          "2025-05-12T06:59:07+02:00",
          "2025-05-12T07:01:07+02:00"
         ],
         "y": [
          "HKCategoryValueSleepAnalysisAwake",
          "HKCategoryValueSleepAnalysisAwake"
         ],
         "type": "scatter"
        },
        {
         "hoverinfo": "text",
         "hovertext": "2025-05-12 07:01:07+02:00 - 2025-05-12 07:13:07+02:00<br>Sleep stage: HKCategoryValueSleepAnalysisAsleepCore",
         "line": {
          "color": "#32abe4",
          "shape": "hvh",
          "width": 10
         },
         "mode": "lines",
         "name": "HKCategoryValueSleepAnalysisAsleepCore",
         "showlegend": false,
         "x": [
          "2025-05-12T07:01:07+02:00",
          "2025-05-12T07:13:07+02:00"
         ],
         "y": [
          "HKCategoryValueSleepAnalysisAsleepCore",
          "HKCategoryValueSleepAnalysisAsleepCore"
         ],
         "type": "scatter"
        },
        {
         "hoverinfo": "text",
         "hovertext": "2025-05-12 07:13:07+02:00 - 2025-05-12 07:15:37+02:00<br>Sleep stage: HKCategoryValueSleepAnalysisAwake",
         "line": {
          "color": "#ff816a",
          "shape": "hvh",
          "width": 10
         },
         "mode": "lines",
         "name": "HKCategoryValueSleepAnalysisAwake",
         "showlegend": false,
         "x": [
          "2025-05-12T07:13:07+02:00",
          "2025-05-12T07:15:37+02:00"
         ],
         "y": [
          "HKCategoryValueSleepAnalysisAwake",
          "HKCategoryValueSleepAnalysisAwake"
         ],
         "type": "scatter"
        },
        {
         "hoverinfo": "text",
         "hovertext": "2025-05-12 07:15:37+02:00 - 2025-05-12 07:23:37+02:00<br>Sleep stage: HKCategoryValueSleepAnalysisAsleepCore",
         "line": {
          "color": "#32abe4",
          "shape": "hvh",
          "width": 10
         },
         "mode": "lines",
         "name": "HKCategoryValueSleepAnalysisAsleepCore",
         "showlegend": false,
         "x": [
          "2025-05-12T07:15:37+02:00",
          "2025-05-12T07:23:37+02:00"
         ],
         "y": [
          "HKCategoryValueSleepAnalysisAsleepCore",
          "HKCategoryValueSleepAnalysisAsleepCore"
         ],
         "type": "scatter"
        },
        {
         "hoverinfo": "text",
         "hovertext": "2025-05-12 07:23:37+02:00 - 2025-05-12 07:35:37+02:00<br>Sleep stage: HKCategoryValueSleepAnalysisAwake",
         "line": {
          "color": "#ff816a",
          "shape": "hvh",
          "width": 10
         },
         "mode": "lines",
         "name": "HKCategoryValueSleepAnalysisAwake",
         "showlegend": false,
         "x": [
          "2025-05-12T07:23:37+02:00",
          "2025-05-12T07:35:37+02:00"
         ],
         "y": [
          "HKCategoryValueSleepAnalysisAwake",
          "HKCategoryValueSleepAnalysisAwake"
         ],
         "type": "scatter"
        },
        {
         "hoverinfo": "text",
         "hovertext": "2025-05-12 07:35:37+02:00 - 2025-05-12 07:37:07+02:00<br>Sleep stage: HKCategoryValueSleepAnalysisAsleepCore",
         "line": {
          "color": "#32abe4",
          "shape": "hvh",
          "width": 10
         },
         "mode": "lines",
         "name": "HKCategoryValueSleepAnalysisAsleepCore",
         "showlegend": false,
         "x": [
          "2025-05-12T07:35:37+02:00",
          "2025-05-12T07:37:07+02:00"
         ],
         "y": [
          "HKCategoryValueSleepAnalysisAsleepCore",
          "HKCategoryValueSleepAnalysisAsleepCore"
         ],
         "type": "scatter"
        },
        {
         "hoverinfo": "text",
         "hovertext": "2025-05-12 07:37:07+02:00 - 2025-05-12 07:39:37+02:00<br>Sleep stage: HKCategoryValueSleepAnalysisAwake",
         "line": {
          "color": "#ff816a",
          "shape": "hvh",
          "width": 10
         },
         "mode": "lines",
         "name": "HKCategoryValueSleepAnalysisAwake",
         "showlegend": false,
         "x": [
          "2025-05-12T07:37:07+02:00",
          "2025-05-12T07:39:37+02:00"
         ],
         "y": [
          "HKCategoryValueSleepAnalysisAwake",
          "HKCategoryValueSleepAnalysisAwake"
         ],
         "type": "scatter"
        },
        {
         "hoverinfo": "text",
         "hovertext": "2025-05-12 07:39:37+02:00 - 2025-05-12 07:44:07+02:00<br>Sleep stage: HKCategoryValueSleepAnalysisAsleepCore",
         "line": {
          "color": "#32abe4",
          "shape": "hvh",
          "width": 10
         },
         "mode": "lines",
         "name": "HKCategoryValueSleepAnalysisAsleepCore",
         "showlegend": false,
         "x": [
          "2025-05-12T07:39:37+02:00",
          "2025-05-12T07:44:07+02:00"
         ],
         "y": [
          "HKCategoryValueSleepAnalysisAsleepCore",
          "HKCategoryValueSleepAnalysisAsleepCore"
         ],
         "type": "scatter"
        },
        {
         "hoverinfo": "text",
         "hovertext": "2025-05-12 07:44:07+02:00 - 2025-05-12 07:44:37+02:00<br>Sleep stage: HKCategoryValueSleepAnalysisAwake",
         "line": {
          "color": "#ff816a",
          "shape": "hvh",
          "width": 10
         },
         "mode": "lines",
         "name": "HKCategoryValueSleepAnalysisAwake",
         "showlegend": false,
         "x": [
          "2025-05-12T07:44:07+02:00",
          "2025-05-12T07:44:37+02:00"
         ],
         "y": [
          "HKCategoryValueSleepAnalysisAwake",
          "HKCategoryValueSleepAnalysisAwake"
         ],
         "type": "scatter"
        },
        {
         "hoverinfo": "text",
         "hovertext": "2025-05-12 07:44:37+02:00 - 2025-05-12 07:47:37+02:00<br>Sleep stage: HKCategoryValueSleepAnalysisAsleepCore",
         "line": {
          "color": "#32abe4",
          "shape": "hvh",
          "width": 10
         },
         "mode": "lines",
         "name": "HKCategoryValueSleepAnalysisAsleepCore",
         "showlegend": false,
         "x": [
          "2025-05-12T07:44:37+02:00",
          "2025-05-12T07:47:37+02:00"
         ],
         "y": [
          "HKCategoryValueSleepAnalysisAsleepCore",
          "HKCategoryValueSleepAnalysisAsleepCore"
         ],
         "type": "scatter"
        }
       ],
       "layout": {
        "template": {
         "data": {
          "barpolar": [
           {
            "marker": {
             "line": {
              "color": "white",
              "width": 0.5
             },
             "pattern": {
              "fillmode": "overlay",
              "size": 10,
              "solidity": 0.2
             }
            },
            "type": "barpolar"
           }
          ],
          "bar": [
           {
            "error_x": {
             "color": "rgb(36,36,36)"
            },
            "error_y": {
             "color": "rgb(36,36,36)"
            },
            "marker": {
             "line": {
              "color": "white",
              "width": 0.5
             },
             "pattern": {
              "fillmode": "overlay",
              "size": 10,
              "solidity": 0.2
             }
            },
            "type": "bar"
           }
          ],
          "carpet": [
           {
            "aaxis": {
             "endlinecolor": "rgb(36,36,36)",
             "gridcolor": "white",
             "linecolor": "white",
             "minorgridcolor": "white",
             "startlinecolor": "rgb(36,36,36)"
            },
            "baxis": {
             "endlinecolor": "rgb(36,36,36)",
             "gridcolor": "white",
             "linecolor": "white",
             "minorgridcolor": "white",
             "startlinecolor": "rgb(36,36,36)"
            },
            "type": "carpet"
           }
          ],
          "choropleth": [
           {
            "colorbar": {
             "outlinewidth": 1,
             "tickcolor": "rgb(36,36,36)",
             "ticks": "outside"
            },
            "type": "choropleth"
           }
          ],
          "contourcarpet": [
           {
            "colorbar": {
             "outlinewidth": 1,
             "tickcolor": "rgb(36,36,36)",
             "ticks": "outside"
            },
            "type": "contourcarpet"
           }
          ],
          "contour": [
           {
            "colorbar": {
             "outlinewidth": 1,
             "tickcolor": "rgb(36,36,36)",
             "ticks": "outside"
            },
            "colorscale": [
             [
              0.0,
              "#440154"
             ],
             [
              0.1111111111111111,
              "#482878"
             ],
             [
              0.2222222222222222,
              "#3e4989"
             ],
             [
              0.3333333333333333,
              "#31688e"
             ],
             [
              0.4444444444444444,
              "#26828e"
             ],
             [
              0.5555555555555556,
              "#1f9e89"
             ],
             [
              0.6666666666666666,
              "#35b779"
             ],
             [
              0.7777777777777778,
              "#6ece58"
             ],
             [
              0.8888888888888888,
              "#b5de2b"
             ],
             [
              1.0,
              "#fde725"
             ]
            ],
            "type": "contour"
           }
          ],
          "heatmapgl": [
           {
            "colorbar": {
             "outlinewidth": 1,
             "tickcolor": "rgb(36,36,36)",
             "ticks": "outside"
            },
            "colorscale": [
             [
              0.0,
              "#440154"
             ],
             [
              0.1111111111111111,
              "#482878"
             ],
             [
              0.2222222222222222,
              "#3e4989"
             ],
             [
              0.3333333333333333,
              "#31688e"
             ],
             [
              0.4444444444444444,
              "#26828e"
             ],
             [
              0.5555555555555556,
              "#1f9e89"
             ],
             [
              0.6666666666666666,
              "#35b779"
             ],
             [
              0.7777777777777778,
              "#6ece58"
             ],
             [
              0.8888888888888888,
              "#b5de2b"
             ],
             [
              1.0,
              "#fde725"
             ]
            ],
            "type": "heatmapgl"
           }
          ],
          "heatmap": [
           {
            "colorbar": {
             "outlinewidth": 1,
             "tickcolor": "rgb(36,36,36)",
             "ticks": "outside"
            },
            "colorscale": [
             [
              0.0,
              "#440154"
             ],
             [
              0.1111111111111111,
              "#482878"
             ],
             [
              0.2222222222222222,
              "#3e4989"
             ],
             [
              0.3333333333333333,
              "#31688e"
             ],
             [
              0.4444444444444444,
              "#26828e"
             ],
             [
              0.5555555555555556,
              "#1f9e89"
             ],
             [
              0.6666666666666666,
              "#35b779"
             ],
             [
              0.7777777777777778,
              "#6ece58"
             ],
             [
              0.8888888888888888,
              "#b5de2b"
             ],
             [
              1.0,
              "#fde725"
             ]
            ],
            "type": "heatmap"
           }
          ],
          "histogram2dcontour": [
           {
            "colorbar": {
             "outlinewidth": 1,
             "tickcolor": "rgb(36,36,36)",
             "ticks": "outside"
            },
            "colorscale": [
             [
              0.0,
              "#440154"
             ],
             [
              0.1111111111111111,
              "#482878"
             ],
             [
              0.2222222222222222,
              "#3e4989"
             ],
             [
              0.3333333333333333,
              "#31688e"
             ],
             [
              0.4444444444444444,
              "#26828e"
             ],
             [
              0.5555555555555556,
              "#1f9e89"
             ],
             [
              0.6666666666666666,
              "#35b779"
             ],
             [
              0.7777777777777778,
              "#6ece58"
             ],
             [
              0.8888888888888888,
              "#b5de2b"
             ],
             [
              1.0,
              "#fde725"
             ]
            ],
            "type": "histogram2dcontour"
           }
          ],
          "histogram2d": [
           {
            "colorbar": {
             "outlinewidth": 1,
             "tickcolor": "rgb(36,36,36)",
             "ticks": "outside"
            },
            "colorscale": [
             [
              0.0,
              "#440154"
             ],
             [
              0.1111111111111111,
              "#482878"
             ],
             [
              0.2222222222222222,
              "#3e4989"
             ],
             [
              0.3333333333333333,
              "#31688e"
             ],
             [
              0.4444444444444444,
              "#26828e"
             ],
             [
              0.5555555555555556,
              "#1f9e89"
             ],
             [
              0.6666666666666666,
              "#35b779"
             ],
             [
              0.7777777777777778,
              "#6ece58"
             ],
             [
              0.8888888888888888,
              "#b5de2b"
             ],
             [
              1.0,
              "#fde725"
             ]
            ],
            "type": "histogram2d"
           }
          ],
          "histogram": [
           {
            "marker": {
             "line": {
              "color": "white",
              "width": 0.6
             }
            },
            "type": "histogram"
           }
          ],
          "mesh3d": [
           {
            "colorbar": {
             "outlinewidth": 1,
             "tickcolor": "rgb(36,36,36)",
             "ticks": "outside"
            },
            "type": "mesh3d"
           }
          ],
          "parcoords": [
           {
            "line": {
             "colorbar": {
              "outlinewidth": 1,
              "tickcolor": "rgb(36,36,36)",
              "ticks": "outside"
             }
            },
            "type": "parcoords"
           }
          ],
          "pie": [
           {
            "automargin": true,
            "type": "pie"
           }
          ],
          "scatter3d": [
           {
            "line": {
             "colorbar": {
              "outlinewidth": 1,
              "tickcolor": "rgb(36,36,36)",
              "ticks": "outside"
             }
            },
            "marker": {
             "colorbar": {
              "outlinewidth": 1,
              "tickcolor": "rgb(36,36,36)",
              "ticks": "outside"
             }
            },
            "type": "scatter3d"
           }
          ],
          "scattercarpet": [
           {
            "marker": {
             "colorbar": {
              "outlinewidth": 1,
              "tickcolor": "rgb(36,36,36)",
              "ticks": "outside"
             }
            },
            "type": "scattercarpet"
           }
          ],
          "scattergeo": [
           {
            "marker": {
             "colorbar": {
              "outlinewidth": 1,
              "tickcolor": "rgb(36,36,36)",
              "ticks": "outside"
             }
            },
            "type": "scattergeo"
           }
          ],
          "scattergl": [
           {
            "marker": {
             "colorbar": {
              "outlinewidth": 1,
              "tickcolor": "rgb(36,36,36)",
              "ticks": "outside"
             }
            },
            "type": "scattergl"
           }
          ],
          "scattermapbox": [
           {
            "marker": {
             "colorbar": {
              "outlinewidth": 1,
              "tickcolor": "rgb(36,36,36)",
              "ticks": "outside"
             }
            },
            "type": "scattermapbox"
           }
          ],
          "scatterpolargl": [
           {
            "marker": {
             "colorbar": {
              "outlinewidth": 1,
              "tickcolor": "rgb(36,36,36)",
              "ticks": "outside"
             }
            },
            "type": "scatterpolargl"
           }
          ],
          "scatterpolar": [
           {
            "marker": {
             "colorbar": {
              "outlinewidth": 1,
              "tickcolor": "rgb(36,36,36)",
              "ticks": "outside"
             }
            },
            "type": "scatterpolar"
           }
          ],
          "scatter": [
           {
            "fillpattern": {
             "fillmode": "overlay",
             "size": 10,
             "solidity": 0.2
            },
            "type": "scatter"
           }
          ],
          "scatterternary": [
           {
            "marker": {
             "colorbar": {
              "outlinewidth": 1,
              "tickcolor": "rgb(36,36,36)",
              "ticks": "outside"
             }
            },
            "type": "scatterternary"
           }
          ],
          "surface": [
           {
            "colorbar": {
             "outlinewidth": 1,
             "tickcolor": "rgb(36,36,36)",
             "ticks": "outside"
            },
            "colorscale": [
             [
              0.0,
              "#440154"
             ],
             [
              0.1111111111111111,
              "#482878"
             ],
             [
              0.2222222222222222,
              "#3e4989"
             ],
             [
              0.3333333333333333,
              "#31688e"
             ],
             [
              0.4444444444444444,
              "#26828e"
             ],
             [
              0.5555555555555556,
              "#1f9e89"
             ],
             [
              0.6666666666666666,
              "#35b779"
             ],
             [
              0.7777777777777778,
              "#6ece58"
             ],
             [
              0.8888888888888888,
              "#b5de2b"
             ],
             [
              1.0,
              "#fde725"
             ]
            ],
            "type": "surface"
           }
          ],
          "table": [
           {
            "cells": {
             "fill": {
              "color": "rgb(237,237,237)"
             },
             "line": {
              "color": "white"
             }
            },
            "header": {
             "fill": {
              "color": "rgb(217,217,217)"
             },
             "line": {
              "color": "white"
             }
            },
            "type": "table"
           }
          ]
         },
         "layout": {
          "annotationdefaults": {
           "arrowhead": 0,
           "arrowwidth": 1
          },
          "autotypenumbers": "strict",
          "coloraxis": {
           "colorbar": {
            "outlinewidth": 1,
            "tickcolor": "rgb(36,36,36)",
            "ticks": "outside"
           }
          },
          "colorscale": {
           "diverging": [
            [
             0.0,
             "rgb(103,0,31)"
            ],
            [
             0.1,
             "rgb(178,24,43)"
            ],
            [
             0.2,
             "rgb(214,96,77)"
            ],
            [
             0.3,
             "rgb(244,165,130)"
            ],
            [
             0.4,
             "rgb(253,219,199)"
            ],
            [
             0.5,
             "rgb(247,247,247)"
            ],
            [
             0.6,
             "rgb(209,229,240)"
            ],
            [
             0.7,
             "rgb(146,197,222)"
            ],
            [
             0.8,
             "rgb(67,147,195)"
            ],
            [
             0.9,
             "rgb(33,102,172)"
            ],
            [
             1.0,
             "rgb(5,48,97)"
            ]
           ],
           "sequential": [
            [
             0.0,
             "#440154"
            ],
            [
             0.1111111111111111,
             "#482878"
            ],
            [
             0.2222222222222222,
             "#3e4989"
            ],
            [
             0.3333333333333333,
             "#31688e"
            ],
            [
             0.4444444444444444,
             "#26828e"
            ],
            [
             0.5555555555555556,
             "#1f9e89"
            ],
            [
             0.6666666666666666,
             "#35b779"
            ],
            [
             0.7777777777777778,
             "#6ece58"
            ],
            [
             0.8888888888888888,
             "#b5de2b"
            ],
            [
             1.0,
             "#fde725"
            ]
           ],
           "sequentialminus": [
            [
             0.0,
             "#440154"
            ],
            [
             0.1111111111111111,
             "#482878"
            ],
            [
             0.2222222222222222,
             "#3e4989"
            ],
            [
             0.3333333333333333,
             "#31688e"
            ],
            [
             0.4444444444444444,
             "#26828e"
            ],
            [
             0.5555555555555556,
             "#1f9e89"
            ],
            [
             0.6666666666666666,
             "#35b779"
            ],
            [
             0.7777777777777778,
             "#6ece58"
            ],
            [
             0.8888888888888888,
             "#b5de2b"
            ],
            [
             1.0,
             "#fde725"
            ]
           ]
          },
          "colorway": [
           "#1F77B4",
           "#FF7F0E",
           "#2CA02C",
           "#D62728",
           "#9467BD",
           "#8C564B",
           "#E377C2",
           "#7F7F7F",
           "#BCBD22",
           "#17BECF"
          ],
          "font": {
           "color": "rgb(36,36,36)"
          },
          "geo": {
           "bgcolor": "white",
           "lakecolor": "white",
           "landcolor": "white",
           "showlakes": true,
           "showland": true,
           "subunitcolor": "white"
          },
          "hoverlabel": {
           "align": "left"
          },
          "hovermode": "closest",
          "mapbox": {
           "style": "light"
          },
          "paper_bgcolor": "white",
          "plot_bgcolor": "white",
          "polar": {
           "angularaxis": {
            "gridcolor": "rgb(232,232,232)",
            "linecolor": "rgb(36,36,36)",
            "showgrid": false,
            "showline": true,
            "ticks": "outside"
           },
           "bgcolor": "white",
           "radialaxis": {
            "gridcolor": "rgb(232,232,232)",
            "linecolor": "rgb(36,36,36)",
            "showgrid": false,
            "showline": true,
            "ticks": "outside"
           }
          },
          "scene": {
           "xaxis": {
            "backgroundcolor": "white",
            "gridcolor": "rgb(232,232,232)",
            "gridwidth": 2,
            "linecolor": "rgb(36,36,36)",
            "showbackground": true,
            "showgrid": false,
            "showline": true,
            "ticks": "outside",
            "zeroline": false,
            "zerolinecolor": "rgb(36,36,36)"
           },
           "yaxis": {
            "backgroundcolor": "white",
            "gridcolor": "rgb(232,232,232)",
            "gridwidth": 2,
            "linecolor": "rgb(36,36,36)",
            "showbackground": true,
            "showgrid": false,
            "showline": true,
            "ticks": "outside",
            "zeroline": false,
            "zerolinecolor": "rgb(36,36,36)"
           },
           "zaxis": {
            "backgroundcolor": "white",
            "gridcolor": "rgb(232,232,232)",
            "gridwidth": 2,
            "linecolor": "rgb(36,36,36)",
            "showbackground": true,
            "showgrid": false,
            "showline": true,
            "ticks": "outside",
            "zeroline": false,
            "zerolinecolor": "rgb(36,36,36)"
           }
          },
          "shapedefaults": {
           "fillcolor": "black",
           "line": {
            "width": 0
           },
           "opacity": 0.3
          },
          "ternary": {
           "aaxis": {
            "gridcolor": "rgb(232,232,232)",
            "linecolor": "rgb(36,36,36)",
            "showgrid": false,
            "showline": true,
            "ticks": "outside"
           },
           "baxis": {
            "gridcolor": "rgb(232,232,232)",
            "linecolor": "rgb(36,36,36)",
            "showgrid": false,
            "showline": true,
            "ticks": "outside"
           },
           "bgcolor": "white",
           "caxis": {
            "gridcolor": "rgb(232,232,232)",
            "linecolor": "rgb(36,36,36)",
            "showgrid": false,
            "showline": true,
            "ticks": "outside"
           }
          },
          "title": {
           "x": 0.05
          },
          "xaxis": {
           "automargin": true,
           "gridcolor": "rgb(232,232,232)",
           "linecolor": "rgb(36,36,36)",
           "showgrid": false,
           "showline": true,
           "ticks": "outside",
           "title": {
            "standoff": 15
           },
           "zeroline": false,
           "zerolinecolor": "rgb(36,36,36)"
          },
          "yaxis": {
           "automargin": true,
           "gridcolor": "rgb(232,232,232)",
           "linecolor": "rgb(36,36,36)",
           "showgrid": false,
           "showline": true,
           "ticks": "outside",
           "title": {
            "standoff": 15
           },
           "zeroline": false,
           "zerolinecolor": "rgb(36,36,36)"
          }
         }
        },
        "legend": {
         "title": {
          "text": "Sleep Stage"
         }
        },
        "xaxis": {
         "title": {
          "text": "Date"
         }
        },
        "yaxis": {
         "title": {
          "text": "Sleep Analysis count (None)"
         }
        }
       },
       "config": {
        "plotlyServerURL": "https://plot.ly"
       }
      },
      "text/html": [
       "<div>                            <div id=\"eba7a900-6d8f-4f0c-8c0a-30f46ac44ce2\" class=\"plotly-graph-div\" style=\"height:525px; width:100%;\"></div>            <script type=\"text/javascript\">                require([\"plotly\"], function(Plotly) {                    window.PLOTLYENV=window.PLOTLYENV || {};                                    if (document.getElementById(\"eba7a900-6d8f-4f0c-8c0a-30f46ac44ce2\")) {                    Plotly.newPlot(                        \"eba7a900-6d8f-4f0c-8c0a-30f46ac44ce2\",                        [{\"hoverinfo\":\"text\",\"hovertext\":\"2025-05-12 00:52:07+02:00 - 2025-05-12 00:55:07+02:00\\u003cbr\\u003eSleep stage: HKCategoryValueSleepAnalysisAsleepCore\",\"line\":{\"color\":\"#32abe4\",\"shape\":\"hvh\",\"width\":10},\"mode\":\"lines\",\"name\":\"HKCategoryValueSleepAnalysisAsleepCore\",\"showlegend\":false,\"x\":[\"2025-05-12T00:52:07+02:00\",\"2025-05-12T00:55:07+02:00\"],\"y\":[\"HKCategoryValueSleepAnalysisAsleepCore\",\"HKCategoryValueSleepAnalysisAsleepCore\"],\"type\":\"scatter\"},{\"hoverinfo\":\"text\",\"hovertext\":\"2025-05-12 00:55:07+02:00 - 2025-05-12 01:05:07+02:00\\u003cbr\\u003eSleep stage: HKCategoryValueSleepAnalysisAwake\",\"line\":{\"color\":\"#ff816a\",\"shape\":\"hvh\",\"width\":10},\"mode\":\"lines\",\"name\":\"HKCategoryValueSleepAnalysisAwake\",\"showlegend\":false,\"x\":[\"2025-05-12T00:55:07+02:00\",\"2025-05-12T01:05:07+02:00\"],\"y\":[\"HKCategoryValueSleepAnalysisAwake\",\"HKCategoryValueSleepAnalysisAwake\"],\"type\":\"scatter\"},{\"hoverinfo\":\"text\",\"hovertext\":\"2025-05-12 01:05:07+02:00 - 2025-05-12 01:22:07+02:00\\u003cbr\\u003eSleep stage: HKCategoryValueSleepAnalysisAsleepCore\",\"line\":{\"color\":\"#32abe4\",\"shape\":\"hvh\",\"width\":10},\"mode\":\"lines\",\"name\":\"HKCategoryValueSleepAnalysisAsleepCore\",\"showlegend\":false,\"x\":[\"2025-05-12T01:05:07+02:00\",\"2025-05-12T01:22:07+02:00\"],\"y\":[\"HKCategoryValueSleepAnalysisAsleepCore\",\"HKCategoryValueSleepAnalysisAsleepCore\"],\"type\":\"scatter\"},{\"hoverinfo\":\"text\",\"hovertext\":\"2025-05-12 01:22:07+02:00 - 2025-05-12 02:07:07+02:00\\u003cbr\\u003eSleep stage: HKCategoryValueSleepAnalysisAsleepDeep\",\"line\":{\"color\":\"#007aff\",\"shape\":\"hvh\",\"width\":10},\"mode\":\"lines\",\"name\":\"HKCategoryValueSleepAnalysisAsleepDeep\",\"showlegend\":false,\"x\":[\"2025-05-12T01:22:07+02:00\",\"2025-05-12T02:07:07+02:00\"],\"y\":[\"HKCategoryValueSleepAnalysisAsleepDeep\",\"HKCategoryValueSleepAnalysisAsleepDeep\"],\"type\":\"scatter\"},{\"hoverinfo\":\"text\",\"hovertext\":\"2025-05-12 02:07:07+02:00 - 2025-05-12 02:11:07+02:00\\u003cbr\\u003eSleep stage: HKCategoryValueSleepAnalysisAsleepCore\",\"line\":{\"color\":\"#32abe4\",\"shape\":\"hvh\",\"width\":10},\"mode\":\"lines\",\"name\":\"HKCategoryValueSleepAnalysisAsleepCore\",\"showlegend\":false,\"x\":[\"2025-05-12T02:07:07+02:00\",\"2025-05-12T02:11:07+02:00\"],\"y\":[\"HKCategoryValueSleepAnalysisAsleepCore\",\"HKCategoryValueSleepAnalysisAsleepCore\"],\"type\":\"scatter\"},{\"hoverinfo\":\"text\",\"hovertext\":\"2025-05-12 02:11:07+02:00 - 2025-05-12 02:26:07+02:00\\u003cbr\\u003eSleep stage: HKCategoryValueSleepAnalysisAsleepREM\",\"line\":{\"color\":\"#3634a3\",\"shape\":\"hvh\",\"width\":10},\"mode\":\"lines\",\"name\":\"HKCategoryValueSleepAnalysisAsleepREM\",\"showlegend\":false,\"x\":[\"2025-05-12T02:11:07+02:00\",\"2025-05-12T02:26:07+02:00\"],\"y\":[\"HKCategoryValueSleepAnalysisAsleepREM\",\"HKCategoryValueSleepAnalysisAsleepREM\"],\"type\":\"scatter\"},{\"hoverinfo\":\"text\",\"hovertext\":\"2025-05-12 02:26:07+02:00 - 2025-05-12 03:01:07+02:00\\u003cbr\\u003eSleep stage: HKCategoryValueSleepAnalysisAsleepCore\",\"line\":{\"color\":\"#32abe4\",\"shape\":\"hvh\",\"width\":10},\"mode\":\"lines\",\"name\":\"HKCategoryValueSleepAnalysisAsleepCore\",\"showlegend\":false,\"x\":[\"2025-05-12T02:26:07+02:00\",\"2025-05-12T03:01:07+02:00\"],\"y\":[\"HKCategoryValueSleepAnalysisAsleepCore\",\"HKCategoryValueSleepAnalysisAsleepCore\"],\"type\":\"scatter\"},{\"hoverinfo\":\"text\",\"hovertext\":\"2025-05-12 03:01:07+02:00 - 2025-05-12 03:01:37+02:00\\u003cbr\\u003eSleep stage: HKCategoryValueSleepAnalysisAwake\",\"line\":{\"color\":\"#ff816a\",\"shape\":\"hvh\",\"width\":10},\"mode\":\"lines\",\"name\":\"HKCategoryValueSleepAnalysisAwake\",\"showlegend\":false,\"x\":[\"2025-05-12T03:01:07+02:00\",\"2025-05-12T03:01:37+02:00\"],\"y\":[\"HKCategoryValueSleepAnalysisAwake\",\"HKCategoryValueSleepAnalysisAwake\"],\"type\":\"scatter\"},{\"hoverinfo\":\"text\",\"hovertext\":\"2025-05-12 03:01:37+02:00 - 2025-05-12 03:51:37+02:00\\u003cbr\\u003eSleep stage: HKCategoryValueSleepAnalysisAsleepCore\",\"line\":{\"color\":\"#32abe4\",\"shape\":\"hvh\",\"width\":10},\"mode\":\"lines\",\"name\":\"HKCategoryValueSleepAnalysisAsleepCore\",\"showlegend\":false,\"x\":[\"2025-05-12T03:01:37+02:00\",\"2025-05-12T03:51:37+02:00\"],\"y\":[\"HKCategoryValueSleepAnalysisAsleepCore\",\"HKCategoryValueSleepAnalysisAsleepCore\"],\"type\":\"scatter\"},{\"hoverinfo\":\"text\",\"hovertext\":\"2025-05-12 03:51:37+02:00 - 2025-05-12 03:53:07+02:00\\u003cbr\\u003eSleep stage: HKCategoryValueSleepAnalysisAwake\",\"line\":{\"color\":\"#ff816a\",\"shape\":\"hvh\",\"width\":10},\"mode\":\"lines\",\"name\":\"HKCategoryValueSleepAnalysisAwake\",\"showlegend\":false,\"x\":[\"2025-05-12T03:51:37+02:00\",\"2025-05-12T03:53:07+02:00\"],\"y\":[\"HKCategoryValueSleepAnalysisAwake\",\"HKCategoryValueSleepAnalysisAwake\"],\"type\":\"scatter\"},{\"hoverinfo\":\"text\",\"hovertext\":\"2025-05-12 03:53:07+02:00 - 2025-05-12 03:56:07+02:00\\u003cbr\\u003eSleep stage: HKCategoryValueSleepAnalysisAsleepCore\",\"line\":{\"color\":\"#32abe4\",\"shape\":\"hvh\",\"width\":10},\"mode\":\"lines\",\"name\":\"HKCategoryValueSleepAnalysisAsleepCore\",\"showlegend\":false,\"x\":[\"2025-05-12T03:53:07+02:00\",\"2025-05-12T03:56:07+02:00\"],\"y\":[\"HKCategoryValueSleepAnalysisAsleepCore\",\"HKCategoryValueSleepAnalysisAsleepCore\"],\"type\":\"scatter\"},{\"hoverinfo\":\"text\",\"hovertext\":\"2025-05-12 03:56:07+02:00 - 2025-05-12 04:35:07+02:00\\u003cbr\\u003eSleep stage: HKCategoryValueSleepAnalysisAsleepREM\",\"line\":{\"color\":\"#3634a3\",\"shape\":\"hvh\",\"width\":10},\"mode\":\"lines\",\"name\":\"HKCategoryValueSleepAnalysisAsleepREM\",\"showlegend\":false,\"x\":[\"2025-05-12T03:56:07+02:00\",\"2025-05-12T04:35:07+02:00\"],\"y\":[\"HKCategoryValueSleepAnalysisAsleepREM\",\"HKCategoryValueSleepAnalysisAsleepREM\"],\"type\":\"scatter\"},{\"hoverinfo\":\"text\",\"hovertext\":\"2025-05-12 04:35:07+02:00 - 2025-05-12 05:50:07+02:00\\u003cbr\\u003eSleep stage: HKCategoryValueSleepAnalysisAsleepCore\",\"line\":{\"color\":\"#32abe4\",\"shape\":\"hvh\",\"width\":10},\"mode\":\"lines\",\"name\":\"HKCategoryValueSleepAnalysisAsleepCore\",\"showlegend\":false,\"x\":[\"2025-05-12T04:35:07+02:00\",\"2025-05-12T05:50:07+02:00\"],\"y\":[\"HKCategoryValueSleepAnalysisAsleepCore\",\"HKCategoryValueSleepAnalysisAsleepCore\"],\"type\":\"scatter\"},{\"hoverinfo\":\"text\",\"hovertext\":\"2025-05-12 05:50:07+02:00 - 2025-05-12 06:14:37+02:00\\u003cbr\\u003eSleep stage: HKCategoryValueSleepAnalysisAsleepREM\",\"line\":{\"color\":\"#3634a3\",\"shape\":\"hvh\",\"width\":10},\"mode\":\"lines\",\"name\":\"HKCategoryValueSleepAnalysisAsleepREM\",\"showlegend\":false,\"x\":[\"2025-05-12T05:50:07+02:00\",\"2025-05-12T06:14:37+02:00\"],\"y\":[\"HKCategoryValueSleepAnalysisAsleepREM\",\"HKCategoryValueSleepAnalysisAsleepREM\"],\"type\":\"scatter\"},{\"hoverinfo\":\"text\",\"hovertext\":\"2025-05-12 06:14:37+02:00 - 2025-05-12 06:22:07+02:00\\u003cbr\\u003eSleep stage: HKCategoryValueSleepAnalysisAsleepCore\",\"line\":{\"color\":\"#32abe4\",\"shape\":\"hvh\",\"width\":10},\"mode\":\"lines\",\"name\":\"HKCategoryValueSleepAnalysisAsleepCore\",\"showlegend\":false,\"x\":[\"2025-05-12T06:14:37+02:00\",\"2025-05-12T06:22:07+02:00\"],\"y\":[\"HKCategoryValueSleepAnalysisAsleepCore\",\"HKCategoryValueSleepAnalysisAsleepCore\"],\"type\":\"scatter\"},{\"hoverinfo\":\"text\",\"hovertext\":\"2025-05-12 06:22:07+02:00 - 2025-05-12 06:27:37+02:00\\u003cbr\\u003eSleep stage: HKCategoryValueSleepAnalysisAsleepREM\",\"line\":{\"color\":\"#3634a3\",\"shape\":\"hvh\",\"width\":10},\"mode\":\"lines\",\"name\":\"HKCategoryValueSleepAnalysisAsleepREM\",\"showlegend\":false,\"x\":[\"2025-05-12T06:22:07+02:00\",\"2025-05-12T06:27:37+02:00\"],\"y\":[\"HKCategoryValueSleepAnalysisAsleepREM\",\"HKCategoryValueSleepAnalysisAsleepREM\"],\"type\":\"scatter\"},{\"hoverinfo\":\"text\",\"hovertext\":\"2025-05-12 06:27:37+02:00 - 2025-05-12 06:35:37+02:00\\u003cbr\\u003eSleep stage: HKCategoryValueSleepAnalysisAsleepCore\",\"line\":{\"color\":\"#32abe4\",\"shape\":\"hvh\",\"width\":10},\"mode\":\"lines\",\"name\":\"HKCategoryValueSleepAnalysisAsleepCore\",\"showlegend\":false,\"x\":[\"2025-05-12T06:27:37+02:00\",\"2025-05-12T06:35:37+02:00\"],\"y\":[\"HKCategoryValueSleepAnalysisAsleepCore\",\"HKCategoryValueSleepAnalysisAsleepCore\"],\"type\":\"scatter\"},{\"hoverinfo\":\"text\",\"hovertext\":\"2025-05-12 06:35:37+02:00 - 2025-05-12 06:40:37+02:00\\u003cbr\\u003eSleep stage: HKCategoryValueSleepAnalysisAwake\",\"line\":{\"color\":\"#ff816a\",\"shape\":\"hvh\",\"width\":10},\"mode\":\"lines\",\"name\":\"HKCategoryValueSleepAnalysisAwake\",\"showlegend\":false,\"x\":[\"2025-05-12T06:35:37+02:00\",\"2025-05-12T06:40:37+02:00\"],\"y\":[\"HKCategoryValueSleepAnalysisAwake\",\"HKCategoryValueSleepAnalysisAwake\"],\"type\":\"scatter\"},{\"hoverinfo\":\"text\",\"hovertext\":\"2025-05-12 06:40:37+02:00 - 2025-05-12 06:42:37+02:00\\u003cbr\\u003eSleep stage: HKCategoryValueSleepAnalysisAsleepCore\",\"line\":{\"color\":\"#32abe4\",\"shape\":\"hvh\",\"width\":10},\"mode\":\"lines\",\"name\":\"HKCategoryValueSleepAnalysisAsleepCore\",\"showlegend\":false,\"x\":[\"2025-05-12T06:40:37+02:00\",\"2025-05-12T06:42:37+02:00\"],\"y\":[\"HKCategoryValueSleepAnalysisAsleepCore\",\"HKCategoryValueSleepAnalysisAsleepCore\"],\"type\":\"scatter\"},{\"hoverinfo\":\"text\",\"hovertext\":\"2025-05-12 06:42:37+02:00 - 2025-05-12 06:45:37+02:00\\u003cbr\\u003eSleep stage: HKCategoryValueSleepAnalysisAwake\",\"line\":{\"color\":\"#ff816a\",\"shape\":\"hvh\",\"width\":10},\"mode\":\"lines\",\"name\":\"HKCategoryValueSleepAnalysisAwake\",\"showlegend\":false,\"x\":[\"2025-05-12T06:42:37+02:00\",\"2025-05-12T06:45:37+02:00\"],\"y\":[\"HKCategoryValueSleepAnalysisAwake\",\"HKCategoryValueSleepAnalysisAwake\"],\"type\":\"scatter\"},{\"hoverinfo\":\"text\",\"hovertext\":\"2025-05-12 06:45:37+02:00 - 2025-05-12 06:46:37+02:00\\u003cbr\\u003eSleep stage: HKCategoryValueSleepAnalysisAsleepCore\",\"line\":{\"color\":\"#32abe4\",\"shape\":\"hvh\",\"width\":10},\"mode\":\"lines\",\"name\":\"HKCategoryValueSleepAnalysisAsleepCore\",\"showlegend\":false,\"x\":[\"2025-05-12T06:45:37+02:00\",\"2025-05-12T06:46:37+02:00\"],\"y\":[\"HKCategoryValueSleepAnalysisAsleepCore\",\"HKCategoryValueSleepAnalysisAsleepCore\"],\"type\":\"scatter\"},{\"hoverinfo\":\"text\",\"hovertext\":\"2025-05-12 06:46:37+02:00 - 2025-05-12 06:52:07+02:00\\u003cbr\\u003eSleep stage: HKCategoryValueSleepAnalysisAwake\",\"line\":{\"color\":\"#ff816a\",\"shape\":\"hvh\",\"width\":10},\"mode\":\"lines\",\"name\":\"HKCategoryValueSleepAnalysisAwake\",\"showlegend\":false,\"x\":[\"2025-05-12T06:46:37+02:00\",\"2025-05-12T06:52:07+02:00\"],\"y\":[\"HKCategoryValueSleepAnalysisAwake\",\"HKCategoryValueSleepAnalysisAwake\"],\"type\":\"scatter\"},{\"hoverinfo\":\"text\",\"hovertext\":\"2025-05-12 06:52:07+02:00 - 2025-05-12 06:55:37+02:00\\u003cbr\\u003eSleep stage: HKCategoryValueSleepAnalysisAsleepCore\",\"line\":{\"color\":\"#32abe4\",\"shape\":\"hvh\",\"width\":10},\"mode\":\"lines\",\"name\":\"HKCategoryValueSleepAnalysisAsleepCore\",\"showlegend\":false,\"x\":[\"2025-05-12T06:52:07+02:00\",\"2025-05-12T06:55:37+02:00\"],\"y\":[\"HKCategoryValueSleepAnalysisAsleepCore\",\"HKCategoryValueSleepAnalysisAsleepCore\"],\"type\":\"scatter\"},{\"hoverinfo\":\"text\",\"hovertext\":\"2025-05-12 06:55:37+02:00 - 2025-05-12 06:56:37+02:00\\u003cbr\\u003eSleep stage: HKCategoryValueSleepAnalysisAwake\",\"line\":{\"color\":\"#ff816a\",\"shape\":\"hvh\",\"width\":10},\"mode\":\"lines\",\"name\":\"HKCategoryValueSleepAnalysisAwake\",\"showlegend\":false,\"x\":[\"2025-05-12T06:55:37+02:00\",\"2025-05-12T06:56:37+02:00\"],\"y\":[\"HKCategoryValueSleepAnalysisAwake\",\"HKCategoryValueSleepAnalysisAwake\"],\"type\":\"scatter\"},{\"hoverinfo\":\"text\",\"hovertext\":\"2025-05-12 06:56:37+02:00 - 2025-05-12 06:59:07+02:00\\u003cbr\\u003eSleep stage: HKCategoryValueSleepAnalysisAsleepCore\",\"line\":{\"color\":\"#32abe4\",\"shape\":\"hvh\",\"width\":10},\"mode\":\"lines\",\"name\":\"HKCategoryValueSleepAnalysisAsleepCore\",\"showlegend\":false,\"x\":[\"2025-05-12T06:56:37+02:00\",\"2025-05-12T06:59:07+02:00\"],\"y\":[\"HKCategoryValueSleepAnalysisAsleepCore\",\"HKCategoryValueSleepAnalysisAsleepCore\"],\"type\":\"scatter\"},{\"hoverinfo\":\"text\",\"hovertext\":\"2025-05-12 06:59:07+02:00 - 2025-05-12 07:01:07+02:00\\u003cbr\\u003eSleep stage: HKCategoryValueSleepAnalysisAwake\",\"line\":{\"color\":\"#ff816a\",\"shape\":\"hvh\",\"width\":10},\"mode\":\"lines\",\"name\":\"HKCategoryValueSleepAnalysisAwake\",\"showlegend\":false,\"x\":[\"2025-05-12T06:59:07+02:00\",\"2025-05-12T07:01:07+02:00\"],\"y\":[\"HKCategoryValueSleepAnalysisAwake\",\"HKCategoryValueSleepAnalysisAwake\"],\"type\":\"scatter\"},{\"hoverinfo\":\"text\",\"hovertext\":\"2025-05-12 07:01:07+02:00 - 2025-05-12 07:13:07+02:00\\u003cbr\\u003eSleep stage: HKCategoryValueSleepAnalysisAsleepCore\",\"line\":{\"color\":\"#32abe4\",\"shape\":\"hvh\",\"width\":10},\"mode\":\"lines\",\"name\":\"HKCategoryValueSleepAnalysisAsleepCore\",\"showlegend\":false,\"x\":[\"2025-05-12T07:01:07+02:00\",\"2025-05-12T07:13:07+02:00\"],\"y\":[\"HKCategoryValueSleepAnalysisAsleepCore\",\"HKCategoryValueSleepAnalysisAsleepCore\"],\"type\":\"scatter\"},{\"hoverinfo\":\"text\",\"hovertext\":\"2025-05-12 07:13:07+02:00 - 2025-05-12 07:15:37+02:00\\u003cbr\\u003eSleep stage: HKCategoryValueSleepAnalysisAwake\",\"line\":{\"color\":\"#ff816a\",\"shape\":\"hvh\",\"width\":10},\"mode\":\"lines\",\"name\":\"HKCategoryValueSleepAnalysisAwake\",\"showlegend\":false,\"x\":[\"2025-05-12T07:13:07+02:00\",\"2025-05-12T07:15:37+02:00\"],\"y\":[\"HKCategoryValueSleepAnalysisAwake\",\"HKCategoryValueSleepAnalysisAwake\"],\"type\":\"scatter\"},{\"hoverinfo\":\"text\",\"hovertext\":\"2025-05-12 07:15:37+02:00 - 2025-05-12 07:23:37+02:00\\u003cbr\\u003eSleep stage: HKCategoryValueSleepAnalysisAsleepCore\",\"line\":{\"color\":\"#32abe4\",\"shape\":\"hvh\",\"width\":10},\"mode\":\"lines\",\"name\":\"HKCategoryValueSleepAnalysisAsleepCore\",\"showlegend\":false,\"x\":[\"2025-05-12T07:15:37+02:00\",\"2025-05-12T07:23:37+02:00\"],\"y\":[\"HKCategoryValueSleepAnalysisAsleepCore\",\"HKCategoryValueSleepAnalysisAsleepCore\"],\"type\":\"scatter\"},{\"hoverinfo\":\"text\",\"hovertext\":\"2025-05-12 07:23:37+02:00 - 2025-05-12 07:35:37+02:00\\u003cbr\\u003eSleep stage: HKCategoryValueSleepAnalysisAwake\",\"line\":{\"color\":\"#ff816a\",\"shape\":\"hvh\",\"width\":10},\"mode\":\"lines\",\"name\":\"HKCategoryValueSleepAnalysisAwake\",\"showlegend\":false,\"x\":[\"2025-05-12T07:23:37+02:00\",\"2025-05-12T07:35:37+02:00\"],\"y\":[\"HKCategoryValueSleepAnalysisAwake\",\"HKCategoryValueSleepAnalysisAwake\"],\"type\":\"scatter\"},{\"hoverinfo\":\"text\",\"hovertext\":\"2025-05-12 07:35:37+02:00 - 2025-05-12 07:37:07+02:00\\u003cbr\\u003eSleep stage: HKCategoryValueSleepAnalysisAsleepCore\",\"line\":{\"color\":\"#32abe4\",\"shape\":\"hvh\",\"width\":10},\"mode\":\"lines\",\"name\":\"HKCategoryValueSleepAnalysisAsleepCore\",\"showlegend\":false,\"x\":[\"2025-05-12T07:35:37+02:00\",\"2025-05-12T07:37:07+02:00\"],\"y\":[\"HKCategoryValueSleepAnalysisAsleepCore\",\"HKCategoryValueSleepAnalysisAsleepCore\"],\"type\":\"scatter\"},{\"hoverinfo\":\"text\",\"hovertext\":\"2025-05-12 07:37:07+02:00 - 2025-05-12 07:39:37+02:00\\u003cbr\\u003eSleep stage: HKCategoryValueSleepAnalysisAwake\",\"line\":{\"color\":\"#ff816a\",\"shape\":\"hvh\",\"width\":10},\"mode\":\"lines\",\"name\":\"HKCategoryValueSleepAnalysisAwake\",\"showlegend\":false,\"x\":[\"2025-05-12T07:37:07+02:00\",\"2025-05-12T07:39:37+02:00\"],\"y\":[\"HKCategoryValueSleepAnalysisAwake\",\"HKCategoryValueSleepAnalysisAwake\"],\"type\":\"scatter\"},{\"hoverinfo\":\"text\",\"hovertext\":\"2025-05-12 07:39:37+02:00 - 2025-05-12 07:44:07+02:00\\u003cbr\\u003eSleep stage: HKCategoryValueSleepAnalysisAsleepCore\",\"line\":{\"color\":\"#32abe4\",\"shape\":\"hvh\",\"width\":10},\"mode\":\"lines\",\"name\":\"HKCategoryValueSleepAnalysisAsleepCore\",\"showlegend\":false,\"x\":[\"2025-05-12T07:39:37+02:00\",\"2025-05-12T07:44:07+02:00\"],\"y\":[\"HKCategoryValueSleepAnalysisAsleepCore\",\"HKCategoryValueSleepAnalysisAsleepCore\"],\"type\":\"scatter\"},{\"hoverinfo\":\"text\",\"hovertext\":\"2025-05-12 07:44:07+02:00 - 2025-05-12 07:44:37+02:00\\u003cbr\\u003eSleep stage: HKCategoryValueSleepAnalysisAwake\",\"line\":{\"color\":\"#ff816a\",\"shape\":\"hvh\",\"width\":10},\"mode\":\"lines\",\"name\":\"HKCategoryValueSleepAnalysisAwake\",\"showlegend\":false,\"x\":[\"2025-05-12T07:44:07+02:00\",\"2025-05-12T07:44:37+02:00\"],\"y\":[\"HKCategoryValueSleepAnalysisAwake\",\"HKCategoryValueSleepAnalysisAwake\"],\"type\":\"scatter\"},{\"hoverinfo\":\"text\",\"hovertext\":\"2025-05-12 07:44:37+02:00 - 2025-05-12 07:47:37+02:00\\u003cbr\\u003eSleep stage: HKCategoryValueSleepAnalysisAsleepCore\",\"line\":{\"color\":\"#32abe4\",\"shape\":\"hvh\",\"width\":10},\"mode\":\"lines\",\"name\":\"HKCategoryValueSleepAnalysisAsleepCore\",\"showlegend\":false,\"x\":[\"2025-05-12T07:44:37+02:00\",\"2025-05-12T07:47:37+02:00\"],\"y\":[\"HKCategoryValueSleepAnalysisAsleepCore\",\"HKCategoryValueSleepAnalysisAsleepCore\"],\"type\":\"scatter\"}],                        {\"template\":{\"data\":{\"barpolar\":[{\"marker\":{\"line\":{\"color\":\"white\",\"width\":0.5},\"pattern\":{\"fillmode\":\"overlay\",\"size\":10,\"solidity\":0.2}},\"type\":\"barpolar\"}],\"bar\":[{\"error_x\":{\"color\":\"rgb(36,36,36)\"},\"error_y\":{\"color\":\"rgb(36,36,36)\"},\"marker\":{\"line\":{\"color\":\"white\",\"width\":0.5},\"pattern\":{\"fillmode\":\"overlay\",\"size\":10,\"solidity\":0.2}},\"type\":\"bar\"}],\"carpet\":[{\"aaxis\":{\"endlinecolor\":\"rgb(36,36,36)\",\"gridcolor\":\"white\",\"linecolor\":\"white\",\"minorgridcolor\":\"white\",\"startlinecolor\":\"rgb(36,36,36)\"},\"baxis\":{\"endlinecolor\":\"rgb(36,36,36)\",\"gridcolor\":\"white\",\"linecolor\":\"white\",\"minorgridcolor\":\"white\",\"startlinecolor\":\"rgb(36,36,36)\"},\"type\":\"carpet\"}],\"choropleth\":[{\"colorbar\":{\"outlinewidth\":1,\"tickcolor\":\"rgb(36,36,36)\",\"ticks\":\"outside\"},\"type\":\"choropleth\"}],\"contourcarpet\":[{\"colorbar\":{\"outlinewidth\":1,\"tickcolor\":\"rgb(36,36,36)\",\"ticks\":\"outside\"},\"type\":\"contourcarpet\"}],\"contour\":[{\"colorbar\":{\"outlinewidth\":1,\"tickcolor\":\"rgb(36,36,36)\",\"ticks\":\"outside\"},\"colorscale\":[[0.0,\"#440154\"],[0.1111111111111111,\"#482878\"],[0.2222222222222222,\"#3e4989\"],[0.3333333333333333,\"#31688e\"],[0.4444444444444444,\"#26828e\"],[0.5555555555555556,\"#1f9e89\"],[0.6666666666666666,\"#35b779\"],[0.7777777777777778,\"#6ece58\"],[0.8888888888888888,\"#b5de2b\"],[1.0,\"#fde725\"]],\"type\":\"contour\"}],\"heatmapgl\":[{\"colorbar\":{\"outlinewidth\":1,\"tickcolor\":\"rgb(36,36,36)\",\"ticks\":\"outside\"},\"colorscale\":[[0.0,\"#440154\"],[0.1111111111111111,\"#482878\"],[0.2222222222222222,\"#3e4989\"],[0.3333333333333333,\"#31688e\"],[0.4444444444444444,\"#26828e\"],[0.5555555555555556,\"#1f9e89\"],[0.6666666666666666,\"#35b779\"],[0.7777777777777778,\"#6ece58\"],[0.8888888888888888,\"#b5de2b\"],[1.0,\"#fde725\"]],\"type\":\"heatmapgl\"}],\"heatmap\":[{\"colorbar\":{\"outlinewidth\":1,\"tickcolor\":\"rgb(36,36,36)\",\"ticks\":\"outside\"},\"colorscale\":[[0.0,\"#440154\"],[0.1111111111111111,\"#482878\"],[0.2222222222222222,\"#3e4989\"],[0.3333333333333333,\"#31688e\"],[0.4444444444444444,\"#26828e\"],[0.5555555555555556,\"#1f9e89\"],[0.6666666666666666,\"#35b779\"],[0.7777777777777778,\"#6ece58\"],[0.8888888888888888,\"#b5de2b\"],[1.0,\"#fde725\"]],\"type\":\"heatmap\"}],\"histogram2dcontour\":[{\"colorbar\":{\"outlinewidth\":1,\"tickcolor\":\"rgb(36,36,36)\",\"ticks\":\"outside\"},\"colorscale\":[[0.0,\"#440154\"],[0.1111111111111111,\"#482878\"],[0.2222222222222222,\"#3e4989\"],[0.3333333333333333,\"#31688e\"],[0.4444444444444444,\"#26828e\"],[0.5555555555555556,\"#1f9e89\"],[0.6666666666666666,\"#35b779\"],[0.7777777777777778,\"#6ece58\"],[0.8888888888888888,\"#b5de2b\"],[1.0,\"#fde725\"]],\"type\":\"histogram2dcontour\"}],\"histogram2d\":[{\"colorbar\":{\"outlinewidth\":1,\"tickcolor\":\"rgb(36,36,36)\",\"ticks\":\"outside\"},\"colorscale\":[[0.0,\"#440154\"],[0.1111111111111111,\"#482878\"],[0.2222222222222222,\"#3e4989\"],[0.3333333333333333,\"#31688e\"],[0.4444444444444444,\"#26828e\"],[0.5555555555555556,\"#1f9e89\"],[0.6666666666666666,\"#35b779\"],[0.7777777777777778,\"#6ece58\"],[0.8888888888888888,\"#b5de2b\"],[1.0,\"#fde725\"]],\"type\":\"histogram2d\"}],\"histogram\":[{\"marker\":{\"line\":{\"color\":\"white\",\"width\":0.6}},\"type\":\"histogram\"}],\"mesh3d\":[{\"colorbar\":{\"outlinewidth\":1,\"tickcolor\":\"rgb(36,36,36)\",\"ticks\":\"outside\"},\"type\":\"mesh3d\"}],\"parcoords\":[{\"line\":{\"colorbar\":{\"outlinewidth\":1,\"tickcolor\":\"rgb(36,36,36)\",\"ticks\":\"outside\"}},\"type\":\"parcoords\"}],\"pie\":[{\"automargin\":true,\"type\":\"pie\"}],\"scatter3d\":[{\"line\":{\"colorbar\":{\"outlinewidth\":1,\"tickcolor\":\"rgb(36,36,36)\",\"ticks\":\"outside\"}},\"marker\":{\"colorbar\":{\"outlinewidth\":1,\"tickcolor\":\"rgb(36,36,36)\",\"ticks\":\"outside\"}},\"type\":\"scatter3d\"}],\"scattercarpet\":[{\"marker\":{\"colorbar\":{\"outlinewidth\":1,\"tickcolor\":\"rgb(36,36,36)\",\"ticks\":\"outside\"}},\"type\":\"scattercarpet\"}],\"scattergeo\":[{\"marker\":{\"colorbar\":{\"outlinewidth\":1,\"tickcolor\":\"rgb(36,36,36)\",\"ticks\":\"outside\"}},\"type\":\"scattergeo\"}],\"scattergl\":[{\"marker\":{\"colorbar\":{\"outlinewidth\":1,\"tickcolor\":\"rgb(36,36,36)\",\"ticks\":\"outside\"}},\"type\":\"scattergl\"}],\"scattermapbox\":[{\"marker\":{\"colorbar\":{\"outlinewidth\":1,\"tickcolor\":\"rgb(36,36,36)\",\"ticks\":\"outside\"}},\"type\":\"scattermapbox\"}],\"scatterpolargl\":[{\"marker\":{\"colorbar\":{\"outlinewidth\":1,\"tickcolor\":\"rgb(36,36,36)\",\"ticks\":\"outside\"}},\"type\":\"scatterpolargl\"}],\"scatterpolar\":[{\"marker\":{\"colorbar\":{\"outlinewidth\":1,\"tickcolor\":\"rgb(36,36,36)\",\"ticks\":\"outside\"}},\"type\":\"scatterpolar\"}],\"scatter\":[{\"fillpattern\":{\"fillmode\":\"overlay\",\"size\":10,\"solidity\":0.2},\"type\":\"scatter\"}],\"scatterternary\":[{\"marker\":{\"colorbar\":{\"outlinewidth\":1,\"tickcolor\":\"rgb(36,36,36)\",\"ticks\":\"outside\"}},\"type\":\"scatterternary\"}],\"surface\":[{\"colorbar\":{\"outlinewidth\":1,\"tickcolor\":\"rgb(36,36,36)\",\"ticks\":\"outside\"},\"colorscale\":[[0.0,\"#440154\"],[0.1111111111111111,\"#482878\"],[0.2222222222222222,\"#3e4989\"],[0.3333333333333333,\"#31688e\"],[0.4444444444444444,\"#26828e\"],[0.5555555555555556,\"#1f9e89\"],[0.6666666666666666,\"#35b779\"],[0.7777777777777778,\"#6ece58\"],[0.8888888888888888,\"#b5de2b\"],[1.0,\"#fde725\"]],\"type\":\"surface\"}],\"table\":[{\"cells\":{\"fill\":{\"color\":\"rgb(237,237,237)\"},\"line\":{\"color\":\"white\"}},\"header\":{\"fill\":{\"color\":\"rgb(217,217,217)\"},\"line\":{\"color\":\"white\"}},\"type\":\"table\"}]},\"layout\":{\"annotationdefaults\":{\"arrowhead\":0,\"arrowwidth\":1},\"autotypenumbers\":\"strict\",\"coloraxis\":{\"colorbar\":{\"outlinewidth\":1,\"tickcolor\":\"rgb(36,36,36)\",\"ticks\":\"outside\"}},\"colorscale\":{\"diverging\":[[0.0,\"rgb(103,0,31)\"],[0.1,\"rgb(178,24,43)\"],[0.2,\"rgb(214,96,77)\"],[0.3,\"rgb(244,165,130)\"],[0.4,\"rgb(253,219,199)\"],[0.5,\"rgb(247,247,247)\"],[0.6,\"rgb(209,229,240)\"],[0.7,\"rgb(146,197,222)\"],[0.8,\"rgb(67,147,195)\"],[0.9,\"rgb(33,102,172)\"],[1.0,\"rgb(5,48,97)\"]],\"sequential\":[[0.0,\"#440154\"],[0.1111111111111111,\"#482878\"],[0.2222222222222222,\"#3e4989\"],[0.3333333333333333,\"#31688e\"],[0.4444444444444444,\"#26828e\"],[0.5555555555555556,\"#1f9e89\"],[0.6666666666666666,\"#35b779\"],[0.7777777777777778,\"#6ece58\"],[0.8888888888888888,\"#b5de2b\"],[1.0,\"#fde725\"]],\"sequentialminus\":[[0.0,\"#440154\"],[0.1111111111111111,\"#482878\"],[0.2222222222222222,\"#3e4989\"],[0.3333333333333333,\"#31688e\"],[0.4444444444444444,\"#26828e\"],[0.5555555555555556,\"#1f9e89\"],[0.6666666666666666,\"#35b779\"],[0.7777777777777778,\"#6ece58\"],[0.8888888888888888,\"#b5de2b\"],[1.0,\"#fde725\"]]},\"colorway\":[\"#1F77B4\",\"#FF7F0E\",\"#2CA02C\",\"#D62728\",\"#9467BD\",\"#8C564B\",\"#E377C2\",\"#7F7F7F\",\"#BCBD22\",\"#17BECF\"],\"font\":{\"color\":\"rgb(36,36,36)\"},\"geo\":{\"bgcolor\":\"white\",\"lakecolor\":\"white\",\"landcolor\":\"white\",\"showlakes\":true,\"showland\":true,\"subunitcolor\":\"white\"},\"hoverlabel\":{\"align\":\"left\"},\"hovermode\":\"closest\",\"mapbox\":{\"style\":\"light\"},\"paper_bgcolor\":\"white\",\"plot_bgcolor\":\"white\",\"polar\":{\"angularaxis\":{\"gridcolor\":\"rgb(232,232,232)\",\"linecolor\":\"rgb(36,36,36)\",\"showgrid\":false,\"showline\":true,\"ticks\":\"outside\"},\"bgcolor\":\"white\",\"radialaxis\":{\"gridcolor\":\"rgb(232,232,232)\",\"linecolor\":\"rgb(36,36,36)\",\"showgrid\":false,\"showline\":true,\"ticks\":\"outside\"}},\"scene\":{\"xaxis\":{\"backgroundcolor\":\"white\",\"gridcolor\":\"rgb(232,232,232)\",\"gridwidth\":2,\"linecolor\":\"rgb(36,36,36)\",\"showbackground\":true,\"showgrid\":false,\"showline\":true,\"ticks\":\"outside\",\"zeroline\":false,\"zerolinecolor\":\"rgb(36,36,36)\"},\"yaxis\":{\"backgroundcolor\":\"white\",\"gridcolor\":\"rgb(232,232,232)\",\"gridwidth\":2,\"linecolor\":\"rgb(36,36,36)\",\"showbackground\":true,\"showgrid\":false,\"showline\":true,\"ticks\":\"outside\",\"zeroline\":false,\"zerolinecolor\":\"rgb(36,36,36)\"},\"zaxis\":{\"backgroundcolor\":\"white\",\"gridcolor\":\"rgb(232,232,232)\",\"gridwidth\":2,\"linecolor\":\"rgb(36,36,36)\",\"showbackground\":true,\"showgrid\":false,\"showline\":true,\"ticks\":\"outside\",\"zeroline\":false,\"zerolinecolor\":\"rgb(36,36,36)\"}},\"shapedefaults\":{\"fillcolor\":\"black\",\"line\":{\"width\":0},\"opacity\":0.3},\"ternary\":{\"aaxis\":{\"gridcolor\":\"rgb(232,232,232)\",\"linecolor\":\"rgb(36,36,36)\",\"showgrid\":false,\"showline\":true,\"ticks\":\"outside\"},\"baxis\":{\"gridcolor\":\"rgb(232,232,232)\",\"linecolor\":\"rgb(36,36,36)\",\"showgrid\":false,\"showline\":true,\"ticks\":\"outside\"},\"bgcolor\":\"white\",\"caxis\":{\"gridcolor\":\"rgb(232,232,232)\",\"linecolor\":\"rgb(36,36,36)\",\"showgrid\":false,\"showline\":true,\"ticks\":\"outside\"}},\"title\":{\"x\":0.05},\"xaxis\":{\"automargin\":true,\"gridcolor\":\"rgb(232,232,232)\",\"linecolor\":\"rgb(36,36,36)\",\"showgrid\":false,\"showline\":true,\"ticks\":\"outside\",\"title\":{\"standoff\":15},\"zeroline\":false,\"zerolinecolor\":\"rgb(36,36,36)\"},\"yaxis\":{\"automargin\":true,\"gridcolor\":\"rgb(232,232,232)\",\"linecolor\":\"rgb(36,36,36)\",\"showgrid\":false,\"showline\":true,\"ticks\":\"outside\",\"title\":{\"standoff\":15},\"zeroline\":false,\"zerolinecolor\":\"rgb(36,36,36)\"}}},\"legend\":{\"title\":{\"text\":\"Sleep Stage\"}},\"xaxis\":{\"title\":{\"text\":\"Date\"}},\"yaxis\":{\"title\":{\"text\":\"Sleep Analysis count (None)\"}}},                        {\"responsive\": true}                    ).then(function(){\n",
       "                            \n",
       "var gd = document.getElementById('eba7a900-6d8f-4f0c-8c0a-30f46ac44ce2');\n",
       "var x = new MutationObserver(function (mutations, observer) {{\n",
       "        var display = window.getComputedStyle(gd).display;\n",
       "        if (!display || display === 'none') {{\n",
       "            console.log([gd, 'removed!']);\n",
       "            Plotly.purge(gd);\n",
       "            observer.disconnect();\n",
       "        }}\n",
       "}});\n",
       "\n",
       "// Listen for the removal of the full notebook cells\n",
       "var notebookContainer = gd.closest('#notebook-container');\n",
       "if (notebookContainer) {{\n",
       "    x.observe(notebookContainer, {childList: true});\n",
       "}}\n",
       "\n",
       "// Listen for the clearing of the current output cell\n",
       "var outputEl = gd.closest('.output');\n",
       "if (outputEl) {{\n",
       "    x.observe(outputEl, {childList: true});\n",
       "}}\n",
       "\n",
       "                        })                };                });            </script>        </div>"
      ]
     },
     "metadata": {},
     "output_type": "display_data"
    }
   ],
   "execution_count": 13
  }
 ],
 "metadata": {
  "kernelspec": {
   "display_name": "nof1-analysis-py",
   "language": "python",
   "name": "nof1-analysis-py"
  },
  "language_info": {
   "codemirror_mode": {
    "name": "ipython",
    "version": 2
   },
   "file_extension": ".py",
   "mimetype": "text/x-python",
   "name": "python",
   "nbconvert_exporter": "python",
   "pygments_lexer": "ipython2",
   "version": "2.7.6"
  }
 },
 "nbformat": 4,
 "nbformat_minor": 5
}
