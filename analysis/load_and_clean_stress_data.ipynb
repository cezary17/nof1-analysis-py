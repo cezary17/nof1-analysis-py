{
 "cells": [
  {
   "cell_type": "code",
   "id": "initial_id",
   "metadata": {
    "collapsed": true,
    "ExecuteTime": {
     "end_time": "2025-08-30T15:17:07.079151Z",
     "start_time": "2025-08-30T15:17:07.074152Z"
    }
   },
   "source": [
    "import polars as pl\n",
    "import datetime as dt"
   ],
   "outputs": [],
   "execution_count": 69
  },
  {
   "metadata": {
    "ExecuteTime": {
     "end_time": "2025-08-30T15:17:07.089731Z",
     "start_time": "2025-08-30T15:17:07.084967Z"
    }
   },
   "cell_type": "code",
   "source": [
    "df = pl.read_csv(\"../data/raw/stress_transcribed.csv\")\n",
    "df"
   ],
   "id": "f8244b7f0d84f116",
   "outputs": [
    {
     "data": {
      "text/plain": [
       "shape: (50, 4)\n",
       "┌────────────┬───────┬───────────────────┬───────────┐\n",
       "│ date       ┆ time  ┆ wellbeing_level   ┆ scale_1_5 │\n",
       "│ ---        ┆ ---   ┆ ---               ┆ ---       │\n",
       "│ str        ┆ str   ┆ str               ┆ i64       │\n",
       "╞════════════╪═══════╪═══════════════════╪═══════════╡\n",
       "│ 2025-06-09 ┆ 03:00 ┆ Neutral           ┆ 3         │\n",
       "│ 2025-06-08 ┆ 23:59 ┆ Pleasant          ┆ 4         │\n",
       "│ 2025-06-08 ┆ 05:50 ┆ Pleasant          ┆ 4         │\n",
       "│ 2025-06-07 ┆ 23:44 ┆ Very Pleasant     ┆ 5         │\n",
       "│ 2025-06-07 ┆ 03:03 ┆ Slightly Pleasant ┆ 4         │\n",
       "│ …          ┆ …     ┆ …                 ┆ …         │\n",
       "│ 2025-05-14 ┆ 14:01 ┆ Neutral           ┆ 3         │\n",
       "│ 2025-05-13 ┆ 18:00 ┆ Slightly Pleasant ┆ 4         │\n",
       "│ 2025-05-13 ┆ 14:00 ┆ Unpleasant        ┆ 2         │\n",
       "│ 2025-05-12 ┆ 18:01 ┆ Pleasant          ┆ 4         │\n",
       "│ 2025-05-12 ┆ 14:00 ┆ Pleasant          ┆ 4         │\n",
       "└────────────┴───────┴───────────────────┴───────────┘"
      ],
      "text/html": [
       "<div><style>\n",
       ".dataframe > thead > tr,\n",
       ".dataframe > tbody > tr {\n",
       "  text-align: right;\n",
       "  white-space: pre-wrap;\n",
       "}\n",
       "</style>\n",
       "<small>shape: (50, 4)</small><table border=\"1\" class=\"dataframe\"><thead><tr><th>date</th><th>time</th><th>wellbeing_level</th><th>scale_1_5</th></tr><tr><td>str</td><td>str</td><td>str</td><td>i64</td></tr></thead><tbody><tr><td>&quot;2025-06-09&quot;</td><td>&quot;03:00&quot;</td><td>&quot;Neutral&quot;</td><td>3</td></tr><tr><td>&quot;2025-06-08&quot;</td><td>&quot;23:59&quot;</td><td>&quot;Pleasant&quot;</td><td>4</td></tr><tr><td>&quot;2025-06-08&quot;</td><td>&quot;05:50&quot;</td><td>&quot;Pleasant&quot;</td><td>4</td></tr><tr><td>&quot;2025-06-07&quot;</td><td>&quot;23:44&quot;</td><td>&quot;Very Pleasant&quot;</td><td>5</td></tr><tr><td>&quot;2025-06-07&quot;</td><td>&quot;03:03&quot;</td><td>&quot;Slightly Pleasant&quot;</td><td>4</td></tr><tr><td>&hellip;</td><td>&hellip;</td><td>&hellip;</td><td>&hellip;</td></tr><tr><td>&quot;2025-05-14&quot;</td><td>&quot;14:01&quot;</td><td>&quot;Neutral&quot;</td><td>3</td></tr><tr><td>&quot;2025-05-13&quot;</td><td>&quot;18:00&quot;</td><td>&quot;Slightly Pleasant&quot;</td><td>4</td></tr><tr><td>&quot;2025-05-13&quot;</td><td>&quot;14:00&quot;</td><td>&quot;Unpleasant&quot;</td><td>2</td></tr><tr><td>&quot;2025-05-12&quot;</td><td>&quot;18:01&quot;</td><td>&quot;Pleasant&quot;</td><td>4</td></tr><tr><td>&quot;2025-05-12&quot;</td><td>&quot;14:00&quot;</td><td>&quot;Pleasant&quot;</td><td>4</td></tr></tbody></table></div>"
      ]
     },
     "execution_count": 70,
     "metadata": {},
     "output_type": "execute_result"
    }
   ],
   "execution_count": 70
  },
  {
   "metadata": {
    "ExecuteTime": {
     "end_time": "2025-08-30T15:17:07.112939Z",
     "start_time": "2025-08-30T15:17:07.111029Z"
    }
   },
   "cell_type": "code",
   "source": [
    "# experiment_start_date = \"2025-05-12\"\n",
    "# experiment_end_date = \"2025-06-06\" # maybe add monday 7th\n",
    "\n",
    "# additional_week_start_date = \"2025-06-30\"\n",
    "# additional_week_end_date = \"2025-07-06\" # maybe add monday 7th\n",
    "\n",
    "experiment_start_date = pl.datetime(2025, 5, 11, 16, time_zone=\"UTC\")\n",
    "experiment_end_date = pl.datetime(2025, 6, 8, 16, time_zone=\"UTC\")\n",
    "\n",
    "TREATMENT_WEEKS = [20, 22]\n",
    "CONTROL_WEEKS = [21, 23]\n",
    "\n",
    "emotion_map = {\n",
    "    \"Very Pleasant\": 7,\n",
    "    \"Pleasant\": 6,\n",
    "    \"Slightly Pleasant\": 5,\n",
    "    \"Neutral\": 4,\n",
    "    \"Slightly Unpleasant\": 3,\n",
    "    \"Unpleasant\": 2,\n",
    "    \"Very Unpleasant\": 1\n",
    "}"
   ],
   "id": "23e143b9f7285cda",
   "outputs": [],
   "execution_count": 71
  },
  {
   "metadata": {},
   "cell_type": "markdown",
   "source": "",
   "id": "4ec915dbd05c2e6a"
  },
  {
   "cell_type": "code",
   "id": "iv2yqxyfqxr",
   "source": [
    "df_clean = df.with_columns(\n",
    "    pl.concat_str([pl.col(\"date\"), pl.col(\"time\")], separator=\" \")\n",
    "    .str.to_datetime(format=\"%Y-%m-%d %H:%M\")\n",
    "    .alias(\"datetime\"),\n",
    "    pl.col(\"wellbeing_level\").replace(emotion_map).cast(pl.Int64).alias(\"emotion_score\")\n",
    ").with_columns(\n",
    "    pl.when(pl.col(\"datetime\") > pl.datetime(2025, 5, 31, 23, 59))\n",
    "    .then((pl.col(\"datetime\") - pl.duration(hours=9)))\n",
    "    .otherwise(pl.col(\"datetime\"))\n",
    ").with_columns(\n",
    "    pl.when(pl.col(\"datetime\").dt.week().is_in(TREATMENT_WEEKS))\n",
    "    .then(pl.lit(\"treatment\"))\n",
    "    .when(pl.col(\"datetime\").dt.week().is_in(CONTROL_WEEKS))\n",
    "    .then(pl.lit(\"control\"))\n",
    "    .otherwise(pl.lit(\"outside_experiment\"))\n",
    "    .alias(\"experiment_group\"),\n",
    "    pl.when(pl.col(\"datetime\").dt.time() < pl.time(17, 30))\n",
    "    .then(pl.lit(1))\n",
    "    .otherwise(pl.lit(2))\n",
    "    .alias(\"measurement_order\")\n",
    ")\n",
    "\n",
    "df_clean"
   ],
   "metadata": {
    "ExecuteTime": {
     "end_time": "2025-08-30T15:17:07.134131Z",
     "start_time": "2025-08-30T15:17:07.129576Z"
    }
   },
   "outputs": [
    {
     "data": {
      "text/plain": [
       "shape: (50, 8)\n",
       "┌────────────┬───────┬─────────────┬───────────┬────────────┬────────────┬────────────┬────────────┐\n",
       "│ date       ┆ time  ┆ wellbeing_l ┆ scale_1_5 ┆ datetime   ┆ emotion_sc ┆ experiment ┆ measuremen │\n",
       "│ ---        ┆ ---   ┆ evel        ┆ ---       ┆ ---        ┆ ore        ┆ _group     ┆ t_order    │\n",
       "│ str        ┆ str   ┆ ---         ┆ i64       ┆ datetime[μ ┆ ---        ┆ ---        ┆ ---        │\n",
       "│            ┆       ┆ str         ┆           ┆ s]         ┆ i64        ┆ str        ┆ i32        │\n",
       "╞════════════╪═══════╪═════════════╪═══════════╪════════════╪════════════╪════════════╪════════════╡\n",
       "│ 2025-06-09 ┆ 03:00 ┆ Neutral     ┆ 3         ┆ 2025-06-08 ┆ 4          ┆ control    ┆ 2          │\n",
       "│            ┆       ┆             ┆           ┆ 18:00:00   ┆            ┆            ┆            │\n",
       "│ 2025-06-08 ┆ 23:59 ┆ Pleasant    ┆ 4         ┆ 2025-06-08 ┆ 6          ┆ control    ┆ 1          │\n",
       "│            ┆       ┆             ┆           ┆ 14:59:00   ┆            ┆            ┆            │\n",
       "│ 2025-06-08 ┆ 05:50 ┆ Pleasant    ┆ 4         ┆ 2025-06-07 ┆ 6          ┆ control    ┆ 2          │\n",
       "│            ┆       ┆             ┆           ┆ 20:50:00   ┆            ┆            ┆            │\n",
       "│ 2025-06-07 ┆ 23:44 ┆ Very        ┆ 5         ┆ 2025-06-07 ┆ 7          ┆ control    ┆ 1          │\n",
       "│            ┆       ┆ Pleasant    ┆           ┆ 14:44:00   ┆            ┆            ┆            │\n",
       "│ 2025-06-07 ┆ 03:03 ┆ Slightly    ┆ 4         ┆ 2025-06-06 ┆ 5          ┆ control    ┆ 2          │\n",
       "│            ┆       ┆ Pleasant    ┆           ┆ 18:03:00   ┆            ┆            ┆            │\n",
       "│ …          ┆ …     ┆ …           ┆ …         ┆ …          ┆ …          ┆ …          ┆ …          │\n",
       "│ 2025-05-14 ┆ 14:01 ┆ Neutral     ┆ 3         ┆ 2025-05-14 ┆ 4          ┆ treatment  ┆ 1          │\n",
       "│            ┆       ┆             ┆           ┆ 14:01:00   ┆            ┆            ┆            │\n",
       "│ 2025-05-13 ┆ 18:00 ┆ Slightly    ┆ 4         ┆ 2025-05-13 ┆ 5          ┆ treatment  ┆ 2          │\n",
       "│            ┆       ┆ Pleasant    ┆           ┆ 18:00:00   ┆            ┆            ┆            │\n",
       "│ 2025-05-13 ┆ 14:00 ┆ Unpleasant  ┆ 2         ┆ 2025-05-13 ┆ 2          ┆ treatment  ┆ 1          │\n",
       "│            ┆       ┆             ┆           ┆ 14:00:00   ┆            ┆            ┆            │\n",
       "│ 2025-05-12 ┆ 18:01 ┆ Pleasant    ┆ 4         ┆ 2025-05-12 ┆ 6          ┆ treatment  ┆ 2          │\n",
       "│            ┆       ┆             ┆           ┆ 18:01:00   ┆            ┆            ┆            │\n",
       "│ 2025-05-12 ┆ 14:00 ┆ Pleasant    ┆ 4         ┆ 2025-05-12 ┆ 6          ┆ treatment  ┆ 1          │\n",
       "│            ┆       ┆             ┆           ┆ 14:00:00   ┆            ┆            ┆            │\n",
       "└────────────┴───────┴─────────────┴───────────┴────────────┴────────────┴────────────┴────────────┘"
      ],
      "text/html": [
       "<div><style>\n",
       ".dataframe > thead > tr,\n",
       ".dataframe > tbody > tr {\n",
       "  text-align: right;\n",
       "  white-space: pre-wrap;\n",
       "}\n",
       "</style>\n",
       "<small>shape: (50, 8)</small><table border=\"1\" class=\"dataframe\"><thead><tr><th>date</th><th>time</th><th>wellbeing_level</th><th>scale_1_5</th><th>datetime</th><th>emotion_score</th><th>experiment_group</th><th>measurement_order</th></tr><tr><td>str</td><td>str</td><td>str</td><td>i64</td><td>datetime[μs]</td><td>i64</td><td>str</td><td>i32</td></tr></thead><tbody><tr><td>&quot;2025-06-09&quot;</td><td>&quot;03:00&quot;</td><td>&quot;Neutral&quot;</td><td>3</td><td>2025-06-08 18:00:00</td><td>4</td><td>&quot;control&quot;</td><td>2</td></tr><tr><td>&quot;2025-06-08&quot;</td><td>&quot;23:59&quot;</td><td>&quot;Pleasant&quot;</td><td>4</td><td>2025-06-08 14:59:00</td><td>6</td><td>&quot;control&quot;</td><td>1</td></tr><tr><td>&quot;2025-06-08&quot;</td><td>&quot;05:50&quot;</td><td>&quot;Pleasant&quot;</td><td>4</td><td>2025-06-07 20:50:00</td><td>6</td><td>&quot;control&quot;</td><td>2</td></tr><tr><td>&quot;2025-06-07&quot;</td><td>&quot;23:44&quot;</td><td>&quot;Very Pleasant&quot;</td><td>5</td><td>2025-06-07 14:44:00</td><td>7</td><td>&quot;control&quot;</td><td>1</td></tr><tr><td>&quot;2025-06-07&quot;</td><td>&quot;03:03&quot;</td><td>&quot;Slightly Pleasant&quot;</td><td>4</td><td>2025-06-06 18:03:00</td><td>5</td><td>&quot;control&quot;</td><td>2</td></tr><tr><td>&hellip;</td><td>&hellip;</td><td>&hellip;</td><td>&hellip;</td><td>&hellip;</td><td>&hellip;</td><td>&hellip;</td><td>&hellip;</td></tr><tr><td>&quot;2025-05-14&quot;</td><td>&quot;14:01&quot;</td><td>&quot;Neutral&quot;</td><td>3</td><td>2025-05-14 14:01:00</td><td>4</td><td>&quot;treatment&quot;</td><td>1</td></tr><tr><td>&quot;2025-05-13&quot;</td><td>&quot;18:00&quot;</td><td>&quot;Slightly Pleasant&quot;</td><td>4</td><td>2025-05-13 18:00:00</td><td>5</td><td>&quot;treatment&quot;</td><td>2</td></tr><tr><td>&quot;2025-05-13&quot;</td><td>&quot;14:00&quot;</td><td>&quot;Unpleasant&quot;</td><td>2</td><td>2025-05-13 14:00:00</td><td>2</td><td>&quot;treatment&quot;</td><td>1</td></tr><tr><td>&quot;2025-05-12&quot;</td><td>&quot;18:01&quot;</td><td>&quot;Pleasant&quot;</td><td>4</td><td>2025-05-12 18:01:00</td><td>6</td><td>&quot;treatment&quot;</td><td>2</td></tr><tr><td>&quot;2025-05-12&quot;</td><td>&quot;14:00&quot;</td><td>&quot;Pleasant&quot;</td><td>4</td><td>2025-05-12 14:00:00</td><td>6</td><td>&quot;treatment&quot;</td><td>1</td></tr></tbody></table></div>"
      ]
     },
     "execution_count": 72,
     "metadata": {},
     "output_type": "execute_result"
    }
   ],
   "execution_count": 72
  },
  {
   "metadata": {
    "ExecuteTime": {
     "end_time": "2025-08-30T15:17:07.152933Z",
     "start_time": "2025-08-30T15:17:07.150602Z"
    }
   },
   "cell_type": "code",
   "source": "df_clean.write_csv(\"../data/processed/cleaned_stress_data.csv\")",
   "id": "8fbf8a50ee4e0ae1",
   "outputs": [],
   "execution_count": 73
  }
 ],
 "metadata": {
  "kernelspec": {
   "display_name": "nof1-analysis-py",
   "language": "python",
   "name": "nof1-analysis-py"
  },
  "language_info": {
   "codemirror_mode": {
    "name": "ipython",
    "version": 2
   },
   "file_extension": ".py",
   "mimetype": "text/x-python",
   "name": "python",
   "nbconvert_exporter": "python",
   "pygments_lexer": "ipython2",
   "version": "2.7.6"
  }
 },
 "nbformat": 4,
 "nbformat_minor": 5
}
